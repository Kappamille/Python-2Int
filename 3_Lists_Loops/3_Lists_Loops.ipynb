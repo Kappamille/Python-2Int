{
 "cells": [
  {
   "cell_type": "markdown",
   "metadata": {
    "cell_id": "00000-a53defec-262b-484c-9398-d36f40bac945",
    "deepnote_cell_type": "markdown",
    "id": "aQ5yUlbX7_5f",
    "tags": []
   },
   "source": [
    "# Lists and loops\n",
    "Camille Duquesne - 2Int"
   ]
  },
  {
   "cell_type": "markdown",
   "metadata": {
    "cell_id": "00001-331dc49d-e2aa-43d2-a53b-4b753588850c",
    "deepnote_cell_type": "markdown",
    "id": "8UAPMCBt7_5i",
    "tags": []
   },
   "source": [
    "Class objectives:\n",
    "- Recognizing a list in python\n",
    "- Defining a collection\n",
    "- Accessing list elements through their indexes\n",
    "- Using list Slicing\n",
    "- Using list concatenation\n",
    "- Using standard list methods\n",
    "- Creating a list\n",
    "- Iterating over elements of a list with a for loop\n",
    "- Using the range() function with for loops\n",
    "- Combining for loops and boolean conditions"
   ]
  },
  {
   "cell_type": "markdown",
   "metadata": {},
   "source": [
    "## Scratch solution\n",
    "<img src=\"Scratch.png\"\n",
    "     alt=\"Scratch solution\"\n",
    "     width=\"400\"/>"
   ]
  },
  {
   "cell_type": "markdown",
   "metadata": {},
   "source": [
    "## And now in Python !"
   ]
  },
  {
   "cell_type": "markdown",
   "metadata": {},
   "source": [
    "Let's recreate our backpack from before:"
   ]
  },
  {
   "cell_type": "code",
   "execution_count": 1,
   "metadata": {},
   "outputs": [],
   "source": [
    "backpack = ['pencilcase', 'carte de sortie', 'bottle of water', 'ipad']"
   ]
  },
  {
   "cell_type": "code",
   "execution_count": 2,
   "metadata": {},
   "outputs": [
    {
     "name": "stdout",
     "output_type": "stream",
     "text": [
      "['pencilcase', 'carte de sortie', 'bottle of water', 'ipad']\n"
     ]
    }
   ],
   "source": [
    "print(backpack)"
   ]
  },
  {
   "cell_type": "code",
   "execution_count": 3,
   "metadata": {},
   "outputs": [
    {
     "data": {
      "text/plain": [
       "list"
      ]
     },
     "execution_count": 3,
     "metadata": {},
     "output_type": "execute_result"
    }
   ],
   "source": [
    "type(backpack)"
   ]
  },
  {
   "cell_type": "markdown",
   "metadata": {},
   "source": [
    "We indeed created a <strong><span style=\"color:#8e44ad\">list</span></strong> here ! \n",
    "* How can you recognize that we created a list without checking the type ?"
   ]
  },
  {
   "cell_type": "markdown",
   "metadata": {},
   "source": [
    "We can check how big ourbackpack is:"
   ]
  },
  {
   "cell_type": "code",
   "execution_count": 4,
   "metadata": {},
   "outputs": [
    {
     "data": {
      "text/plain": [
       "4"
      ]
     },
     "execution_count": 4,
     "metadata": {},
     "output_type": "execute_result"
    }
   ],
   "source": [
    "len(backpack)"
   ]
  },
  {
   "cell_type": "markdown",
   "metadata": {},
   "source": [
    "And we can also check specific pockets of our backpack, this is called checking the <strong><span style=\"color:#8e44ad\">element</span></strong> at a specific <strong><span style=\"color:#8e44ad\">index</span></strong> of a <strong><span style=\"color:#8e44ad\">list</span></strong>:"
   ]
  },
  {
   "cell_type": "code",
   "execution_count": 5,
   "metadata": {},
   "outputs": [
    {
     "name": "stdout",
     "output_type": "stream",
     "text": [
      "pencilcase\n"
     ]
    }
   ],
   "source": [
    "print(backpack[0])"
   ]
  },
  {
   "cell_type": "code",
   "execution_count": null,
   "metadata": {},
   "outputs": [],
   "source": [
    "print(backpack[1])"
   ]
  },
  {
   "cell_type": "code",
   "execution_count": 6,
   "metadata": {},
   "outputs": [
    {
     "name": "stdout",
     "output_type": "stream",
     "text": [
      "bottle of water\n"
     ]
    }
   ],
   "source": [
    "print(backpack[2])"
   ]
  },
  {
   "cell_type": "code",
   "execution_count": 7,
   "metadata": {},
   "outputs": [
    {
     "name": "stdout",
     "output_type": "stream",
     "text": [
      "ipad\n"
     ]
    }
   ],
   "source": [
    "print(backpack[-1]) #negative indexing"
   ]
  },
  {
   "cell_type": "code",
   "execution_count": 8,
   "metadata": {},
   "outputs": [
    {
     "name": "stdout",
     "output_type": "stream",
     "text": [
      "bottle of water\n"
     ]
    }
   ],
   "source": [
    "print(backpack[-2])"
   ]
  },
  {
   "cell_type": "code",
   "execution_count": 9,
   "metadata": {},
   "outputs": [
    {
     "ename": "IndexError",
     "evalue": "list index out of range",
     "output_type": "error",
     "traceback": [
      "\u001b[0;31m---------------------------------------------------------------------------\u001b[0m",
      "\u001b[0;31mIndexError\u001b[0m                                Traceback (most recent call last)",
      "Input \u001b[0;32mIn [9]\u001b[0m, in \u001b[0;36m<cell line: 1>\u001b[0;34m()\u001b[0m\n\u001b[0;32m----> 1\u001b[0m \u001b[38;5;28mprint\u001b[39m(\u001b[43mbackpack\u001b[49m\u001b[43m[\u001b[49m\u001b[38;5;241;43m10\u001b[39;49m\u001b[43m]\u001b[49m)\n",
      "\u001b[0;31mIndexError\u001b[0m: list index out of range"
     ]
    }
   ],
   "source": [
    "print(backpack[10])"
   ]
  },
  {
   "cell_type": "markdown",
   "metadata": {},
   "source": [
    "* What is the <strong><span style=\"color:#8e44ad\">syntax</span></strong> used to check a specific backpack pocket ?"
   ]
  },
  {
   "cell_type": "markdown",
   "metadata": {},
   "source": [
    "We can have a backpack with different types of elements:"
   ]
  },
  {
   "cell_type": "code",
   "execution_count": 10,
   "metadata": {},
   "outputs": [],
   "source": [
    "messy_backpack = ['broken pen', 3, True, 'scrap paper', 6.7542, False]"
   ]
  },
  {
   "cell_type": "markdown",
   "metadata": {},
   "source": [
    "And we can have <strong><span style=\"color:#8e44ad\">empty lists</span></strong> (= empty backpacks):"
   ]
  },
  {
   "cell_type": "code",
   "execution_count": 13,
   "metadata": {},
   "outputs": [],
   "source": [
    "empty_backpack = []"
   ]
  },
  {
   "cell_type": "code",
   "execution_count": 14,
   "metadata": {},
   "outputs": [
    {
     "data": {
      "text/plain": [
       "list"
      ]
     },
     "execution_count": 14,
     "metadata": {},
     "output_type": "execute_result"
    }
   ],
   "source": [
    "type(empty_backpack)"
   ]
  },
  {
   "cell_type": "code",
   "execution_count": 15,
   "metadata": {},
   "outputs": [
    {
     "data": {
      "text/plain": [
       "0"
      ]
     },
     "execution_count": 15,
     "metadata": {},
     "output_type": "execute_result"
    }
   ],
   "source": [
    "len(empty_backpack)"
   ]
  },
  {
   "cell_type": "markdown",
   "metadata": {},
   "source": [
    "We can also take out more than one item at a time of our backpack. With <strong><span style=\"color:#8e44ad\">slicing</span></strong> we can take out a <strong><span style=\"color:#8e44ad\">subset</span></strong> of the backpack (like those pouches that detach from a backpack).\n",
    "\n",
    "For example if I want a pouch with the three first items of the backpack"
   ]
  },
  {
   "cell_type": "code",
   "execution_count": 16,
   "metadata": {},
   "outputs": [
    {
     "data": {
      "text/plain": [
       "['pencilcase', 'carte de sortie', 'bottle of water']"
      ]
     },
     "execution_count": 16,
     "metadata": {},
     "output_type": "execute_result"
    }
   ],
   "source": [
    "backpack[0:3]"
   ]
  },
  {
   "cell_type": "markdown",
   "metadata": {},
   "source": [
    "* What is the <strong><span style=\"color:#8e44ad\">syntax</span></strong> used for slicing ?\n",
    "* What do you notice about the <strong><span style=\"color:#8e44ad\">start index</span></strong> ? What about the <strong><span style=\"color:#8e44ad\">stop index</span></strong>?"
   ]
  },
  {
   "cell_type": "code",
   "execution_count": 19,
   "metadata": {},
   "outputs": [
    {
     "data": {
      "text/plain": [
       "['carte de sortie', 'bottle of water', 'ipad']"
      ]
     },
     "execution_count": 19,
     "metadata": {},
     "output_type": "execute_result"
    }
   ],
   "source": [
    "backpack[1:4]"
   ]
  },
  {
   "cell_type": "code",
   "execution_count": 24,
   "metadata": {},
   "outputs": [
    {
     "data": {
      "text/plain": [
       "['carte de sortie', 'bottle of water']"
      ]
     },
     "execution_count": 24,
     "metadata": {},
     "output_type": "execute_result"
    }
   ],
   "source": [
    "backpack[-4:-1]"
   ]
  },
  {
   "cell_type": "code",
   "execution_count": 27,
   "metadata": {},
   "outputs": [
    {
     "data": {
      "text/plain": [
       "['pencilcase', 'bottle of water']"
      ]
     },
     "execution_count": 27,
     "metadata": {},
     "output_type": "execute_result"
    }
   ],
   "source": [
    "backpack[0:4:2]"
   ]
  },
  {
   "cell_type": "markdown",
   "metadata": {},
   "source": [
    "* What did the last number of the slicing do in the previous step ?\n",
    "* How could you reverse the order of the list with slicing ?"
   ]
  },
  {
   "cell_type": "code",
   "execution_count": null,
   "metadata": {},
   "outputs": [],
   "source": []
  },
  {
   "cell_type": "markdown",
   "metadata": {},
   "source": [
    "With <strong><span style=\"color:#8e44ad\">concatenation</span></strong> we can group two backpacks into one big backpack:"
   ]
  },
  {
   "cell_type": "code",
   "execution_count": null,
   "metadata": {
    "cell_id": "00011-7afcaa9b-39bf-48a1-b969-078dbd5601c5",
    "colab": {
     "base_uri": "https://localhost:8080/"
    },
    "deepnote_cell_type": "code",
    "deepnote_to_be_reexecuted": false,
    "execution_millis": 0,
    "execution_start": 1628531549874,
    "id": "h3qK8ND77_5p",
    "outputId": "73c0a7cd-d1a2-4075-ee05-df0b01748426",
    "source_hash": "cd202ebf",
    "tags": []
   },
   "outputs": [
    {
     "data": {
      "text/plain": [
       "[1, 2, 3, 4, 5, 6]"
      ]
     },
     "execution_count": 16,
     "metadata": {},
     "output_type": "execute_result"
    }
   ],
   "source": [
    "[1,2,3] + [4,5,6] "
   ]
  },
  {
   "cell_type": "code",
   "execution_count": 28,
   "metadata": {},
   "outputs": [
    {
     "name": "stdout",
     "output_type": "stream",
     "text": [
      "['pencilcase', 'carte de sortie', 'bottle of water', 'ipad', 'broken pen', 3, True, 'scrap paper', 6.7542, False]\n"
     ]
    }
   ],
   "source": [
    "big_backpack = backpack + messy_backpack\n",
    "print(big_backpack)"
   ]
  },
  {
   "cell_type": "markdown",
   "metadata": {},
   "source": [
    "With the function <strong><span style=\"color:#8e44ad\">append()</span></strong> with can add new <strong><span style=\"color:#8e44ad\">elements</span></strong> to the end of the list:"
   ]
  },
  {
   "cell_type": "code",
   "execution_count": 29,
   "metadata": {},
   "outputs": [
    {
     "name": "stdout",
     "output_type": "stream",
     "text": [
      "['pencilcase', 'carte de sortie', 'bottle of water', 'ipad', 'computer_science_notebook']\n"
     ]
    }
   ],
   "source": [
    "backpack.append('computer_science_notebook')\n",
    "print(backpack)"
   ]
  },
  {
   "cell_type": "markdown",
   "metadata": {},
   "source": [
    "* What happens if I run the previous cell again ?\n",
    "* Why is the syntax for using the `append()` function different than for using the `len()` function ?\n",
    "* What are other existing list functions that we can use ? (you can search the internet for an answer)"
   ]
  },
  {
   "cell_type": "markdown",
   "metadata": {},
   "source": []
  },
  {
   "cell_type": "markdown",
   "metadata": {},
   "source": [
    "## Let's test your understanding"
   ]
  },
  {
   "cell_type": "code",
   "execution_count": 31,
   "metadata": {},
   "outputs": [],
   "source": [
    "cities = ['Paris', 'London', 'Marseille', 'Vienna', 'Berlin']"
   ]
  },
  {
   "cell_type": "code",
   "execution_count": 32,
   "metadata": {},
   "outputs": [
    {
     "name": "stdout",
     "output_type": "stream",
     "text": [
      "Vienna\n"
     ]
    }
   ],
   "source": [
    "cities[3]"
   ]
  },
  {
   "cell_type": "code",
   "execution_count": 33,
   "metadata": {},
   "outputs": [
    {
     "data": {
      "text/plain": [
       "['London']"
      ]
     },
     "execution_count": 33,
     "metadata": {},
     "output_type": "execute_result"
    }
   ],
   "source": [
    "cities[1:2]"
   ]
  },
  {
   "cell_type": "code",
   "execution_count": 34,
   "metadata": {},
   "outputs": [
    {
     "data": {
      "text/plain": [
       "['Paris', 'London', 'Marseille', 'Vienna', 'Berlin', 'Stockholm', 'Dublin']"
      ]
     },
     "execution_count": 34,
     "metadata": {},
     "output_type": "execute_result"
    }
   ],
   "source": [
    "cities + ['Stockholm', 'Dublin']"
   ]
  },
  {
   "cell_type": "code",
   "execution_count": 35,
   "metadata": {},
   "outputs": [
    {
     "data": {
      "text/plain": [
       "5"
      ]
     },
     "execution_count": 35,
     "metadata": {},
     "output_type": "execute_result"
    }
   ],
   "source": [
    "len(cities)"
   ]
  },
  {
   "cell_type": "code",
   "execution_count": 36,
   "metadata": {},
   "outputs": [],
   "source": [
    "cities = cities + ['Stockholm', 'Dublin']"
   ]
  },
  {
   "cell_type": "code",
   "execution_count": 37,
   "metadata": {},
   "outputs": [
    {
     "data": {
      "text/plain": [
       "'Dublin'"
      ]
     },
     "execution_count": 37,
     "metadata": {},
     "output_type": "execute_result"
    }
   ],
   "source": [
    "cities[-1]"
   ]
  },
  {
   "cell_type": "code",
   "execution_count": 38,
   "metadata": {},
   "outputs": [],
   "source": [
    "cities.append('Lyon')"
   ]
  },
  {
   "cell_type": "code",
   "execution_count": 39,
   "metadata": {},
   "outputs": [
    {
     "data": {
      "text/plain": [
       "['Paris',\n",
       " 'London',\n",
       " 'Marseille',\n",
       " 'Vienna',\n",
       " 'Berlin',\n",
       " 'Stockholm',\n",
       " 'Dublin',\n",
       " 'Lyon']"
      ]
     },
     "execution_count": 39,
     "metadata": {},
     "output_type": "execute_result"
    }
   ],
   "source": [
    "cities"
   ]
  },
  {
   "cell_type": "code",
   "execution_count": 40,
   "metadata": {},
   "outputs": [
    {
     "data": {
      "text/plain": [
       "['Marseille', 'Stockholm']"
      ]
     },
     "execution_count": 40,
     "metadata": {},
     "output_type": "execute_result"
    }
   ],
   "source": [
    "cities[2:7:3]"
   ]
  },
  {
   "cell_type": "code",
   "execution_count": 41,
   "metadata": {},
   "outputs": [
    {
     "data": {
      "text/plain": [
       "['Lyon']"
      ]
     },
     "execution_count": 41,
     "metadata": {},
     "output_type": "execute_result"
    }
   ],
   "source": [
    "cities[7:4256]"
   ]
  },
  {
   "cell_type": "code",
   "execution_count": null,
   "metadata": {},
   "outputs": [],
   "source": [
    "cities(2)"
   ]
  },
  {
   "cell_type": "markdown",
   "metadata": {
    "cell_id": "00003-1b5f91f8-ac18-4978-a049-784652432c67",
    "deepnote_cell_type": "markdown",
    "id": "MjZrBwaS7_5v",
    "tags": []
   },
   "source": [
    "## Loops\n",
    "Imagine you have a very big backpack (more than 100 elements) and you want to check what you have in every pocket, that's going to take a loooong time. \n",
    "You have to open the pocket, take out the item, hold the item, identify the item, put it back into the pocket and close the pocket. "
   ]
  },
  {
   "cell_type": "code",
   "execution_count": 42,
   "metadata": {},
   "outputs": [],
   "source": [
    "backpack = ['pencilcase', 'carte de sortie', 'bottle of water', 'ipad']"
   ]
  },
  {
   "cell_type": "code",
   "execution_count": 43,
   "metadata": {},
   "outputs": [
    {
     "name": "stdout",
     "output_type": "stream",
     "text": [
      "pencilcase\n",
      "carte de sortie\n",
      "bottle of water\n",
      "ipad\n"
     ]
    }
   ],
   "source": [
    "print(backpack[0])\n",
    "print(backpack[1])\n",
    "print(backpack[2])\n",
    "print(backpack[3])"
   ]
  },
  {
   "cell_type": "markdown",
   "metadata": {},
   "source": [
    "Now imagine you have a machine that can repeat these previous steps, since the procedure for checking the items of your backpack is always the same.\n",
    "That machine is what we call a <strong><span style=\"color:#8e44ad\">for loop</span></strong> in python."
   ]
  },
  {
   "cell_type": "code",
   "execution_count": 44,
   "metadata": {},
   "outputs": [
    {
     "name": "stdout",
     "output_type": "stream",
     "text": [
      "pencilcase\n",
      "carte de sortie\n",
      "bottle of water\n",
      "ipad\n"
     ]
    }
   ],
   "source": [
    "for item in backpack:\n",
    "    print(item)"
   ]
  },
  {
   "cell_type": "markdown",
   "metadata": {},
   "source": [
    "The <strong><span style=\"color:#8e44ad\">for loop</span></strong> always starts with the keyword <strong><span style=\"color:#8e44ad\">for</span></strong>. After that you have the current item that the machine holds `item`, the <strong><span style=\"color:#8e44ad\">in</span></strong> keyword, and then finally the collection of items that it has to check `backpack`.\n",
    "The collection of items is called an <strong><span style=\"color:#8e44ad\">iterable</span></strong>, here a list (=backpack), and the current item that the machine holds is called an <strong><span style=\"color:#8e44ad\">iterator</span></strong>.\n",
    "* Do you remember what we call what comes after a colon `:` ?"
   ]
  },
  {
   "cell_type": "markdown",
   "metadata": {},
   "source": [
    "Let's try this for loop for with a list of numbers:"
   ]
  },
  {
   "cell_type": "code",
   "execution_count": null,
   "metadata": {
    "cell_id": "00029-99dbaead-b2db-46bc-b5c9-bdd2f6bc7c60",
    "deepnote_cell_type": "code",
    "deepnote_to_be_reexecuted": false,
    "execution_millis": 2,
    "execution_start": 1628587104009,
    "id": "M0fFgi1B7_5v",
    "source_hash": "95df1f30",
    "tags": []
   },
   "outputs": [],
   "source": [
    "numbers = [10, 5, 20, 4, 2, 10]"
   ]
  },
  {
   "cell_type": "code",
   "execution_count": null,
   "metadata": {
    "cell_id": "00030-286d78b6-2a40-4582-a2e6-13e4973866e9",
    "colab": {
     "base_uri": "https://localhost:8080/"
    },
    "deepnote_cell_type": "code",
    "deepnote_to_be_reexecuted": false,
    "execution_millis": 7,
    "execution_start": 1628587104320,
    "id": "CYHptM8E7_5w",
    "outputId": "01cf5017-b186-44a6-9011-1309d29dea8a",
    "source_hash": "42bf875c",
    "tags": []
   },
   "outputs": [
    {
     "name": "stdout",
     "output_type": "stream",
     "text": [
      "10\n",
      "5\n",
      "20\n",
      "4\n",
      "2\n",
      "10\n"
     ]
    }
   ],
   "source": [
    "#the iterator \"number\" takes in turns each value of the list numbers\n",
    "for number in numbers:\n",
    "    print(number)"
   ]
  },
  {
   "cell_type": "code",
   "execution_count": null,
   "metadata": {
    "cell_id": "00031-332b8e80-4f58-4f8a-8052-5ed350ca4a4c",
    "colab": {
     "base_uri": "https://localhost:8080/"
    },
    "deepnote_cell_type": "code",
    "deepnote_to_be_reexecuted": false,
    "execution_millis": 2,
    "execution_start": 1628587066289,
    "id": "zxOhF3Wz7_5w",
    "outputId": "a540857d-f4f2-44a9-c9e5-bac62dc7fefa",
    "source_hash": "d4aa7377",
    "tags": []
   },
   "outputs": [
    {
     "name": "stdout",
     "output_type": "stream",
     "text": [
      "lion\n",
      "chat\n",
      "fish\n",
      "ant\n"
     ]
    }
   ],
   "source": [
    "animals = ['lion', 'chat', 'fish', 'ant']\n",
    "\n",
    "for animal in animals:\n",
    "    print(animal)"
   ]
  },
  {
   "cell_type": "markdown",
   "metadata": {},
   "source": [
    "* What if I change my iterator's name to `a` in the previous cell ? Does the loop still work ? "
   ]
  },
  {
   "cell_type": "markdown",
   "metadata": {},
   "source": [
    "A loop on it's own is great, but what's even better is to combine a loop with other operations! \\\n",
    "Let's filter our list given a specific threshold:"
   ]
  },
  {
   "cell_type": "code",
   "execution_count": null,
   "metadata": {
    "cell_id": "00034-f21fbcd5-70a0-486c-a743-5a664e3261ce",
    "colab": {
     "base_uri": "https://localhost:8080/"
    },
    "deepnote_cell_type": "code",
    "deepnote_to_be_reexecuted": false,
    "execution_millis": 6,
    "execution_start": 1628587106046,
    "id": "WJVO3ukV7_5y",
    "outputId": "9e1a0f9e-4acd-4d47-f28c-3b678f422d73",
    "source_hash": "4bdf4b98",
    "tags": []
   },
   "outputs": [
    {
     "name": "stdout",
     "output_type": "stream",
     "text": [
      "[10, 5, 20, 4, 2, 10]\n",
      "20\n"
     ]
    }
   ],
   "source": [
    "print(numbers)\n",
    "threshold = 15\n",
    "\n",
    "for number in numbers:\n",
    "    if number >= threshold:\n",
    "        print(number)"
   ]
  },
  {
   "cell_type": "markdown",
   "metadata": {},
   "source": [
    "* How could you modify the previous program to only output the numbers that are not equal to 10 ?"
   ]
  },
  {
   "cell_type": "code",
   "execution_count": null,
   "metadata": {
    "cell_id": "00035-94a313c4-72f3-4c2c-a157-e57ed51381f1",
    "colab": {
     "base_uri": "https://localhost:8080/"
    },
    "deepnote_cell_type": "code",
    "deepnote_to_be_reexecuted": false,
    "execution_millis": 9,
    "execution_start": 1628532324517,
    "id": "0IzijSOd7_5z",
    "outputId": "c596fd71-76d1-49f2-b5cd-165eeb6afd20",
    "source_hash": "b3fbf8be",
    "tags": []
   },
   "outputs": [],
   "source": []
  },
  {
   "cell_type": "markdown",
   "metadata": {},
   "source": [
    "We can also try to count the number of elements in our list:"
   ]
  },
  {
   "cell_type": "code",
   "execution_count": null,
   "metadata": {
    "cell_id": "00032-5d30ec7c-a149-4395-98e3-ed003d24ef66",
    "colab": {
     "base_uri": "https://localhost:8080/"
    },
    "deepnote_cell_type": "code",
    "deepnote_to_be_reexecuted": false,
    "execution_millis": 4,
    "execution_start": 1628587203401,
    "id": "tJDEHoJS7_50",
    "outputId": "dc9bd661-aa2c-4ec3-f9d7-638d96be79e3",
    "source_hash": "d3fc63f5",
    "tags": []
   },
   "outputs": [
    {
     "name": "stdout",
     "output_type": "stream",
     "text": [
      "6\n"
     ]
    }
   ],
   "source": [
    "counter = 0 \n",
    "\n",
    "for number in numbers:\n",
    "    counter = counter + 1\n",
    "\n",
    "print(counter)"
   ]
  },
  {
   "cell_type": "markdown",
   "metadata": {},
   "source": [
    "* However, don't we already have a function that is able to count the number of elements in a list ?"
   ]
  },
  {
   "cell_type": "markdown",
   "metadata": {},
   "source": [
    "If we want to create a range of number to <strong><span style=\"color:#8e44ad\">iterate</span></strong> on with a for loop we can use the <strong><span style=\"color:#8e44ad\"> range() </span></strong> function that creates an <strong><span style=\"color:#8e44ad\">iterable sequence of numbers.</span></strong>"
   ]
  },
  {
   "cell_type": "code",
   "execution_count": null,
   "metadata": {
    "cell_id": "00036-c6abc6a1-42b1-4dcb-b781-464d5da1ae5e",
    "colab": {
     "base_uri": "https://localhost:8080/"
    },
    "deepnote_cell_type": "code",
    "deepnote_to_be_reexecuted": false,
    "execution_millis": 6,
    "execution_start": 1628532349838,
    "id": "8yDREiwh7_51",
    "outputId": "1c38c38b-6ff2-45bd-e37e-0253cb6e0f24",
    "source_hash": "2bbb8bee",
    "tags": []
   },
   "outputs": [
    {
     "name": "stdout",
     "output_type": "stream",
     "text": [
      "0\n"
     ]
    }
   ],
   "source": [
    "for i in range(0,5):\n",
    "    print(i)"
   ]
  },
  {
   "cell_type": "code",
   "execution_count": null,
   "metadata": {
    "cell_id": "00036-6d299468-13f0-440f-94ca-6097ab1d4e08",
    "colab": {
     "base_uri": "https://localhost:8080/"
    },
    "deepnote_cell_type": "code",
    "deepnote_to_be_reexecuted": false,
    "execution_millis": 5,
    "execution_start": 1628534260366,
    "id": "VmJInYje7_51",
    "outputId": "7f9bce2d-e910-4356-df80-c319a3db43bc",
    "source_hash": "98114fbd",
    "tags": []
   },
   "outputs": [
    {
     "data": {
      "text/plain": [
       "range(0, 5)"
      ]
     },
     "execution_count": 52,
     "metadata": {},
     "output_type": "execute_result"
    }
   ],
   "source": [
    "# By default range begins at 0\n",
    "for i in range(5):\n",
    "    print(i)"
   ]
  },
  {
   "cell_type": "code",
   "execution_count": null,
   "metadata": {
    "cell_id": "00039-f1ec15eb-e75d-47b8-bd70-9712b019f189",
    "colab": {
     "base_uri": "https://localhost:8080/"
    },
    "deepnote_cell_type": "code",
    "deepnote_to_be_reexecuted": false,
    "execution_millis": 4,
    "execution_start": 1628532488770,
    "id": "TZ_uaU8w7_52",
    "outputId": "73d9c8ce-36ee-48ab-9718-1958214fd6b2",
    "source_hash": "36003f9f",
    "tags": []
   },
   "outputs": [
    {
     "name": "stdout",
     "output_type": "stream",
     "text": [
      "2\n",
      "3\n",
      "4\n",
      "5\n",
      "6\n",
      "7\n",
      "8\n",
      "9\n"
     ]
    }
   ],
   "source": [
    "for i in range(2, 10):\n",
    "    print(i)"
   ]
  },
  {
   "cell_type": "markdown",
   "metadata": {},
   "source": [
    "* What do you notice about the <strong><span style=\"color:#8e44ad\">start index</span></strong> ? What about the <strong><span style=\"color:#8e44ad\">stop index</span></strong>?\n",
    "\n",
    "We can also add a <strong><span style=\"color:#8e44ad\">step</span></strong> to our range:"
   ]
  },
  {
   "cell_type": "code",
   "execution_count": null,
   "metadata": {
    "cell_id": "00041-a978bca2-de6e-4552-be01-1a47d6475d17",
    "colab": {
     "base_uri": "https://localhost:8080/"
    },
    "deepnote_cell_type": "code",
    "deepnote_to_be_reexecuted": false,
    "execution_millis": 6,
    "execution_start": 1628534284847,
    "id": "xa18pgMH7_54",
    "outputId": "ba7d0367-e911-4ae1-9d40-32425eb56ee3",
    "source_hash": "76029f26",
    "tags": []
   },
   "outputs": [
    {
     "name": "stdout",
     "output_type": "stream",
     "text": [
      "2\n",
      "4\n",
      "6\n",
      "8\n"
     ]
    }
   ],
   "source": [
    "for i in range(2, 10, 2):\n",
    "    print(i)"
   ]
  },
  {
   "cell_type": "markdown",
   "metadata": {},
   "source": [
    "Using the `range()` function is very useful if we want to create lists with specific numbers inside:"
   ]
  },
  {
   "cell_type": "code",
   "execution_count": 4,
   "metadata": {},
   "outputs": [
    {
     "name": "stdout",
     "output_type": "stream",
     "text": [
      "[1, 4, 9, 16, 25, 36, 49, 64, 81, 100]\n"
     ]
    }
   ],
   "source": [
    "squares = []\n",
    "\n",
    "for i in range(1, 11):\n",
    "    squares.append(i ** 2)\n",
    "    \n",
    "print(squares)"
   ]
  },
  {
   "cell_type": "code",
   "execution_count": 5,
   "metadata": {},
   "outputs": [
    {
     "name": "stdout",
     "output_type": "stream",
     "text": [
      "[0, 1, 2, 3, 4, 5, 6, 7, 8, 9, 10, 11, 12, 13, 14, 15, 16, 17, 18, 19, 20, 21, 22, 23, 24, 25, 26, 27, 28, 29, 30, 31, 32, 33, 34, 35, 36, 37, 38, 39, 40, 41, 42, 43, 44, 45, 46, 47, 48, 49, 50, 51, 52, 53, 54, 55, 56, 57, 58, 59, 60, 61, 62, 63, 64, 65, 66, 67, 68, 69, 70, 71, 72, 73, 74, 75, 76, 77, 78, 79, 80, 81, 82, 83, 84, 85, 86, 87, 88, 89, 90, 91, 92, 93, 94, 95, 96, 97, 98, 99]\n"
     ]
    }
   ],
   "source": [
    "numbers = []\n",
    "\n",
    "for i in range(100):\n",
    "    numbers.append(i)\n",
    "    \n",
    "print(numbers)"
   ]
  },
  {
   "cell_type": "markdown",
   "metadata": {},
   "source": [
    "### Tip\n",
    "Whenever we are stuck reading some code, writing out a <strong><span style=\"color:#8e44ad\">trace table</span></strong> can be of big help.\n",
    "\n",
    "A trace table is a technique used to test an algorithm and predict <strong><span style=\"color:#8e44ad\">step by step</span></strong> how the computer will run the algorithm. It can be used to understand or predict what an algorithm is doing and identify potential logic errors (when the program runs but does not produce the expected output).\n",
    "\n",
    "Using a trace table on paper to test an algorithm is called <strong><span style=\"color:#8e44ad\">dry run testing</span></strong>.\n",
    "\n",
    "In our trace table we have a column for every variable and for every output. The we read our program and everytime the value of a variable changes we add a new line to our table.\n",
    "\n",
    "For example given the following code:"
   ]
  },
  {
   "cell_type": "code",
   "execution_count": 10,
   "metadata": {},
   "outputs": [
    {
     "name": "stdout",
     "output_type": "stream",
     "text": [
      "20\n"
     ]
    }
   ],
   "source": [
    "numbers = [10, 5, 20, 4, 2, 10]\n",
    "threshold = 15\n",
    "\n",
    "for number in numbers:\n",
    "    if number >= threshold:\n",
    "        print(number)"
   ]
  },
  {
   "cell_type": "markdown",
   "metadata": {},
   "source": [
    "We get the following tracetable:\n",
    "\n",
    "| number | number >= threshold | print(number) |\n",
    "|--------|---------------------|---------------|\n",
    "| 10     | False               |               |\n",
    "| 5      | False               |               |\n",
    "| 20     | True                | 20            |\n",
    "| 4      | False               |               |\n",
    "| 2      | False               |               |\n",
    "| 10     | False               |               |"
   ]
  },
  {
   "cell_type": "markdown",
   "metadata": {
    "cell_id": "00005-3242ac45-09c0-4b5e-985c-216a478221ac",
    "deepnote_cell_type": "markdown",
    "id": "2AHAIhJd7_55",
    "tags": []
   },
   "source": [
    "### Let's test your understanding\n",
    "Before running the cells try guessing what the result will be:"
   ]
  },
  {
   "cell_type": "code",
   "execution_count": 8,
   "metadata": {
    "cell_id": "00043-45216040-4b56-4b93-b8dc-776ba3ff4c63",
    "deepnote_cell_type": "code",
    "deepnote_to_be_reexecuted": false,
    "execution_millis": 13,
    "execution_start": 1628587419689,
    "id": "kiskT3DO7_55",
    "outputId": "941dbbc0-b051-43ee-c383-be4dd8dafbac",
    "source_hash": "f919487a",
    "tags": []
   },
   "outputs": [
    {
     "name": "stdout",
     "output_type": "stream",
     "text": [
      "Hello\n",
      "I\n",
      "am\n",
      "Sophie\n"
     ]
    }
   ],
   "source": [
    "words = ['Hello', 'I', 'am', 'Sophie']\n",
    "\n",
    "for word in words:\n",
    "    print(word)"
   ]
  },
  {
   "cell_type": "code",
   "execution_count": null,
   "metadata": {
    "cell_id": "00044-0fe2e12a-6c02-403c-9ab6-43ec070f2630",
    "deepnote_cell_type": "code",
    "deepnote_to_be_reexecuted": false,
    "execution_millis": 4,
    "execution_start": 1628534320666,
    "id": "RjBzupRa7_55",
    "outputId": "5361ae04-47e7-4462-dbd2-8c49efa56359",
    "source_hash": "31eb8842",
    "tags": []
   },
   "outputs": [
    {
     "name": "stdout",
     "output_type": "stream",
     "text": [
      "hello\n",
      "hello\n",
      "hello\n"
     ]
    }
   ],
   "source": [
    "for i in range(0,3):\n",
    "    print('hello')"
   ]
  },
  {
   "cell_type": "code",
   "execution_count": null,
   "metadata": {
    "cell_id": "00044-f877abaf-beee-4709-8016-89e10e5c81ba",
    "deepnote_cell_type": "code",
    "deepnote_to_be_reexecuted": false,
    "execution_millis": 9,
    "execution_start": 1628587307209,
    "id": "Fbh-7fPz7_56",
    "outputId": "33d996a6-5d18-4b16-9ac9-2977e92b88c2",
    "source_hash": "5167b767",
    "tags": []
   },
   "outputs": [
    {
     "name": "stdout",
     "output_type": "stream",
     "text": [
      "2\n",
      "3\n"
     ]
    }
   ],
   "source": [
    "my_list = [1, 2, 30, 20, 12]\n",
    "\n",
    "for i in my_list:\n",
    "    if i >= 15:\n",
    "        print(i)"
   ]
  },
  {
   "cell_type": "code",
   "execution_count": null,
   "metadata": {
    "cell_id": "00043-3a1c3a18-acbc-4a0f-a280-17df7135e895",
    "deepnote_cell_type": "code",
    "deepnote_to_be_reexecuted": false,
    "execution_millis": 0,
    "execution_start": 1628532576622,
    "id": "gn9e0WFq7_56",
    "outputId": "3ad8b536-b246-49ec-f238-32351ad18133",
    "source_hash": "ef911e04",
    "tags": []
   },
   "outputs": [
    {
     "name": "stdout",
     "output_type": "stream",
     "text": [
      "3\n"
     ]
    }
   ],
   "source": [
    "total = 8\n",
    "\n",
    "for num in [1, 2, 1, 1]:\n",
    "    total = total - num\n",
    "\n",
    "print(result)"
   ]
  },
  {
   "cell_type": "code",
   "execution_count": 6,
   "metadata": {
    "cell_id": "00044-eec4de07-b786-4861-b970-587d709f1a31",
    "deepnote_cell_type": "code",
    "deepnote_to_be_reexecuted": false,
    "execution_millis": 11,
    "execution_start": 1628534344659,
    "id": "O1Sep8Er7_56",
    "outputId": "d8c71ee8-c9ba-42dd-ebe2-5cc6db5e8aec",
    "source_hash": "5f0030b0",
    "tags": []
   },
   "outputs": [
    {
     "name": "stdout",
     "output_type": "stream",
     "text": [
      "[0, 1, 2, 3, 4]\n"
     ]
    }
   ],
   "source": [
    "result = []\n",
    "\n",
    "for i in range(5):\n",
    "    result.append(i)\n",
    "\n",
    "print(result)"
   ]
  },
  {
   "cell_type": "markdown",
   "metadata": {},
   "source": [
    "<h2><strong><span style=\"color:#3498db\">Pause and Recall</span></strong></h2>\n",
    "\n",
    "<ul>\n",
    "\t<li><strong><span style=\"color:#3498db\">What did we learn so far ?&nbsp;</span></strong></li>\n",
    "\t<li><strong><span style=\"color:#3498db\">What are some definitions that you might need to remember ?&nbsp;</span></strong></li>\n",
    "\t<li><strong><span style=\"color:#3498db\">What are special cases that you might need to remember ?&nbsp;</span></strong></li>\n",
    "\t<li><strong><span style=\"color:#3498db\">What might be possible questions on the next test ?</span></strong></li>\n",
    "</ul>"
   ]
  },
  {
   "cell_type": "markdown",
   "metadata": {
    "cell_id": "00004-ff3f876f-7809-4ca3-b700-7e571619b71f",
    "deepnote_cell_type": "markdown",
    "id": "tM2mMnwU7_57",
    "tags": []
   },
   "source": [
    "## Exercises"
   ]
  },
  {
   "cell_type": "markdown",
   "metadata": {
    "cell_id": "00052-c11c95f5-6850-4faf-ae90-94950de32e6e",
    "deepnote_cell_type": "markdown",
    "id": "NTCc2Wus7_57",
    "tags": []
   },
   "source": [
    "### Exercise 1\n",
    "Write a program that displays the elements smaller than 13 in the list `[1, 24, 23, 12, 23, 11, 5, 30]`."
   ]
  },
  {
   "cell_type": "code",
   "execution_count": 9,
   "metadata": {
    "cell_id": "00053-b9f0749e-fafa-4502-86f2-192fe9cb4b51",
    "deepnote_cell_type": "code",
    "deepnote_to_be_reexecuted": false,
    "execution_millis": 1,
    "execution_start": 1628534393248,
    "id": "nnlbo_sZ7_57",
    "source_hash": "b7b80c6e",
    "tags": []
   },
   "outputs": [],
   "source": [
    "# Your code"
   ]
  },
  {
   "cell_type": "markdown",
   "metadata": {},
   "source": [
    "### Exercise 2\n",
    "Create a list of all numbers from 0 to 20."
   ]
  },
  {
   "cell_type": "code",
   "execution_count": null,
   "metadata": {},
   "outputs": [],
   "source": []
  },
  {
   "cell_type": "markdown",
   "metadata": {},
   "source": [
    "### Exercise 3\n",
    "Create a list of all the first 50 positive numbers divisible by 2."
   ]
  },
  {
   "cell_type": "code",
   "execution_count": null,
   "metadata": {},
   "outputs": [],
   "source": []
  },
  {
   "cell_type": "markdown",
   "metadata": {},
   "source": [
    "### Exercise 4\n",
    "Define a list of grades (min 5 grades). Then write a program that computes the average of your grades list."
   ]
  },
  {
   "cell_type": "code",
   "execution_count": null,
   "metadata": {},
   "outputs": [],
   "source": []
  },
  {
   "cell_type": "markdown",
   "metadata": {},
   "source": [
    "### Exercise 5\n",
    "Define a list of names (min 5 names). Then write a program that tells us if a given name through user input, is inside the list or not."
   ]
  },
  {
   "cell_type": "code",
   "execution_count": null,
   "metadata": {},
   "outputs": [],
   "source": []
  },
  {
   "cell_type": "markdown",
   "metadata": {
    "cell_id": "00007-02b66dd3-b2b6-4adf-8e3b-b34c79d284f2",
    "deepnote_cell_type": "markdown",
    "id": "Yg1CpfH17_57",
    "tags": []
   },
   "source": [
    "### Exercise 6\n",
    "Write a program that calculates the sum of all the elements of the list `[1, 3, 4, 2, 6]`. Are you able to calculate this without the function `sum()` ?"
   ]
  },
  {
   "cell_type": "code",
   "execution_count": null,
   "metadata": {
    "cell_id": "00056-9ee72e2f-526d-4d01-9747-c9f2a1878424",
    "deepnote_cell_type": "code",
    "deepnote_to_be_reexecuted": false,
    "execution_millis": 1,
    "execution_start": 1628534435279,
    "id": "4__aqFER7_58",
    "source_hash": "b7b80c6e",
    "tags": []
   },
   "outputs": [],
   "source": [
    "# your code"
   ]
  },
  {
   "cell_type": "markdown",
   "metadata": {
    "cell_id": "00058-e490b634-166d-4a04-bc1b-4d6f69492c99",
    "deepnote_cell_type": "markdown",
    "deepnote_to_be_reexecuted": false,
    "execution_millis": 5,
    "execution_start": 1628534485390,
    "id": "CNRxoUEE7_58",
    "source_hash": "7178b3ce",
    "tags": []
   },
   "source": [
    "### Exercise 7\n",
    "Write a program using `range` that displays the following result:\n",
    "\n",
    "1 \\\n",
    "4 \\\n",
    "9 \\\n",
    "16 \\\n",
    "25 \\\n",
    "36 \\\n",
    "49 \\\n",
    "64 \\\n",
    "81 \\\n",
    "100\n",
    "\n",
    "Did you find the pattern in those numbers ?"
   ]
  },
  {
   "cell_type": "code",
   "execution_count": null,
   "metadata": {
    "cell_id": "00059-cc58aaf6-bf01-43f7-9811-33d635ccbc10",
    "deepnote_cell_type": "code",
    "deepnote_to_be_reexecuted": false,
    "execution_millis": 3,
    "execution_start": 1628534540205,
    "id": "mLQskfVj7_58",
    "source_hash": "b7b80c6e",
    "tags": []
   },
   "outputs": [],
   "source": [
    "# your code"
   ]
  },
  {
   "cell_type": "markdown",
   "metadata": {
    "cell_id": "00059-2a182a50-5796-4bb9-9cca-85a895d48e3b",
    "deepnote_cell_type": "markdown",
    "deepnote_to_be_reexecuted": false,
    "execution_millis": 7,
    "execution_start": 1628534511179,
    "id": "LS1qSaA47_58",
    "source_hash": "8283b5d1",
    "tags": []
   },
   "source": [
    "### Exercise 8\n",
    "Write a program that adds all numbers divisible by 7 and multiples of 5 between 888 and 2000 (inclusive) to a list."
   ]
  },
  {
   "cell_type": "code",
   "execution_count": null,
   "metadata": {
    "cell_id": "00060-68de6041-edaf-4c21-b30b-d0ee8b58c6eb",
    "deepnote_cell_type": "code",
    "deepnote_to_be_reexecuted": false,
    "execution_millis": 0,
    "execution_start": 1628587744322,
    "id": "zqlDvox77_58",
    "source_hash": "b7b80c6e",
    "tags": []
   },
   "outputs": [],
   "source": [
    "# your code"
   ]
  },
  {
   "cell_type": "markdown",
   "metadata": {
    "cell_id": "00062-90311035-825e-4697-a15b-8f351c066d31",
    "deepnote_cell_type": "markdown",
    "id": "c0YI7jZn7_58",
    "tags": []
   },
   "source": [
    "### Exercise 9\n",
    "From the following list, displays only the weekdays, then only the weekend days."
   ]
  },
  {
   "cell_type": "code",
   "execution_count": null,
   "metadata": {
    "cell_id": "00063-cbd3513d-68bd-4cbb-850b-eba5da571e0e",
    "deepnote_cell_type": "code",
    "deepnote_to_be_reexecuted": false,
    "execution_millis": 1,
    "execution_start": 1628534629662,
    "id": "uvw5xhR57_58",
    "source_hash": "68b53bfb",
    "tags": []
   },
   "outputs": [],
   "source": [
    "day_list = ['monday', 'tuesday', 'wednesday', 'thursday', 'friday', 'saturday', 'sunday']\n",
    "\n",
    "# your code"
   ]
  },
  {
   "cell_type": "markdown",
   "metadata": {
    "cell_id": "00064-e5cc6288-133f-4181-8e62-71ca16032b15",
    "deepnote_cell_type": "markdown",
    "id": "JRUvM2Fx7_59",
    "tags": []
   },
   "source": [
    "### Exercise 10\n",
    "Find 2 ways to access the last element of the list `day_list`."
   ]
  },
  {
   "cell_type": "code",
   "execution_count": null,
   "metadata": {
    "cell_id": "00065-0f976bae-f732-4e48-8d9f-6ad45aad2183",
    "deepnote_cell_type": "code",
    "deepnote_to_be_reexecuted": false,
    "execution_millis": 3,
    "execution_start": 1628534675861,
    "id": "diSyMO5C7_59",
    "source_hash": "b7b80c6e",
    "tags": []
   },
   "outputs": [],
   "source": [
    "# your code"
   ]
  },
  {
   "cell_type": "markdown",
   "metadata": {
    "cell_id": "00065-04f4060f-cbf0-45eb-9d3a-a06d058f79bf",
    "deepnote_cell_type": "markdown",
    "id": "jmFqnW7D7_59",
    "tags": []
   },
   "source": [
    "### Exercise 11\n",
    "Find 2 ways to reverse the days of the week from the previous list."
   ]
  },
  {
   "cell_type": "code",
   "execution_count": null,
   "metadata": {
    "cell_id": "00067-565aa265-a0e7-42f8-8616-f79873747df5",
    "deepnote_cell_type": "code",
    "deepnote_to_be_reexecuted": false,
    "execution_millis": 1,
    "execution_start": 1628534726494,
    "id": "SwlYufg97_59",
    "source_hash": "b7b80c6e",
    "tags": []
   },
   "outputs": [],
   "source": [
    "# your code"
   ]
  },
  {
   "cell_type": "markdown",
   "metadata": {
    "cell_id": "00068-d86b95a5-5032-4dca-bb94-b84940f1c40d",
    "deepnote_cell_type": "markdown",
    "id": "pwoI1qur7_59",
    "tags": []
   },
   "source": [
    "### Exercise 12\n",
    "There is a Python function `min()` to find the smallest element in a list: https://www.programiz.com/python-programming/methods/built-in/min. \\\n",
    "Use this function to find the minimum of [19, 27, 1550, 38, 4, 28]. \\\n",
    "Then find another way to get the same result without using the `min()` function"
   ]
  },
  {
   "cell_type": "code",
   "execution_count": null,
   "metadata": {
    "cell_id": "00069-ec1dfb5b-6e77-4a8c-ac0c-797b129cb59d",
    "deepnote_cell_type": "code",
    "deepnote_to_be_reexecuted": false,
    "execution_millis": 2,
    "execution_start": 1628534768657,
    "id": "jbDBuCp67_59",
    "source_hash": "b7b80c6e",
    "tags": []
   },
   "outputs": [],
   "source": [
    "# your code"
   ]
  },
  {
   "cell_type": "markdown",
   "metadata": {
    "cell_id": "00070-ac607a8b-e06f-420e-a6eb-7a1464bf4e60",
    "deepnote_cell_type": "markdown",
    "id": "qUdvXP3D7_59",
    "tags": []
   },
   "source": [
    "### Exercice 13\n",
    "There is a Python function `max()` to find the biggest element in a list: https://www.programiz.com/python-programming/methods/built-in/max. \\\n",
    "Use this function to find the maximum of [19, 27, 1550, 38, 4, 28]. \\\n",
    "Then find another way to get the same result without using the `max()` function"
   ]
  },
  {
   "cell_type": "code",
   "execution_count": null,
   "metadata": {
    "cell_id": "00066-44427567-fc5e-44ab-8038-bc8a7ba5569e",
    "deepnote_cell_type": "code",
    "deepnote_to_be_reexecuted": false,
    "execution_millis": 0,
    "execution_start": 1628589594034,
    "id": "kGR_H1Pl7_59",
    "source_hash": "b7b80c6e",
    "tags": []
   },
   "outputs": [],
   "source": [
    "# your code"
   ]
  },
  {
   "cell_type": "markdown",
   "metadata": {
    "cell_id": "00031-0f653e4a-eb14-41a5-93f6-9f8cc821032f",
    "deepnote_cell_type": "markdown",
    "deepnote_to_be_reexecuted": false,
    "execution_millis": 1,
    "execution_start": 1628588586989,
    "id": "k09UvQQi7_5-",
    "source_hash": "b623e53d",
    "tags": []
   },
   "source": [
    "### Exercise 14\n",
    "You have coins whose value is recorded in this list: [1, 2, 0.5, 1, 2, 0.1, 0.1, 2, 1, 2, 0.2, 0.1, 0.5].\n",
    "* How many coins do you have?\n",
    "* How many coins of 1 do you have?\n",
    "* Using the `sort()` method (https://www.programiz.com/python-programming/methods/list/sort), sort your coins in descending order."
   ]
  },
  {
   "cell_type": "code",
   "execution_count": null,
   "metadata": {
    "cell_id": "00067-70fbf4d0-5a81-4737-bc8a-d0821fe0aa0a",
    "deepnote_cell_type": "code",
    "deepnote_to_be_reexecuted": false,
    "execution_millis": 2,
    "execution_start": 1628589744177,
    "id": "bsIkQNel7_5-",
    "source_hash": "ad4a5b9",
    "tags": []
   },
   "outputs": [],
   "source": [
    "coins = [1, 2, 0.5, 1, 2, 0.1, 0.1, 2, 1, 2, 0.2, 0.1, 0.5]\n",
    "\n",
    "# your code"
   ]
  },
  {
   "cell_type": "markdown",
   "metadata": {},
   "source": [
    "### Exercice 15 \n",
    "Practice writing out trace tables with by tracing out the code on paper from exercises 1, 6 and 12"
   ]
  },
  {
   "cell_type": "code",
   "execution_count": null,
   "metadata": {},
   "outputs": [],
   "source": []
  },
  {
   "cell_type": "markdown",
   "metadata": {},
   "source": [
    "### Exercise 16 - Self Reflection\n",
    "* What exercise were easy for you ? \n",
    "* What exercises were hard ?\n",
    "* What were these hardships and what how did you overcome those/what were the solutions ? \n",
    "* Did you create a set of study notes about this session ?"
   ]
  },
  {
   "cell_type": "code",
   "execution_count": null,
   "metadata": {},
   "outputs": [],
   "source": []
  },
  {
   "cell_type": "markdown",
   "metadata": {},
   "source": [
    "### Already done ? \n",
    "Continue training on [hackinscience](https://www.hackinscience.org/exercises/)"
   ]
  },
  {
   "cell_type": "code",
   "execution_count": null,
   "metadata": {
    "cell_id": "00070-10e7480c-4653-4372-871a-b99014ff33ea",
    "deepnote_cell_type": "code",
    "id": "IosbCKSw7_5-",
    "tags": []
   },
   "outputs": [],
   "source": []
  }
 ],
 "metadata": {
  "colab": {
   "collapsed_sections": [
    "CNRxoUEE7_58",
    "qUdvXP3D7_59"
   ],
   "provenance": []
  },
  "deepnote": {
   "is_reactive": false
  },
  "deepnote_execution_queue": [],
  "deepnote_notebook_id": "96eddaae-2c56-4cfa-9f5d-7b2aed4c30c5",
  "kernelspec": {
   "display_name": "Python 3 (ipykernel)",
   "language": "python",
   "name": "python3"
  },
  "language_info": {
   "codemirror_mode": {
    "name": "ipython",
    "version": 3
   },
   "file_extension": ".py",
   "mimetype": "text/x-python",
   "name": "python",
   "nbconvert_exporter": "python",
   "pygments_lexer": "ipython3",
   "version": "3.9.16"
  }
 },
 "nbformat": 4,
 "nbformat_minor": 1
}
