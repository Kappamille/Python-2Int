{
 "cells": [
  {
   "cell_type": "markdown",
   "metadata": {
    "cell_id": "00000-43e42c03-0ac7-4a6b-ab3f-047b48ec2b60",
    "deepnote_cell_type": "markdown",
    "deepnote_to_be_reexecuted": false,
    "execution_millis": 1,
    "execution_start": 1628517693826,
    "id": "BWk8xXWs2ybi",
    "source_hash": "e64d55b9",
    "tags": []
   },
   "source": [
    "# Class 3 - Conditions and Boolean logic"
   ]
  },
  {
   "cell_type": "markdown",
   "metadata": {
    "id": "uIZrloKJ3F7x"
   },
   "source": [
    "Class objectives:\n",
    "- explaining the behavior of relational operators (>, <, >=, <=, ==, !=)\n",
    "- explaining the behavior of boolean operators (and, or, not)\n",
    "- explaining the behavior of conditions (if, else, elif)\n",
    "- Using relational operators, boolean operators and conditions together\n",
    "- Using the len() function\n",
    "- Using the input() function"
   ]
  },
  {
   "cell_type": "markdown",
   "metadata": {},
   "source": [
    "## Scratch solution\n",
    "<img src=\"scratch.png\"\n",
    "     alt=\"Scratch solution\"\n",
    "     width=\"400\"/>"
   ]
  },
  {
   "cell_type": "markdown",
   "metadata": {},
   "source": [
    "## And now in python ! "
   ]
  },
  {
   "cell_type": "markdown",
   "metadata": {},
   "source": [
    "The keywords we use in python for writing a <strong><span style=\"color:#8e44ad\">decision</span></strong> (laying out train track) are: `if` and `else`.\n",
    "\n",
    "The <strong><span style=\"color:#8e44ad\">condition</span></strong> (the intersection lever) comes after the `if`. The condition is always a <strong><span style=\"color:#8e44ad\">boolean</span></strong>.\n",
    "* What is the condition here ?"
   ]
  },
  {
   "cell_type": "code",
   "execution_count": null,
   "metadata": {},
   "outputs": [],
   "source": [
    "train_number = 2516\n",
    "\n",
    "if train_number % 2 == 0:\n",
    "    print(\"even station\")\n",
    "else:\n",
    "    print(\"uneven station\")"
   ]
  },
  {
   "cell_type": "markdown",
   "metadata": {},
   "source": [
    "You can also notice that the print statments are a little shifted on the right. This is called <strong><span style=\"color:#8e44ad\">indentation</span></strong> and allows us to see that we entered a <strong><span style=\"color:#8e44ad\">programming block</span></strong> (one of the two possible train tracks here).\n",
    "\n",
    "A programming block in python starts after a colon `:`, the lines inside the programming block are indented and the block finishes when the indentation disapears. \n",
    "* How many programming blocks do we have in our previous code ?\n",
    "* Of what characters is the indentation composed of ? \n",
    "* Which block will my code enter/follow in the previous code ?"
   ]
  },
  {
   "cell_type": "markdown",
   "metadata": {
    "cell_id": "00002-9fe1bb26-92b1-4e55-a104-73e04786ea92",
    "deepnote_cell_type": "markdown",
    "id": "9htOnqeo2ybp",
    "tags": []
   },
   "source": [
    "## Writing conditions - Boolean comparaison operators\n",
    "We just learned that conditions are always a boolean. Let's look at the possible comparaison operators we have to write comparaisons that give us a boolean."
   ]
  },
  {
   "cell_type": "markdown",
   "metadata": {},
   "source": [
    "The <strong><span style=\"color:#8e44ad\">\"is bigger than\"</span></strong> operator, <strong><span style=\"color:#8e44ad\"> > </span></strong>"
   ]
  },
  {
   "cell_type": "code",
   "execution_count": 1,
   "metadata": {
    "cell_id": "00003-6fe7a7dd-3fc7-4559-96bb-4c1f14dcd75e",
    "colab": {
     "base_uri": "https://localhost:8080/"
    },
    "deepnote_cell_type": "code",
    "deepnote_to_be_reexecuted": false,
    "execution_millis": 4,
    "execution_start": 1628518600906,
    "id": "0bO5fqf42ybp",
    "outputId": "8a41c844-b151-4b60-ad25-1db6a2da8ff6",
    "source_hash": "997d5dc1",
    "tags": []
   },
   "outputs": [
    {
     "data": {
      "text/plain": [
       "True"
      ]
     },
     "execution_count": 1,
     "metadata": {},
     "output_type": "execute_result"
    }
   ],
   "source": [
    "10 > 5"
   ]
  },
  {
   "cell_type": "code",
   "execution_count": 2,
   "metadata": {
    "cell_id": "00004-e4645804-8b50-4b5a-9e60-3466ecb0401d",
    "colab": {
     "base_uri": "https://localhost:8080/"
    },
    "deepnote_cell_type": "code",
    "deepnote_to_be_reexecuted": false,
    "execution_millis": 6,
    "execution_start": 1628518608481,
    "id": "HwBWzYp12ybq",
    "outputId": "8de1b46d-faee-428d-fcb1-203e6847e5fb",
    "source_hash": "697fd442",
    "tags": []
   },
   "outputs": [
    {
     "data": {
      "text/plain": [
       "False"
      ]
     },
     "execution_count": 2,
     "metadata": {},
     "output_type": "execute_result"
    }
   ],
   "source": [
    "4 > 7"
   ]
  },
  {
   "cell_type": "markdown",
   "metadata": {},
   "source": [
    "The <strong><span style=\"color:#8e44ad\">\"is smaller than\"</span></strong> operator, <strong><span style=\"color:#8e44ad\"> < </span></strong>"
   ]
  },
  {
   "cell_type": "code",
   "execution_count": null,
   "metadata": {},
   "outputs": [],
   "source": [
    "10 < 5"
   ]
  },
  {
   "cell_type": "code",
   "execution_count": null,
   "metadata": {},
   "outputs": [],
   "source": [
    "4 < 7"
   ]
  },
  {
   "cell_type": "markdown",
   "metadata": {},
   "source": [
    "The <strong><span style=\"color:#8e44ad\">\"is equal to\"</span></strong> operator, <strong><span style=\"color:#8e44ad\">==</span></strong> "
   ]
  },
  {
   "cell_type": "code",
   "execution_count": 3,
   "metadata": {
    "cell_id": "00005-2930c5e0-697e-484b-aebf-1bd639752b99",
    "colab": {
     "base_uri": "https://localhost:8080/"
    },
    "deepnote_cell_type": "code",
    "deepnote_to_be_reexecuted": false,
    "execution_millis": 6,
    "execution_start": 1628518629969,
    "id": "0fFl8nBo2ybq",
    "outputId": "15d0f96c-785b-42e4-a74b-e8b925849ab9",
    "source_hash": "1633c065",
    "tags": []
   },
   "outputs": [
    {
     "data": {
      "text/plain": [
       "True"
      ]
     },
     "execution_count": 3,
     "metadata": {},
     "output_type": "execute_result"
    }
   ],
   "source": [
    "10 == 10"
   ]
  },
  {
   "cell_type": "code",
   "execution_count": 4,
   "metadata": {
    "cell_id": "00006-4c462230-8c64-4d24-88dd-7dfaa15b0bd4",
    "colab": {
     "base_uri": "https://localhost:8080/"
    },
    "deepnote_cell_type": "code",
    "deepnote_to_be_reexecuted": false,
    "execution_millis": 3,
    "execution_start": 1628518674570,
    "id": "VfM_QWgJ2ybr",
    "outputId": "9266947f-2409-40db-f200-d725bd547f5c",
    "source_hash": "6d72a884",
    "tags": []
   },
   "outputs": [
    {
     "data": {
      "text/plain": [
       "True"
      ]
     },
     "execution_count": 4,
     "metadata": {},
     "output_type": "execute_result"
    }
   ],
   "source": [
    "10.0 == 10"
   ]
  },
  {
   "cell_type": "markdown",
   "metadata": {},
   "source": [
    "The <strong><span style=\"color:#8e44ad\">\"is not equal to\"</span></strong> operator, <strong><span style=\"color:#8e44ad\">!=</span></strong> "
   ]
  },
  {
   "cell_type": "code",
   "execution_count": 6,
   "metadata": {
    "cell_id": "00007-20834072-b57f-48ee-ad17-d14b2b64526d",
    "colab": {
     "base_uri": "https://localhost:8080/"
    },
    "deepnote_cell_type": "code",
    "deepnote_to_be_reexecuted": false,
    "execution_millis": 5,
    "execution_start": 1628518688931,
    "id": "1j-EJsLG2ybr",
    "outputId": "ab63e780-96a3-467e-f2d9-668dc8f06805",
    "source_hash": "5ed2441f",
    "tags": []
   },
   "outputs": [
    {
     "data": {
      "text/plain": [
       "True"
      ]
     },
     "execution_count": 6,
     "metadata": {},
     "output_type": "execute_result"
    }
   ],
   "source": [
    "3 != 2"
   ]
  },
  {
   "cell_type": "code",
   "execution_count": null,
   "metadata": {},
   "outputs": [],
   "source": [
    "3 != 3"
   ]
  },
  {
   "cell_type": "markdown",
   "metadata": {},
   "source": [
    "The <strong><span style=\"color:#8e44ad\">\"is bigger than or equal to\"</span></strong> equal operator, <strong><span style=\"color:#8e44ad\">>=</span></strong>"
   ]
  },
  {
   "cell_type": "code",
   "execution_count": 8,
   "metadata": {
    "cell_id": "00007-20d7439a-1f07-437b-a752-246161f9d18f",
    "colab": {
     "base_uri": "https://localhost:8080/"
    },
    "deepnote_cell_type": "code",
    "deepnote_to_be_reexecuted": false,
    "execution_millis": 5,
    "execution_start": 1628518690642,
    "id": "Y35wEhfl2ybs",
    "outputId": "67dc2fea-f99a-4cb3-e9f0-8e5862a552f2",
    "source_hash": "81254188",
    "tags": []
   },
   "outputs": [
    {
     "data": {
      "text/plain": [
       "True"
      ]
     },
     "execution_count": 8,
     "metadata": {},
     "output_type": "execute_result"
    }
   ],
   "source": [
    "10 >= 10"
   ]
  },
  {
   "cell_type": "code",
   "execution_count": 9,
   "metadata": {
    "cell_id": "00008-65b1503b-7e83-4bf7-a4ab-c954dd30ac3e",
    "colab": {
     "base_uri": "https://localhost:8080/"
    },
    "deepnote_cell_type": "code",
    "deepnote_to_be_reexecuted": false,
    "execution_millis": 5,
    "execution_start": 1628518713089,
    "id": "nybCs9mm2ybt",
    "outputId": "a1f1f443-e214-4416-af4d-23d517afe763",
    "source_hash": "f21bfb49",
    "tags": []
   },
   "outputs": [
    {
     "data": {
      "text/plain": [
       "True"
      ]
     },
     "execution_count": 9,
     "metadata": {},
     "output_type": "execute_result"
    }
   ],
   "source": [
    "5 >= 4"
   ]
  },
  {
   "cell_type": "code",
   "execution_count": 1,
   "metadata": {},
   "outputs": [
    {
     "data": {
      "text/plain": [
       "False"
      ]
     },
     "execution_count": 1,
     "metadata": {},
     "output_type": "execute_result"
    }
   ],
   "source": [
    "5 >= 10"
   ]
  },
  {
   "cell_type": "markdown",
   "metadata": {},
   "source": [
    "The <strong><span style=\"color:#8e44ad\">\"is smaller than or equal to\"</span></strong> equal operator, <strong><span style=\"color:#8e44ad\"><=</span></strong>"
   ]
  },
  {
   "cell_type": "code",
   "execution_count": 2,
   "metadata": {
    "cell_id": "00007-20d7439a-1f07-437b-a752-246161f9d18f",
    "colab": {
     "base_uri": "https://localhost:8080/"
    },
    "deepnote_cell_type": "code",
    "deepnote_to_be_reexecuted": false,
    "execution_millis": 5,
    "execution_start": 1628518690642,
    "id": "Y35wEhfl2ybs",
    "outputId": "67dc2fea-f99a-4cb3-e9f0-8e5862a552f2",
    "source_hash": "81254188",
    "tags": []
   },
   "outputs": [
    {
     "data": {
      "text/plain": [
       "True"
      ]
     },
     "execution_count": 2,
     "metadata": {},
     "output_type": "execute_result"
    }
   ],
   "source": [
    "10 <= 10"
   ]
  },
  {
   "cell_type": "code",
   "execution_count": 3,
   "metadata": {
    "cell_id": "00008-65b1503b-7e83-4bf7-a4ab-c954dd30ac3e",
    "colab": {
     "base_uri": "https://localhost:8080/"
    },
    "deepnote_cell_type": "code",
    "deepnote_to_be_reexecuted": false,
    "execution_millis": 5,
    "execution_start": 1628518713089,
    "id": "nybCs9mm2ybt",
    "outputId": "a1f1f443-e214-4416-af4d-23d517afe763",
    "source_hash": "f21bfb49",
    "tags": []
   },
   "outputs": [
    {
     "data": {
      "text/plain": [
       "False"
      ]
     },
     "execution_count": 3,
     "metadata": {},
     "output_type": "execute_result"
    }
   ],
   "source": [
    "5 <= 4"
   ]
  },
  {
   "cell_type": "code",
   "execution_count": 4,
   "metadata": {},
   "outputs": [
    {
     "data": {
      "text/plain": [
       "True"
      ]
     },
     "execution_count": 4,
     "metadata": {},
     "output_type": "execute_result"
    }
   ],
   "source": [
    "5 <= 10"
   ]
  },
  {
   "cell_type": "markdown",
   "metadata": {},
   "source": [
    "Okay so far so good with the numbers, but what about letters ?\n",
    "What do these cells output ?"
   ]
  },
  {
   "cell_type": "code",
   "execution_count": 11,
   "metadata": {
    "cell_id": "00008-0ac15d7e-5763-46b0-809e-3ee687828233",
    "colab": {
     "base_uri": "https://localhost:8080/"
    },
    "deepnote_cell_type": "code",
    "deepnote_to_be_reexecuted": false,
    "execution_millis": 5,
    "execution_start": 1628518800363,
    "id": "TCVaiQip2ybu",
    "outputId": "84de0cce-b5fa-48e6-a406-0455c44bec8b",
    "source_hash": "f8a2e79e",
    "tags": []
   },
   "outputs": [
    {
     "data": {
      "text/plain": [
       "True"
      ]
     },
     "execution_count": 11,
     "metadata": {},
     "output_type": "execute_result"
    }
   ],
   "source": [
    "\"b\" > \"a\""
   ]
  },
  {
   "cell_type": "code",
   "execution_count": 12,
   "metadata": {
    "cell_id": "00010-705e8ce7-e26a-4c6b-afe1-ae883ced5f25",
    "colab": {
     "base_uri": "https://localhost:8080/"
    },
    "deepnote_cell_type": "code",
    "deepnote_to_be_reexecuted": false,
    "execution_millis": 6,
    "execution_start": 1628518846517,
    "id": "JkgIrtsN2ybu",
    "outputId": "05edd830-d9bc-4e35-a2b9-69dbbb59770a",
    "source_hash": "684760b3",
    "tags": []
   },
   "outputs": [
    {
     "data": {
      "text/plain": [
       "True"
      ]
     },
     "execution_count": 12,
     "metadata": {},
     "output_type": "execute_result"
    }
   ],
   "source": [
    "\"a\" > \"A\""
   ]
  },
  {
   "cell_type": "markdown",
   "metadata": {
    "cell_id": "00012-ddc7fc30-5dac-46ac-85dc-c282320c4ba9",
    "deepnote_cell_type": "markdown",
    "id": "1Xg3CCHH2ybv",
    "tags": []
   },
   "source": [
    "But why ? \n",
    "\n",
    "In Python, when you compare strings using the greater than (>) operator, it compares the strings based on their numerical value in the <strong><span style=\"color:#8e44ad\">ASCII</span></strong> table.\n",
    "\n",
    "But what is ASCII ? \n",
    "\n",
    "ASCII, which stands for the American Standard Code for Information Interchange, is a  character encoding standard that represents text characters, and other textual information in digital form. It played a crucial role in the early days of computing and data communication. \n",
    "Nowadays in our international world, text is often encrypted using <strong><span style=\"color:#8e44ad\">Unicode</span></strong> standards."
   ]
  },
  {
   "cell_type": "markdown",
   "metadata": {
    "id": "Mfrn92Yz3XQy"
   },
   "source": [
    "Here is an example of the ASCII table: https://www.rapidtables.com/code/text/ascii-table.html\n",
    "* What is the value of \"a\" in that table ?\n",
    "* What is the value of \"A\" in that table ?\n",
    "* Which letter has the biggest value ?"
   ]
  },
  {
   "cell_type": "code",
   "execution_count": null,
   "metadata": {},
   "outputs": [],
   "source": []
  },
  {
   "cell_type": "markdown",
   "metadata": {
    "cell_id": "00019-6caf1fcf-2ee0-43ca-a4d6-3358d1f7d51e",
    "deepnote_cell_type": "markdown",
    "id": "vZt8kr8H2ybz",
    "tags": []
   },
   "source": [
    "## Questions"
   ]
  },
  {
   "cell_type": "code",
   "execution_count": null,
   "metadata": {},
   "outputs": [],
   "source": [
    "12 > 3"
   ]
  },
  {
   "cell_type": "code",
   "execution_count": null,
   "metadata": {},
   "outputs": [],
   "source": [
    "12 < 3"
   ]
  },
  {
   "cell_type": "code",
   "execution_count": null,
   "metadata": {},
   "outputs": [],
   "source": [
    "12 != 3"
   ]
  },
  {
   "cell_type": "code",
   "execution_count": 25,
   "metadata": {
    "cell_id": "00019-39137a00-fabe-421b-9a8c-81ca3fe45c35",
    "colab": {
     "base_uri": "https://localhost:8080/"
    },
    "deepnote_cell_type": "code",
    "deepnote_to_be_reexecuted": false,
    "execution_millis": 6,
    "execution_start": 1628519416774,
    "id": "NvyjI6TA2ybz",
    "outputId": "b99ccf46-a632-4d94-9e16-b1129680ea13",
    "source_hash": "74e9d61b",
    "tags": []
   },
   "outputs": [
    {
     "data": {
      "text/plain": [
       "True"
      ]
     },
     "execution_count": 25,
     "metadata": {},
     "output_type": "execute_result"
    }
   ],
   "source": [
    "10.1 >= 9.9"
   ]
  },
  {
   "cell_type": "code",
   "execution_count": 26,
   "metadata": {
    "cell_id": "00026-42b07233-63bd-4d2d-a0aa-e4bcab8b8b71",
    "colab": {
     "base_uri": "https://localhost:8080/"
    },
    "deepnote_cell_type": "code",
    "deepnote_to_be_reexecuted": false,
    "execution_millis": 11,
    "execution_start": 1628519450591,
    "id": "Oxjua9aU2yb0",
    "outputId": "bc2cd606-e577-4bde-a561-6829a69447b1",
    "source_hash": "37aea617",
    "tags": []
   },
   "outputs": [
    {
     "data": {
      "text/plain": [
       "False"
      ]
     },
     "execution_count": 26,
     "metadata": {},
     "output_type": "execute_result"
    }
   ],
   "source": [
    "0 == \"0\""
   ]
  },
  {
   "cell_type": "code",
   "execution_count": 28,
   "metadata": {
    "cell_id": "00028-536e09b2-47fb-41a4-8bc2-1f2192ea97ff",
    "colab": {
     "base_uri": "https://localhost:8080/"
    },
    "deepnote_cell_type": "code",
    "deepnote_to_be_reexecuted": false,
    "execution_millis": 8,
    "execution_start": 1628519502636,
    "id": "fwMUWmdS2yb1",
    "outputId": "9c9adaf4-5c19-4954-a15d-058f4c9077a9",
    "source_hash": "d8aabbdc",
    "tags": []
   },
   "outputs": [
    {
     "data": {
      "text/plain": [
       "False"
      ]
     },
     "execution_count": 28,
     "metadata": {},
     "output_type": "execute_result"
    }
   ],
   "source": [
    "a = 1\n",
    "b = 3\n",
    "a > b"
   ]
  },
  {
   "cell_type": "code",
   "execution_count": 29,
   "metadata": {
    "cell_id": "00029-148bf508-1450-4c31-b212-016caa26e4c8",
    "colab": {
     "base_uri": "https://localhost:8080/"
    },
    "deepnote_cell_type": "code",
    "deepnote_to_be_reexecuted": false,
    "execution_millis": 9,
    "execution_start": 1628519522311,
    "id": "cK1ydSPF2yb1",
    "outputId": "81867f91-5715-4e7c-ad0c-6b38d86a81e5",
    "source_hash": "49ec615d",
    "tags": []
   },
   "outputs": [
    {
     "data": {
      "text/plain": [
       "True"
      ]
     },
     "execution_count": 29,
     "metadata": {},
     "output_type": "execute_result"
    }
   ],
   "source": [
    "a = 3.0\n",
    "a == b"
   ]
  },
  {
   "cell_type": "code",
   "execution_count": 30,
   "metadata": {
    "cell_id": "00031-95fb444c-aec2-4913-9cf0-eb462da4d4d9",
    "colab": {
     "base_uri": "https://localhost:8080/"
    },
    "deepnote_cell_type": "code",
    "deepnote_to_be_reexecuted": false,
    "execution_millis": 6,
    "execution_start": 1628519595717,
    "id": "s7y7E0FA2yb2",
    "outputId": "2a2075ba-c1cd-4dd6-83aa-fe376a1f65b8",
    "source_hash": "d6e2418b",
    "tags": []
   },
   "outputs": [
    {
     "data": {
      "text/plain": [
       "False"
      ]
     },
     "execution_count": 30,
     "metadata": {},
     "output_type": "execute_result"
    }
   ],
   "source": [
    "c = a > b\n",
    "c "
   ]
  },
  {
   "cell_type": "code",
   "execution_count": 13,
   "metadata": {
    "cell_id": "00004-51e364a1-bb8a-495d-abef-148b37d487f9",
    "colab": {
     "base_uri": "https://localhost:8080/"
    },
    "deepnote_cell_type": "code",
    "deepnote_to_be_reexecuted": false,
    "execution_millis": 7,
    "execution_start": 1628518913768,
    "id": "YSFS9hsf2ybw",
    "outputId": "df00f5b6-fe0c-4135-c2d1-172f1aeb831c",
    "source_hash": "4a53d2b7",
    "tags": []
   },
   "outputs": [
    {
     "data": {
      "text/plain": [
       "True"
      ]
     },
     "execution_count": 13,
     "metadata": {},
     "output_type": "execute_result"
    }
   ],
   "source": [
    "\"oui\" == \"oui\""
   ]
  },
  {
   "cell_type": "code",
   "execution_count": 14,
   "metadata": {
    "cell_id": "00016-e4c00329-3ff2-474b-a6d5-886ce7aea94d",
    "colab": {
     "base_uri": "https://localhost:8080/"
    },
    "deepnote_cell_type": "code",
    "deepnote_to_be_reexecuted": false,
    "execution_millis": 5,
    "execution_start": 1628518921098,
    "id": "p83wpy1_2ybw",
    "outputId": "b8d1723b-81d0-4592-d0dd-70796ac9adf4",
    "source_hash": "69842c73",
    "tags": []
   },
   "outputs": [
    {
     "data": {
      "text/plain": [
       "False"
      ]
     },
     "execution_count": 14,
     "metadata": {},
     "output_type": "execute_result"
    }
   ],
   "source": [
    "\"oui\" == \"Oui\""
   ]
  },
  {
   "cell_type": "markdown",
   "metadata": {
    "cell_id": "00031-76d977d8-628f-4e62-8912-e327d225593f",
    "deepnote_cell_type": "markdown",
    "id": "U8lqWMut2yb2",
    "tags": []
   },
   "source": [
    "## Combining conditions - Boolean Logic\n",
    "Imagine we want to sort our train depending on their `train_number` but also depending on their `color`.\n",
    "We learned about available operators for writing conditions, let's see now how we can combine several conditions together.\n",
    "In python we have boolean logic keywords that allow us to combine conditions:\n",
    "* the <strong><span style=\"color:#8e44ad\">not</span></strong> operator\n",
    "* the <strong><span style=\"color:#8e44ad\">and</span></strong> operator\n",
    "* the <strong><span style=\"color:#8e44ad\">or</span></strong> operator\n",
    "Their behavior can be summarized in the following table:"
   ]
  },
  {
   "cell_type": "markdown",
   "metadata": {
    "id": "SaJwpmOz3KQm"
   },
   "source": [
    "![nl0W8.jpg](data:image/jpeg;base64,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)"
   ]
  },
  {
   "cell_type": "code",
   "execution_count": 31,
   "metadata": {
    "cell_id": "00034-4c18e499-c05b-4d15-9157-cc18d972581b",
    "colab": {
     "base_uri": "https://localhost:8080/"
    },
    "deepnote_cell_type": "code",
    "deepnote_to_be_reexecuted": false,
    "execution_millis": 5,
    "execution_start": 1628523458247,
    "id": "LURD7uPv2yb6",
    "outputId": "fcb36788-7919-45dc-881e-67cd99d1cf4b",
    "source_hash": "c032e8e1",
    "tags": []
   },
   "outputs": [
    {
     "data": {
      "text/plain": [
       "True"
      ]
     },
     "execution_count": 31,
     "metadata": {},
     "output_type": "execute_result"
    }
   ],
   "source": [
    "True and True"
   ]
  },
  {
   "cell_type": "code",
   "execution_count": 32,
   "metadata": {
    "cell_id": "00034-6e458304-39cf-479b-8543-df26e679175e",
    "colab": {
     "base_uri": "https://localhost:8080/"
    },
    "deepnote_cell_type": "code",
    "deepnote_to_be_reexecuted": false,
    "execution_millis": 11,
    "execution_start": 1628523458323,
    "id": "rn6_0eK72yb7",
    "outputId": "a143a0e6-9ad4-40b2-de30-95582edf5d95",
    "source_hash": "67b3e40",
    "tags": []
   },
   "outputs": [
    {
     "data": {
      "text/plain": [
       "False"
      ]
     },
     "execution_count": 32,
     "metadata": {},
     "output_type": "execute_result"
    }
   ],
   "source": [
    "True and False"
   ]
  },
  {
   "cell_type": "code",
   "execution_count": 33,
   "metadata": {
    "cell_id": "00034-2b636584-8c46-43f5-be10-2d44adaee045",
    "colab": {
     "base_uri": "https://localhost:8080/"
    },
    "deepnote_cell_type": "code",
    "deepnote_to_be_reexecuted": false,
    "execution_millis": 8,
    "execution_start": 1628523458859,
    "id": "uuTQn0Mn2yb8",
    "outputId": "da9a3ade-731a-48d5-c1e2-fe9d8c83b010",
    "source_hash": "ad29d379",
    "tags": []
   },
   "outputs": [
    {
     "data": {
      "text/plain": [
       "False"
      ]
     },
     "execution_count": 33,
     "metadata": {},
     "output_type": "execute_result"
    }
   ],
   "source": [
    "False and False"
   ]
  },
  {
   "cell_type": "code",
   "execution_count": 34,
   "metadata": {
    "cell_id": "00035-2206fcf6-8b73-47b6-a52d-6e60e2d6807a",
    "colab": {
     "base_uri": "https://localhost:8080/"
    },
    "deepnote_cell_type": "code",
    "deepnote_to_be_reexecuted": false,
    "execution_millis": 11,
    "execution_start": 1628523458911,
    "id": "6nN8NAhx2yb8",
    "outputId": "7100c08e-4e61-468e-914e-2f23f6ecc5b2",
    "source_hash": "8643e340",
    "tags": []
   },
   "outputs": [
    {
     "data": {
      "text/plain": [
       "False"
      ]
     },
     "execution_count": 34,
     "metadata": {},
     "output_type": "execute_result"
    }
   ],
   "source": [
    "not True"
   ]
  },
  {
   "cell_type": "code",
   "execution_count": 35,
   "metadata": {
    "cell_id": "00038-ff0d266b-4aed-42f4-96e1-e580e7dcc5c2",
    "colab": {
     "base_uri": "https://localhost:8080/"
    },
    "deepnote_cell_type": "code",
    "deepnote_to_be_reexecuted": false,
    "execution_millis": 6,
    "execution_start": 1628523460652,
    "id": "7a3QYpBr2yb9",
    "outputId": "45dbcdf8-6a4b-44d4-c19b-b66b96aa6da7",
    "source_hash": "983de6c",
    "tags": []
   },
   "outputs": [
    {
     "data": {
      "text/plain": [
       "True"
      ]
     },
     "execution_count": 35,
     "metadata": {},
     "output_type": "execute_result"
    }
   ],
   "source": [
    "not False"
   ]
  },
  {
   "cell_type": "code",
   "execution_count": 36,
   "metadata": {
    "cell_id": "00039-ab00180e-e75c-4f65-9ce4-4af21ac20fb7",
    "colab": {
     "base_uri": "https://localhost:8080/"
    },
    "deepnote_cell_type": "code",
    "deepnote_to_be_reexecuted": false,
    "execution_millis": 7,
    "execution_start": 1628523460887,
    "id": "itcRPQhQ2yb9",
    "outputId": "90f6dd95-cf00-4112-dcb4-522a78ccd3d9",
    "source_hash": "e6a141fb",
    "tags": []
   },
   "outputs": [
    {
     "data": {
      "text/plain": [
       "True"
      ]
     },
     "execution_count": 36,
     "metadata": {},
     "output_type": "execute_result"
    }
   ],
   "source": [
    "True or True"
   ]
  },
  {
   "cell_type": "code",
   "execution_count": 37,
   "metadata": {
    "cell_id": "00040-7d261ef6-af14-4af9-9772-763f2799fd94",
    "colab": {
     "base_uri": "https://localhost:8080/"
    },
    "deepnote_cell_type": "code",
    "deepnote_to_be_reexecuted": false,
    "execution_millis": 7,
    "execution_start": 1628523461120,
    "id": "Ax8nvjBD2yb-",
    "outputId": "e24c060f-a8da-4400-d259-fc025b98a5ee",
    "source_hash": "7b66dd7c",
    "tags": []
   },
   "outputs": [
    {
     "data": {
      "text/plain": [
       "False"
      ]
     },
     "execution_count": 37,
     "metadata": {},
     "output_type": "execute_result"
    }
   ],
   "source": [
    "False or False"
   ]
  },
  {
   "cell_type": "code",
   "execution_count": 38,
   "metadata": {
    "cell_id": "00041-4a84e12e-195c-4978-a07c-7a9fcf4f4225",
    "colab": {
     "base_uri": "https://localhost:8080/"
    },
    "deepnote_cell_type": "code",
    "deepnote_to_be_reexecuted": false,
    "execution_millis": 7,
    "execution_start": 1628523461239,
    "id": "fZVGItVH2yb-",
    "outputId": "aa761f3b-ff2d-41b2-85f2-d407e52844b3",
    "source_hash": "34944114",
    "tags": []
   },
   "outputs": [
    {
     "data": {
      "text/plain": [
       "True"
      ]
     },
     "execution_count": 38,
     "metadata": {},
     "output_type": "execute_result"
    }
   ],
   "source": [
    "False or True"
   ]
  },
  {
   "cell_type": "markdown",
   "metadata": {},
   "source": [
    "We can combine two conditions together but we can also combine more than two conditions !"
   ]
  },
  {
   "cell_type": "code",
   "execution_count": 8,
   "metadata": {
    "colab": {
     "base_uri": "https://localhost:8080/"
    },
    "id": "yua0mpLp3XCE",
    "outputId": "fd5eb882-c578-4cd5-ac43-4fc8253c1f9b"
   },
   "outputs": [
    {
     "data": {
      "text/plain": [
       "True"
      ]
     },
     "execution_count": 8,
     "metadata": {},
     "output_type": "execute_result"
    }
   ],
   "source": [
    "True or False and False"
   ]
  },
  {
   "cell_type": "code",
   "execution_count": 9,
   "metadata": {
    "cell_id": "00042-ae3d1e0b-7269-4ed9-bbf4-d48ece038cf3",
    "colab": {
     "base_uri": "https://localhost:8080/"
    },
    "deepnote_cell_type": "code",
    "deepnote_to_be_reexecuted": false,
    "execution_millis": 21,
    "execution_start": 1628523461595,
    "id": "uaSxFuLw2ycA",
    "outputId": "809fd40e-b3d5-4d9b-ea43-2e48c0aaf845",
    "source_hash": "ca4e291b",
    "tags": []
   },
   "outputs": [
    {
     "data": {
      "text/plain": [
       "False"
      ]
     },
     "execution_count": 9,
     "metadata": {},
     "output_type": "execute_result"
    }
   ],
   "source": [
    "(True or False) and False "
   ]
  },
  {
   "cell_type": "code",
   "execution_count": 41,
   "metadata": {
    "cell_id": "00043-ad7480ef-b1d9-43bc-b8dc-1d47fdf16189",
    "colab": {
     "base_uri": "https://localhost:8080/"
    },
    "deepnote_cell_type": "code",
    "deepnote_to_be_reexecuted": false,
    "execution_millis": 11,
    "execution_start": 1628523461605,
    "id": "4E8Punu02ycB",
    "outputId": "74d201c3-b55f-41b0-ce3e-b735862ea582",
    "source_hash": "f34eebd8",
    "tags": []
   },
   "outputs": [
    {
     "data": {
      "text/plain": [
       "True"
      ]
     },
     "execution_count": 41,
     "metadata": {},
     "output_type": "execute_result"
    }
   ],
   "source": [
    "not False or True"
   ]
  },
  {
   "cell_type": "code",
   "execution_count": 42,
   "metadata": {
    "colab": {
     "base_uri": "https://localhost:8080/"
    },
    "id": "1ykXL0y64QeH",
    "outputId": "73d493e5-c260-4608-f745-1b2052bce104"
   },
   "outputs": [
    {
     "data": {
      "text/plain": [
       "False"
      ]
     },
     "execution_count": 42,
     "metadata": {},
     "output_type": "execute_result"
    }
   ],
   "source": [
    "not (False or True)"
   ]
  },
  {
   "cell_type": "code",
   "execution_count": 43,
   "metadata": {
    "cell_id": "00044-1eb5af9e-e7d7-4753-b515-ca3f21af1369",
    "deepnote_cell_type": "code",
    "deepnote_to_be_reexecuted": false,
    "execution_millis": 3,
    "execution_start": 1628523461608,
    "id": "62cy-Ps42ycB",
    "source_hash": "7de11206",
    "tags": []
   },
   "outputs": [],
   "source": [
    "room1 = True\n",
    "room2 = False"
   ]
  },
  {
   "cell_type": "code",
   "execution_count": 44,
   "metadata": {
    "cell_id": "00039-8dc9bf33-c460-4be7-9b3b-4f673a506153",
    "colab": {
     "base_uri": "https://localhost:8080/"
    },
    "deepnote_cell_type": "code",
    "deepnote_to_be_reexecuted": false,
    "execution_millis": 5,
    "execution_start": 1628523461794,
    "id": "AR0XeIB82ycB",
    "outputId": "b4d7dd7d-aea6-461a-c704-d3e6413602a9",
    "source_hash": "6362c58e",
    "tags": []
   },
   "outputs": [
    {
     "data": {
      "text/plain": [
       "True"
      ]
     },
     "execution_count": 44,
     "metadata": {},
     "output_type": "execute_result"
    }
   ],
   "source": [
    "room1"
   ]
  },
  {
   "cell_type": "code",
   "execution_count": 45,
   "metadata": {
    "cell_id": "00040-ae2828f8-7073-4cf9-960a-227f8c664c6e",
    "colab": {
     "base_uri": "https://localhost:8080/"
    },
    "deepnote_cell_type": "code",
    "deepnote_to_be_reexecuted": false,
    "execution_millis": 25,
    "execution_start": 1628523462385,
    "id": "-813_iPO2ycC",
    "outputId": "60b58fcb-4c60-45b3-9660-b4e2d65e91b9",
    "source_hash": "e9972a73",
    "tags": []
   },
   "outputs": [
    {
     "data": {
      "text/plain": [
       "False"
      ]
     },
     "execution_count": 45,
     "metadata": {},
     "output_type": "execute_result"
    }
   ],
   "source": [
    "room1 and room2"
   ]
  },
  {
   "cell_type": "code",
   "execution_count": 48,
   "metadata": {
    "cell_id": "00049-846f3353-0019-442d-b724-c170b70f9bef",
    "colab": {
     "base_uri": "https://localhost:8080/"
    },
    "deepnote_cell_type": "code",
    "deepnote_to_be_reexecuted": false,
    "execution_millis": 6,
    "execution_start": 1628523464794,
    "id": "Qjukksjt2ycC",
    "outputId": "d27a269b-6dd6-461a-f3eb-5de4476a497d",
    "source_hash": "b517d435",
    "tags": []
   },
   "outputs": [
    {
     "data": {
      "text/plain": [
       "True"
      ]
     },
     "execution_count": 48,
     "metadata": {},
     "output_type": "execute_result"
    }
   ],
   "source": [
    "room1 or room2"
   ]
  },
  {
   "cell_type": "code",
   "execution_count": null,
   "metadata": {
    "cell_id": "00049-6fd04a31-843a-493f-b00a-2e54721eedc9",
    "colab": {
     "base_uri": "https://localhost:8080/"
    },
    "deepnote_cell_type": "code",
    "deepnote_to_be_reexecuted": false,
    "execution_millis": 9,
    "execution_start": 1628523465373,
    "id": "USthQR0V2ycD",
    "outputId": "fe359407-058a-427e-caf2-898631ce17d0",
    "source_hash": "89e6ff93",
    "tags": []
   },
   "outputs": [],
   "source": [
    "not room2"
   ]
  },
  {
   "cell_type": "code",
   "execution_count": null,
   "metadata": {
    "cell_id": "00051-f4ca396c-4ee5-4faf-bead-f23ca6bac430",
    "colab": {
     "base_uri": "https://localhost:8080/"
    },
    "deepnote_cell_type": "code",
    "deepnote_to_be_reexecuted": false,
    "execution_millis": 4,
    "execution_start": 1628523465602,
    "id": "wER01M5g2ycE",
    "outputId": "3d54134c-b383-4351-face-153185f32012",
    "source_hash": "ae38253a",
    "tags": []
   },
   "outputs": [],
   "source": [
    "(room1 and room2) or (room1 and not room2)"
   ]
  },
  {
   "cell_type": "markdown",
   "metadata": {
    "cell_id": "00054-18e2ff32-a107-4d80-866b-fe3cd720a6cf",
    "deepnote_cell_type": "markdown",
    "id": "Y557NlAg2ycE",
    "tags": []
   },
   "source": [
    "### Questions"
   ]
  },
  {
   "cell_type": "code",
   "execution_count": 49,
   "metadata": {
    "cell_id": "00055-7f03ce83-a78b-41ca-8be7-df6f90da2e7a",
    "deepnote_cell_type": "code",
    "deepnote_to_be_reexecuted": false,
    "execution_millis": 1,
    "execution_start": 1628523468479,
    "id": "LWp13Ute2ycE",
    "source_hash": "51452334",
    "tags": []
   },
   "outputs": [],
   "source": [
    "glass = False\n",
    "paper = True\n",
    "plastic = False"
   ]
  },
  {
   "cell_type": "code",
   "execution_count": 50,
   "metadata": {
    "cell_id": "00056-90c08942-9318-46f1-bf9e-b9186edeaab2",
    "colab": {
     "base_uri": "https://localhost:8080/"
    },
    "deepnote_cell_type": "code",
    "deepnote_to_be_reexecuted": false,
    "execution_millis": 9,
    "execution_start": 1628523468714,
    "id": "LqSQKAZU2ycE",
    "outputId": "5f2e4bac-8f40-4762-b6b8-5b0bac37fe5b",
    "source_hash": "8d1852bd",
    "tags": []
   },
   "outputs": [
    {
     "data": {
      "text/plain": [
       "True"
      ]
     },
     "execution_count": 50,
     "metadata": {},
     "output_type": "execute_result"
    }
   ],
   "source": [
    "not glass"
   ]
  },
  {
   "cell_type": "code",
   "execution_count": 51,
   "metadata": {
    "cell_id": "00056-713de034-a297-4584-b062-107ea2cbd321",
    "colab": {
     "base_uri": "https://localhost:8080/"
    },
    "deepnote_cell_type": "code",
    "deepnote_to_be_reexecuted": false,
    "execution_millis": 9,
    "execution_start": 1628523469252,
    "id": "mwmvbBmD2ycF",
    "outputId": "ac33de9d-44cf-4992-d612-4b7e91bbce02",
    "source_hash": "bcb12be",
    "tags": []
   },
   "outputs": [
    {
     "data": {
      "text/plain": [
       "False"
      ]
     },
     "execution_count": 51,
     "metadata": {},
     "output_type": "execute_result"
    }
   ],
   "source": [
    "glass and paper"
   ]
  },
  {
   "cell_type": "code",
   "execution_count": null,
   "metadata": {
    "cell_id": "00058-2a857d18-2871-48db-9e39-15369eb88d42",
    "colab": {
     "base_uri": "https://localhost:8080/"
    },
    "deepnote_cell_type": "code",
    "deepnote_to_be_reexecuted": false,
    "execution_millis": 15,
    "execution_start": 1628523469518,
    "id": "AEhNgAEp2ycF",
    "outputId": "3a2d2bc6-6ef7-4874-c988-33970217788d",
    "source_hash": "440f7a67",
    "tags": []
   },
   "outputs": [],
   "source": [
    "glass or paper"
   ]
  },
  {
   "cell_type": "code",
   "execution_count": null,
   "metadata": {
    "cell_id": "00056-24dd4f48-ab26-40b7-964b-4fab625e8a98",
    "colab": {
     "base_uri": "https://localhost:8080/"
    },
    "deepnote_cell_type": "code",
    "deepnote_to_be_reexecuted": false,
    "execution_millis": 8,
    "execution_start": 1628523469726,
    "id": "ZCJT0LtB2ycF",
    "outputId": "0c186bf4-5ccc-4677-d789-87e1cb52c102",
    "source_hash": "70b7e9db",
    "tags": []
   },
   "outputs": [],
   "source": [
    "glass and plastic"
   ]
  },
  {
   "cell_type": "code",
   "execution_count": null,
   "metadata": {
    "cell_id": "00057-ccd9ec51-2800-423e-8d1d-df03dd021a0f",
    "colab": {
     "base_uri": "https://localhost:8080/"
    },
    "deepnote_cell_type": "code",
    "deepnote_to_be_reexecuted": false,
    "execution_millis": 7,
    "execution_start": 1628523469728,
    "id": "lHqtoLDT2ycF",
    "outputId": "13de702a-7ee2-4e25-a426-3fa181ba8b19",
    "source_hash": "39bacadc",
    "tags": []
   },
   "outputs": [],
   "source": [
    "(glass and pastic) or paper"
   ]
  },
  {
   "cell_type": "code",
   "execution_count": null,
   "metadata": {},
   "outputs": [],
   "source": [
    "train_number = 47201\n",
    "train_color = \"blue\"\n",
    "is_broken = False\n",
    "\n",
    "train_number % 2 == 0 or train_color != \"red\" and is_broken == False"
   ]
  },
  {
   "cell_type": "markdown",
   "metadata": {
    "cell_id": "00032-069e8714-e66e-45ad-89a5-432abb6a2a1b",
    "deepnote_cell_type": "markdown",
    "deepnote_to_be_reexecuted": false,
    "execution_millis": 151028,
    "execution_start": 1628519769026,
    "id": "SVi-yYgM2ycG",
    "source_hash": "d786f697",
    "tags": []
   },
   "source": [
    "## A little more about conditions"
   ]
  },
  {
   "cell_type": "markdown",
   "metadata": {},
   "source": [
    "* Do you remember the two keywords for making decisions in python ?\n",
    "* What is indentation ?\n",
    "* What is a programming block ? How do we see it ?"
   ]
  },
  {
   "cell_type": "code",
   "execution_count": 55,
   "metadata": {
    "cell_id": "00037-91000f06-e093-4e24-83a6-6465d33fc310",
    "deepnote_cell_type": "code",
    "deepnote_to_be_reexecuted": false,
    "execution_millis": 2,
    "execution_start": 1628520254659,
    "id": "kZN5aS3w2ycH",
    "source_hash": "ee68acfd",
    "tags": []
   },
   "outputs": [],
   "source": [
    "age = 18"
   ]
  },
  {
   "cell_type": "code",
   "execution_count": 56,
   "metadata": {
    "cell_id": "00033-3843e21d-35ee-4d07-8f3a-ecd2875498e2",
    "colab": {
     "base_uri": "https://localhost:8080/"
    },
    "deepnote_cell_type": "code",
    "deepnote_to_be_reexecuted": false,
    "execution_millis": 17,
    "execution_start": 1628520255549,
    "id": "SZoo0J9U2ycH",
    "outputId": "6172bdbc-58f8-4da2-c35b-322ed0831a46",
    "source_hash": "b94d2063",
    "tags": []
   },
   "outputs": [
    {
     "name": "stdout",
     "output_type": "stream",
     "text": [
      "The person is an adult\n"
     ]
    }
   ],
   "source": [
    "if age < 18:\n",
    "    print(\"The person is a minor\")\n",
    "else:\n",
    "    print(\"The person is an adult\")"
   ]
  },
  {
   "cell_type": "code",
   "execution_count": null,
   "metadata": {
    "cell_id": "00037-aaaa8917-78de-4353-9646-1a3455597719",
    "colab": {
     "base_uri": "https://localhost:8080/"
    },
    "deepnote_cell_type": "code",
    "deepnote_to_be_reexecuted": false,
    "execution_millis": 7,
    "execution_start": 1628520283562,
    "id": "oqwyfBpW2ycH",
    "outputId": "e7f81769-db0e-4fba-8bee-ce9b7af9e1de",
    "source_hash": "38dd9507",
    "tags": []
   },
   "outputs": [],
   "source": [
    "age < 18"
   ]
  },
  {
   "cell_type": "markdown",
   "metadata": {},
   "source": [
    "If we have several conditions that we want to check we can use another keyword after an if block, called `elif` (short for else if) that will check another condition.\n",
    "\n",
    "Conditional statements always start with one if block.\n",
    "Then we can add as many elif blocks as we want (none to an infinite amount).\n",
    "And finally we can add an else block at the end (none or one)."
   ]
  },
  {
   "cell_type": "code",
   "execution_count": 62,
   "metadata": {},
   "outputs": [],
   "source": [
    "age = 0"
   ]
  },
  {
   "cell_type": "code",
   "execution_count": 63,
   "metadata": {
    "cell_id": "00031-89bb3c69-fb1c-4a1e-95f5-495c243065ed",
    "colab": {
     "base_uri": "https://localhost:8080/"
    },
    "deepnote_cell_type": "code",
    "deepnote_to_be_reexecuted": false,
    "execution_millis": 4,
    "execution_start": 1628520261802,
    "id": "yZSCYB0g2ycH",
    "outputId": "5441cf15-795f-4fde-b713-4acf16aeaa2f",
    "source_hash": "4aca005f",
    "tags": []
   },
   "outputs": [
    {
     "name": "stdout",
     "output_type": "stream",
     "text": [
      "The person is a minor\n"
     ]
    }
   ],
   "source": [
    "if age < 18:\n",
    "    print(\"The person is a minor\")\n",
    "elif age == 0:\n",
    "    print(\"I am just born\")\n",
    "elif age < 0:\n",
    "    print(\"whaaaat ????\")\n",
    "elif age == 18:\n",
    "    print(\"The person is exactly 18\")\n",
    "else:\n",
    "    print(\"The person is an adult\")"
   ]
  },
  {
   "cell_type": "code",
   "execution_count": 10,
   "metadata": {},
   "outputs": [
    {
     "name": "stdout",
     "output_type": "stream",
     "text": [
      "add yellow\n"
     ]
    }
   ],
   "source": [
    "color = \"blue\"\n",
    "#color = \"green\"\n",
    "\n",
    "if color == \"orange\":\n",
    "    print(\"do nothing\")\n",
    "elif color == \"blue\":\n",
    "    print(\"repaint\")\n",
    "elif color == \"purple\":\n",
    "    print(\"repaint\")"
   ]
  },
  {
   "cell_type": "markdown",
   "metadata": {},
   "source": [
    "We can also <strong><span style=\"color:#8e44ad\">nest conditions</span></strong> into one another:"
   ]
  },
  {
   "cell_type": "code",
   "execution_count": null,
   "metadata": {},
   "outputs": [],
   "source": [
    "train_number = 2516\n",
    "is_broken = False\n",
    "\n",
    "if is_broken:\n",
    "    print(\"repair station\")\n",
    "else:\n",
    "    if train_number % 2 == 0:\n",
    "        print(\"even station\")\n",
    "    else:\n",
    "        print(\"uneven station\")"
   ]
  },
  {
   "cell_type": "markdown",
   "metadata": {},
   "source": [
    "* How would you draw the previous example using the train tracks metaphor ?"
   ]
  },
  {
   "cell_type": "markdown",
   "metadata": {},
   "source": [
    "We can also have several decisions (intersections) after one another:"
   ]
  },
  {
   "cell_type": "code",
   "execution_count": null,
   "metadata": {},
   "outputs": [],
   "source": [
    "magic_number = 1\n",
    "\n",
    "if magic_number >= 0:\n",
    "    magic_number += 20\n",
    "else:\n",
    "    print(\"choose again\")\n",
    "if magic_number >= 10:\n",
    "    magic_number -= 10\n",
    "else:\n",
    "    print(\"choose again\")\n",
    "    \n",
    "print(magic_number)"
   ]
  },
  {
   "cell_type": "markdown",
   "metadata": {},
   "source": [
    "* How would you draw the previous example using the train tracks metaphor ?"
   ]
  },
  {
   "cell_type": "markdown",
   "metadata": {
    "cell_id": "00027-cb22e2ec-b821-4cb1-af85-a6071210c02e",
    "deepnote_cell_type": "markdown",
    "id": "6wDHuoab2ycH",
    "tags": []
   },
   "source": [
    "## Questions"
   ]
  },
  {
   "cell_type": "code",
   "execution_count": 64,
   "metadata": {
    "cell_id": "00006-1a89af34-6e47-4262-900b-085f6237cb7f",
    "deepnote_cell_type": "code",
    "deepnote_to_be_reexecuted": false,
    "execution_millis": 15,
    "execution_start": 1628522022244,
    "id": "ErbKO_DA2ycH",
    "outputId": "749b6a25-05f1-4772-81eb-b030f0232f18",
    "source_hash": "b44b55b5",
    "tags": []
   },
   "outputs": [
    {
     "name": "stdout",
     "output_type": "stream",
     "text": [
      "The class can start\n"
     ]
    }
   ],
   "source": [
    "camille = True\n",
    "nina = True\n",
    "\n",
    "if camille and nina:\n",
    "    print(\"The class can start\")\n",
    "else:\n",
    "    print(\"The class can not start\")\n",
    "\n"
   ]
  },
  {
   "cell_type": "code",
   "execution_count": null,
   "metadata": {},
   "outputs": [],
   "source": [
    "camille = \"present\"\n",
    "\n",
    "if camille = \"present\":\n",
    "    print(\"The class can start\")\n",
    "else:\n",
    "    print(\"The class can not start\")"
   ]
  },
  {
   "cell_type": "code",
   "execution_count": 68,
   "metadata": {
    "cell_id": "00042-ca216f62-ecb8-47de-877f-e5a676e3728a",
    "deepnote_cell_type": "code",
    "deepnote_to_be_reexecuted": false,
    "execution_millis": 8,
    "execution_start": 1628522169546,
    "id": "WISoCEqn2ycI",
    "outputId": "cf777bbc-face-4886-a7d7-37eac95d9ca8",
    "source_hash": "a32fc312",
    "tags": []
   },
   "outputs": [
    {
     "name": "stdout",
     "output_type": "stream",
     "text": [
      "The person's name is not josianne, not josé, not raphael\n"
     ]
    }
   ],
   "source": [
    "name = \"Raphael\"\n",
    "\n",
    "if name == \"josianne\":\n",
    "    print(\"The person's name is josianne\")\n",
    "elif name == \"josé\":\n",
    "    print(\"The person's name is josé\")\n",
    "elif name == \"raphael\":\n",
    "    print(\"The person's name is raphael\")\n",
    "else:\n",
    "    print(\"The person's name is not josianne, not josé, not raphael\")"
   ]
  },
  {
   "cell_type": "code",
   "execution_count": 69,
   "metadata": {
    "cell_id": "00043-044e48c0-1353-483d-a7c4-7e83e2231cbb",
    "colab": {
     "base_uri": "https://localhost:8080/"
    },
    "deepnote_cell_type": "code",
    "deepnote_to_be_reexecuted": false,
    "execution_millis": 11,
    "execution_start": 1628523086167,
    "id": "IEuHbsnq2ycI",
    "outputId": "808b0020-56ef-4d54-e688-3e3a5d3e0149",
    "source_hash": "44bcfa6d",
    "tags": []
   },
   "outputs": [
    {
     "name": "stdout",
     "output_type": "stream",
     "text": [
      "The number is divisible by 2\n"
     ]
    }
   ],
   "source": [
    "my_number = 2790154\n",
    "if my_number % 2 == 0:\n",
    "    print(\"The number is divisible by 2\")\n",
    "elif my_number % 1 == 0: \n",
    "    print(\"The number is divisible by 3\")\n",
    "elif (my_number % 2 == 0 and my_number % 3 == 0):\n",
    "    print(\"The number is divisible by 2 and 3\")"
   ]
  },
  {
   "cell_type": "markdown",
   "metadata": {},
   "source": [
    "<h2><strong><span style=\"color:#3498db\">Pause and Recall</span></strong></h2>\n",
    "\n",
    "<ul>\n",
    "\t<li><strong><span style=\"color:#3498db\">What did we learn so far ?&nbsp;</span></strong></li>\n",
    "\t<li><strong><span style=\"color:#3498db\">What are some definitions that you might need to remember ?&nbsp;</span></strong></li>\n",
    "\t<li><strong><span style=\"color:#3498db\">What are special cases that you might need to remember ?&nbsp;</span></strong></li>\n",
    "\t<li><strong><span style=\"color:#3498db\">What might be possible questions on the next test ?</span></strong></li>\n",
    "</ul>\n"
   ]
  },
  {
   "cell_type": "markdown",
   "metadata": {
    "cell_id": "00043-67833ac7-9f93-4d7e-89ca-107ebb6eaf0e",
    "deepnote_cell_type": "markdown",
    "deepnote_to_be_reexecuted": false,
    "execution_millis": 24,
    "execution_start": 1628522356683,
    "id": "S2QWBgQc2ycI",
    "source_hash": "4d12332a",
    "tags": []
   },
   "source": [
    "## Exercises\n",
    "For all the following exercises remember to provide general solutions. This means that the value of the variable can change and your script should still provide the correct answer, depending on that variable."
   ]
  },
  {
   "cell_type": "markdown",
   "metadata": {
    "id": "3by7YqIf6ijz"
   },
   "source": [
    "### Exercise 1\n",
    "Write a script to find out if a number is even or not."
   ]
  },
  {
   "cell_type": "code",
   "execution_count": null,
   "metadata": {
    "id": "ynhdAimN6myp"
   },
   "outputs": [],
   "source": [
    "x = 1845"
   ]
  },
  {
   "cell_type": "markdown",
   "metadata": {
    "cell_id": "00086-211a335a-2749-42fc-a768-a8e8a7c998ab",
    "deepnote_cell_type": "markdown",
    "id": "2aJmWl8I2ycJ",
    "tags": []
   },
   "source": [
    "### Exercise 2"
   ]
  },
  {
   "cell_type": "markdown",
   "metadata": {
    "cell_id": "00087-089f9572-136f-4d7f-b073-3b4214637370",
    "deepnote_cell_type": "markdown",
    "id": "R3qxpJKH2ycJ",
    "tags": []
   },
   "source": [
    "Write a script that displays whether a year is a leap year or not. You can for example test your script with your birth year."
   ]
  },
  {
   "cell_type": "code",
   "execution_count": null,
   "metadata": {
    "cell_id": "00088-95797790-457e-4f11-899e-ea7a18652eac",
    "deepnote_cell_type": "code",
    "id": "0koNe6Q22ycJ",
    "tags": []
   },
   "outputs": [],
   "source": [
    "#Your code"
   ]
  },
  {
   "cell_type": "markdown",
   "metadata": {
    "cell_id": "00092-157ae320-7d16-4d3b-9b39-3e8d572ff1cb",
    "deepnote_cell_type": "markdown",
    "id": "LHUS_In_2ycK",
    "tags": []
   },
   "source": [
    "### Exercise 3"
   ]
  },
  {
   "cell_type": "code",
   "execution_count": null,
   "metadata": {
    "cell_id": "00093-6fc09509-e378-4531-8efb-492867dbf798",
    "deepnote_cell_type": "code",
    "deepnote_to_be_reexecuted": false,
    "execution_millis": 1,
    "execution_start": 1628525593774,
    "id": "pjkrXX832ycK",
    "source_hash": "10cb37b8",
    "tags": []
   },
   "outputs": [],
   "source": [
    "string1 = \"ACGTGCAGAGACATAGATAGATACAGATATATAGAGACATACGTGTCGTACGTTGTACGATGACAGATGA\"\n",
    "string2 = \"GATAGCGATAGGTATACAAGTATTTGACTTACGATCGATCACATTAGATACCCATATATAGATAC\""
   ]
  },
  {
   "cell_type": "markdown",
   "metadata": {
    "cell_id": "00094-f6462013-5cbb-4495-b520-5265bbe125f6",
    "deepnote_cell_type": "markdown",
    "id": "hRV9ZdoP2ycL",
    "tags": []
   },
   "source": [
    "Write a script that compares the length of 2 strands of dna. If the 1st is longer, display the 1st strand, if the 2nd is longer display the 2nd, if they are both equal, display the length.\n",
    "The function `len()` might be useful: https://www.programiz.com/python-programming/methods/built-in/len"
   ]
  },
  {
   "cell_type": "code",
   "execution_count": null,
   "metadata": {
    "cell_id": "00093-b202ff41-2adb-42cf-a91d-954ca1ea6d33",
    "deepnote_cell_type": "code",
    "deepnote_to_be_reexecuted": false,
    "execution_millis": 0,
    "execution_start": 1628525678993,
    "id": "O4qIOXlB2ycL",
    "source_hash": "b19e3ca6",
    "tags": []
   },
   "outputs": [],
   "source": [
    "#Your code"
   ]
  },
  {
   "cell_type": "markdown",
   "metadata": {
    "cell_id": "00095-133df64d-77e2-4f23-a1d7-ef2dfe6fe129",
    "deepnote_cell_type": "markdown",
    "id": "DsNDTHND2ycL",
    "tags": []
   },
   "source": [
    "### Exercise 4"
   ]
  },
  {
   "cell_type": "markdown",
   "metadata": {
    "cell_id": "00097-785539e6-3a1f-4614-9cd3-da913f067570",
    "deepnote_cell_type": "markdown",
    "id": "Y5k0GjgB2ycL",
    "tags": []
   },
   "source": [
    "Write a script to find out if your number is divisible by 2, 3, 5, 7. If so, display your number and its divisors"
   ]
  },
  {
   "cell_type": "code",
   "execution_count": null,
   "metadata": {
    "cell_id": "00098-016d3f2b-c697-444b-8b7a-9e22ce12ec15",
    "deepnote_cell_type": "code",
    "id": "2jHgjxyQ2ycL",
    "tags": []
   },
   "outputs": [],
   "source": [
    "#Your code"
   ]
  },
  {
   "cell_type": "markdown",
   "metadata": {},
   "source": [
    "### Exercise 5\n",
    "Write a program that asks the user for a temperature in Farenheit and converts it to Celsius. Use a conditional statement to print a message like \"It's hot!\" if the temperature is above 30 degrees Celsius and \"It's cool\" otherwise. \n",
    "*(hint: to ask for user input the `input()` function may be useful: https://www.programiz.com/python-programming/methods/built-in/input)*"
   ]
  },
  {
   "cell_type": "code",
   "execution_count": null,
   "metadata": {},
   "outputs": [],
   "source": []
  },
  {
   "cell_type": "markdown",
   "metadata": {
    "cell_id": "00099-1f0422e2-b01c-4574-979a-863a79b5bfb8",
    "deepnote_cell_type": "markdown",
    "id": "YvBqJLZA2ycL",
    "tags": []
   },
   "source": [
    "### Exercise 6"
   ]
  },
  {
   "cell_type": "markdown",
   "metadata": {
    "cell_id": "00100-cbbd0fe4-f8d5-453f-bb0a-e8a2bfb00e28",
    "deepnote_cell_type": "markdown",
    "id": "1tbq8eK12ycM",
    "tags": []
   },
   "source": [
    "Write a program that takes a single letter as user input and determines whether it's a vowel or a consonant. Use a conditional statement with boolean operators to make the decision."
   ]
  },
  {
   "cell_type": "code",
   "execution_count": null,
   "metadata": {
    "cell_id": "00099-cfb0c61a-7e94-4158-9238-1b29caafb1c0",
    "deepnote_cell_type": "code",
    "id": "c1FBz9TI2ycM",
    "tags": []
   },
   "outputs": [],
   "source": [
    "#Your code"
   ]
  },
  {
   "cell_type": "markdown",
   "metadata": {
    "id": "ScZqFo-F7N2y"
   },
   "source": [
    "### Exercise 7\n",
    "\n",
    "Write a script that gives you your Chinese zodiac sign according to your birth year."
   ]
  },
  {
   "cell_type": "code",
   "execution_count": null,
   "metadata": {
    "id": "3gnLgmED7Va1"
   },
   "outputs": [],
   "source": [
    "year = 2002"
   ]
  },
  {
   "cell_type": "markdown",
   "metadata": {
    "cell_id": "00101-caa2c558-75ca-45b7-aceb-7f769b3b137c",
    "deepnote_cell_type": "markdown",
    "id": "aGKaIk1g2ycM",
    "tags": []
   },
   "source": [
    "### Exercise 8"
   ]
  },
  {
   "cell_type": "markdown",
   "metadata": {
    "cell_id": "00103-b8e9c3c5-1657-4999-85a0-bfd855528c0e",
    "deepnote_cell_type": "markdown",
    "id": "TcCEtqkP2ycM",
    "tags": []
   },
   "source": [
    "You are participating in the world championship of ricochets in the sea. You want to know if your number of bounces for your throw: exceeds the world record of bounces, exceeds the record of the competition, exceeds your individual record. You also want to know if several of these conditions are met at the same time or none of these conditions are met. Write a script that gives you this information for a number n of rebounds, knowing that the world record is 88 rebounds (true information), the competition record is 22 rebounds and your personal record is 21 rebounds. "
   ]
  },
  {
   "cell_type": "code",
   "execution_count": null,
   "metadata": {
    "cell_id": "00100-6a838621-582a-4533-b0b3-1bf45da46120",
    "deepnote_cell_type": "code",
    "id": "qkbzjmK02ycM",
    "tags": []
   },
   "outputs": [],
   "source": [
    "n = 12\n",
    "#Your code"
   ]
  },
  {
   "cell_type": "markdown",
   "metadata": {
    "cell_id": "00097-92baa75c-5404-4ddc-8baa-9bdfee65e102",
    "deepnote_cell_type": "markdown",
    "id": "ZgFN5GEY2ycN",
    "tags": []
   },
   "source": [
    "### Exercise 9"
   ]
  },
  {
   "cell_type": "markdown",
   "metadata": {
    "cell_id": "00106-8a7a39b1-d51d-4e32-82e6-cab8a0e401ab",
    "deepnote_cell_type": "markdown",
    "id": "NRwrsicV2ycN",
    "tags": []
   },
   "source": [
    "Create a program that asks the user to input their exam score as a percentage. Based on the score, use conditional statements to print out their letter grade (A, B, C, D, or F). You can define your grading criteria."
   ]
  },
  {
   "cell_type": "code",
   "execution_count": null,
   "metadata": {
    "cell_id": "00096-81817c7b-8ea4-4b90-87ec-c8bbc75f0d46",
    "deepnote_cell_type": "code",
    "id": "mmHwnb222ycN",
    "tags": []
   },
   "outputs": [],
   "source": [
    "#Your code"
   ]
  },
  {
   "cell_type": "markdown",
   "metadata": {
    "id": "-aHYZxP55U6v"
   },
   "source": [
    "### Exercise 10\n",
    "Write a program that asks the user for thee pieces of information: the current temperature, whether it's raining (yes or no) and whether thay get cold usually (yes or no. Based on these inputs, provide weather advice to the user. For example, if it's below 15°c degrees, not raining and the user gets cold usually, you might suggest wearing a pullover. "
   ]
  },
  {
   "cell_type": "code",
   "execution_count": null,
   "metadata": {},
   "outputs": [],
   "source": []
  },
  {
   "cell_type": "markdown",
   "metadata": {},
   "source": [
    "### Exercise 11 - Self Reflection\n",
    "* What exercise were easy for you ? \n",
    "* What exercises were hard ?\n",
    "* What were these hardships and what how did you overcome those/what were the solutions ? \n",
    "* Did you create a set of study notes about this session ?"
   ]
  },
  {
   "cell_type": "markdown",
   "metadata": {},
   "source": [
    "### Already done ?\n",
    "Continue practicing your skills with more challenging exercises on https://www.hackinscience.org/"
   ]
  },
  {
   "cell_type": "code",
   "execution_count": null,
   "metadata": {},
   "outputs": [],
   "source": []
  }
 ],
 "metadata": {
  "colab": {
   "collapsed_sections": [],
   "provenance": []
  },
  "deepnote": {
   "is_reactive": false
  },
  "deepnote_execution_queue": [],
  "deepnote_notebook_id": "914d28ff-7dea-4463-ba3a-1f06e6fd5f1a",
  "kernelspec": {
   "display_name": "Python 3 (ipykernel)",
   "language": "python",
   "name": "python3"
  },
  "language_info": {
   "codemirror_mode": {
    "name": "ipython",
    "version": 3
   },
   "file_extension": ".py",
   "mimetype": "text/x-python",
   "name": "python",
   "nbconvert_exporter": "python",
   "pygments_lexer": "ipython3",
   "version": "3.9.16"
  }
 },
 "nbformat": 4,
 "nbformat_minor": 1
}
