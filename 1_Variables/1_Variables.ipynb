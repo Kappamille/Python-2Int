{
 "cells": [
  {
   "cell_type": "markdown",
   "metadata": {
    "cell_id": "00002-6d3d3b09-505d-4d62-8d42-28e7bc8414ce",
    "deepnote_cell_type": "text-cell-h1",
    "id": "ahh890SCOamE",
    "is_collapsed": false,
    "tags": []
   },
   "source": [
    "# Variables & Types\n",
    "Camille Duquesne - 2Int"
   ]
  },
  {
   "cell_type": "markdown",
   "metadata": {
    "cell_id": "00004-71ec464a-4c3e-480e-83df-5d83f8d1723c",
    "deepnote_cell_type": "markdown",
    "id": "u8ZFZYjWOamL",
    "tags": []
   },
   "source": [
    "Class Objectives:\n",
    "\n",
    "* Adding/deleting cells to a ipynb file \n",
    "* Writing in memory\n",
    "* Reading from memory\n",
    "* Running an ipynb cell /executing ocde\n",
    "* Restarting the kernel of a notebook\n",
    "* Creating a variable in python\n",
    "* Printing a variable in python\n",
    "* Explaining the role of memory in variables and programming\n",
    "* Identifying errors linked to non defined variables in python\n",
    "* Use the common mathematical operators (+,-,*,/,//,%,**)\n",
    "* Differentiate between different variable types, upon creation and while reading code\n",
    "* Casting variables to different types\n"
   ]
  },
  {
   "cell_type": "markdown",
   "metadata": {},
   "source": [
    "___"
   ]
  },
  {
   "cell_type": "markdown",
   "metadata": {},
   "source": [
    "## Scratch Solution"
   ]
  },
  {
   "cell_type": "markdown",
   "metadata": {},
   "source": [
    "<img src=\"Scratch.png\"\n",
    "     alt=\"Scratch solution\"\n",
    "     width=\"300\"/>"
   ]
  },
  {
   "cell_type": "markdown",
   "metadata": {},
   "source": [
    "## And now in python ! "
   ]
  },
  {
   "cell_type": "markdown",
   "metadata": {},
   "source": [
    "To <strong><span style=\"color:#8e44ad\">define a variable</span></strong> (add a new box to our memory) we need a <strong><span style=\"color:#8e44ad\">variable name</span></strong>&nbsp;, some <span style=\"color:#8e44ad\"><strong>information/value</strong></span> and the <strong><span style=\"color:#8e44ad\">= (equal) opertor</span></strong> to assign some information to our variable name."
   ]
  },
  {
   "cell_type": "code",
   "execution_count": 2,
   "metadata": {},
   "outputs": [],
   "source": [
    "favorite_number = 3"
   ]
  },
  {
   "cell_type": "markdown",
   "metadata": {},
   "source": [
    "<ul>\n",
    "\t<li>What is the variable name in the previous line of code ?&nbsp;</li>\n",
    "\t<li>What is the information/value stored inside the variable ?</li>\n",
    "\t<li>What does it mean to<span style=\"color:#8e44ad\"><strong> assign</strong></span> a value to a variable, if you reuse the box metaphor ?</li>\n",
    "</ul>"
   ]
  },
  {
   "cell_type": "markdown",
   "metadata": {},
   "source": [
    "Now if we want to read what we stored in our box we use the function `print()`"
   ]
  },
  {
   "cell_type": "code",
   "execution_count": 3,
   "metadata": {},
   "outputs": [
    {
     "name": "stdout",
     "output_type": "stream",
     "text": [
      "3\n"
     ]
    }
   ],
   "source": [
    "print(favorite_number)"
   ]
  },
  {
   "cell_type": "markdown",
   "metadata": {},
   "source": [
    "<p>But how can we read anything from memory ? Nothing happened so far ...</p>\n",
    "\n",
    "<p>That&#39;s because we didn&#39;t <span style=\"color:#8e44ad\"><strong>execute</strong></span> the code. This means we wrote code but we never asked the computer to read it. Almost like writing an entire theater play but not giving it to anyone so it&#39;s never played, what a shame right ...</p>\n",
    "<br>\n",
    "\n"
   ]
  },
  {
   "cell_type": "markdown",
   "metadata": {},
   "source": [
    "<p>To execute the code, we first click to select the <span style=\"color:#8e44ad\"><strong>cell</span></strong> we want to execute (it should have a green box around it) and then we press the Run button (play button) OR shift + enter keys.</p>\n",
    "\n",
    "<p>If it worked you should have a number between the &quot;In [ ]&quot; brackets on the left side of your cell.&nbsp;</p>\n",
    "\n",
    "<ul>\n",
    "\t<li>Try running the previous cell:&nbsp;print(favorite_number)</li>\n",
    "    <li>What happens ?</li>\n",
    "</ul>\n"
   ]
  },
  {
   "cell_type": "markdown",
   "metadata": {},
   "source": [
    "<p>When you see red after you execute a cell, it means you got an <span style=\"color:#8e44ad\"><strong>error</strong></span>, something went wrong.</p>\n",
    "\n",
    "<p>Here more specifically we are told it&#39;s a <span style=\"color:#8e44ad\"><strong>NameError</strong></span>, and we have a help message saying:&nbsp;name &#39;favorite_number&#39; is not defined.</p>\n",
    "\n",
    "<ul>\n",
    "\t<li>Why does this happen ?&nbsp;</li>\n",
    "\t<li>How can we fix it ?&nbsp;</li>\n",
    "</ul>"
   ]
  },
  {
   "cell_type": "markdown",
   "metadata": {},
   "source": [
    "<p>Indeed here we tried <span style=\"color:#8e44ad\"><strong>reading from memory</strong></span> before <span style=\"color:#8e44ad\"><strong>writing into memory.&nbsp;</strong></span>We are trying to look for a box we never created !&nbsp;</p>\n",
    "\n",
    "<p>This is a common mistake so if you ever see that message again, check if you executed all your cells in order.</p>\n",
    "<ul>\n",
    "\t<li>Try executing both our cells in top-down order again. Is it working ?</li>\n",
    "</ul>\n",
    "\n",
    "<strong>Congrats, now you can create and read variables of your own imagination ! How about creating your own age variable ?<strong>"
   ]
  },
  {
   "cell_type": "code",
   "execution_count": 4,
   "metadata": {},
   "outputs": [],
   "source": []
  },
  {
   "cell_type": "markdown",
   "metadata": {},
   "source": [
    "## Mathematical operations"
   ]
  },
  {
   "cell_type": "markdown",
   "metadata": {},
   "source": [
    "<p>Now that we have become experts in defining and reading variables let&#39;s see how variables can interact together, this could help us budgeting for example. For that we will need some <span style=\"color:#8e44ad\"><strong>mathematical operators</strong></span>.</p>"
   ]
  },
  {
   "cell_type": "markdown",
   "metadata": {},
   "source": [
    "Imagine you have a big day of studying ahead so you buy grapes and chocolate as a snack to motivate you. \n",
    "However you want to know how much pocket money you will still have by the end of the day ,to see if you can get a snack with friends later on. \n",
    "Your pocket money at the beginning of the day is 10€, the grapes cost 3€ and the chocolate 2€\n",
    "* How can you compute how much pockey money you have left in [scratch](https://scratch.mit.edu/projects/editor/) ?\n",
    "\n",
    "\n",
    "Let's see how we can translate that scratch exercise to python !"
   ]
  },
  {
   "cell_type": "markdown",
   "metadata": {},
   "source": [
    "<p>In python the following standard mathematical operations are possible:</p>\n",
    "\n",
    "<ul>\n",
    "\t<li>addition, with the <span style=\"color:#8e44ad\"><strong>+ operator</strong></span></li>\n",
    "\t<li>substraction, with the <span style=\"color:#8e44ad\"><strong>- operator</strong></span></li>\n",
    "\t<li>multiplciation, with the &nbsp;<span style=\"color:#8e44ad\"><strong>* operator</strong></span></li>\n",
    "\t<li>division, with the <span style=\"color:#8e44ad\"><strong>/ operator</strong></span> &nbsp; &nbsp; &nbsp;</li>\n",
    "</ul>\n",
    "\n",
    "<p>To perform a mathematical operation we use one value on the left side of the operator and one value on the right side of the operator.&nbsp;</p>\n",
    "\n",
    "<p>For example:</p>"
   ]
  },
  {
   "cell_type": "code",
   "execution_count": 5,
   "metadata": {},
   "outputs": [
    {
     "name": "stdout",
     "output_type": "stream",
     "text": [
      "3\n"
     ]
    }
   ],
   "source": [
    "print(1 + 2)"
   ]
  },
  {
   "cell_type": "code",
   "execution_count": 6,
   "metadata": {},
   "outputs": [
    {
     "name": "stdout",
     "output_type": "stream",
     "text": [
      "15\n"
     ]
    }
   ],
   "source": [
    "print(3 * 5)"
   ]
  },
  {
   "cell_type": "code",
   "execution_count": 7,
   "metadata": {},
   "outputs": [
    {
     "name": "stdout",
     "output_type": "stream",
     "text": [
      "208.0\n"
     ]
    }
   ],
   "source": [
    "print(1248 / 6)"
   ]
  },
  {
   "cell_type": "markdown",
   "metadata": {},
   "source": [
    "We can also use variables to perform the operations.\n",
    "For example:"
   ]
  },
  {
   "cell_type": "code",
   "execution_count": 8,
   "metadata": {},
   "outputs": [],
   "source": [
    "a = 1\n",
    "b = 3"
   ]
  },
  {
   "cell_type": "code",
   "execution_count": 9,
   "metadata": {},
   "outputs": [
    {
     "name": "stdout",
     "output_type": "stream",
     "text": [
      "4\n"
     ]
    }
   ],
   "source": [
    "print(a + b)"
   ]
  },
  {
   "cell_type": "code",
   "execution_count": 10,
   "metadata": {},
   "outputs": [
    {
     "name": "stdout",
     "output_type": "stream",
     "text": [
      "-2\n"
     ]
    }
   ],
   "source": [
    "print(a - b)"
   ]
  },
  {
   "cell_type": "code",
   "execution_count": 11,
   "metadata": {},
   "outputs": [
    {
     "name": "stdout",
     "output_type": "stream",
     "text": [
      "3\n"
     ]
    }
   ],
   "source": [
    "print(a * b)"
   ]
  },
  {
   "cell_type": "code",
   "execution_count": 12,
   "metadata": {},
   "outputs": [
    {
     "name": "stdout",
     "output_type": "stream",
     "text": [
      "0.3333333333333333\n"
     ]
    }
   ],
   "source": [
    "print(a / b)"
   ]
  },
  {
   "cell_type": "markdown",
   "metadata": {},
   "source": [
    "Mathematical priorities apply here too (mulitplication has priority over addition):"
   ]
  },
  {
   "cell_type": "code",
   "execution_count": 13,
   "metadata": {
    "cell_id": "00010-3fd60369-8b7f-42a7-8e5e-393a0f51bf99",
    "colab": {
     "base_uri": "https://localhost:8080/"
    },
    "deepnote_cell_type": "code",
    "deepnote_to_be_reexecuted": false,
    "executionInfo": {
     "elapsed": 269,
     "status": "ok",
     "timestamp": 1631517635010,
     "user": {
      "displayName": "Camille D",
      "photoUrl": "https://lh3.googleusercontent.com/a/default-user=s64",
      "userId": "06661350414667447422"
     },
     "user_tz": -120
    },
    "execution_millis": 5,
    "execution_start": 1628500485097,
    "id": "afyIqOHOOamO",
    "outputId": "bf684e5f-2cf0-40b4-e5c3-c5c74293f5b5",
    "source_hash": "27aa00a9",
    "tags": []
   },
   "outputs": [
    {
     "name": "stdout",
     "output_type": "stream",
     "text": [
      "9\n"
     ]
    }
   ],
   "source": [
    "print(4 * 2 + 1) "
   ]
  },
  {
   "cell_type": "markdown",
   "metadata": {},
   "source": [
    "But you can also use parentheses to force the priority:"
   ]
  },
  {
   "cell_type": "code",
   "execution_count": 14,
   "metadata": {
    "cell_id": "00011-890907c3-5108-44b6-96b0-aa3ffe2398d3",
    "colab": {
     "base_uri": "https://localhost:8080/"
    },
    "deepnote_cell_type": "code",
    "deepnote_to_be_reexecuted": false,
    "executionInfo": {
     "elapsed": 210,
     "status": "ok",
     "timestamp": 1631517649219,
     "user": {
      "displayName": "Camille D",
      "photoUrl": "https://lh3.googleusercontent.com/a/default-user=s64",
      "userId": "06661350414667447422"
     },
     "user_tz": -120
    },
    "execution_millis": 5,
    "execution_start": 1628500490313,
    "id": "Tkg96QLzOamP",
    "outputId": "cb630461-32e7-495f-ce8e-43787862d613",
    "source_hash": "3ca629c8",
    "tags": []
   },
   "outputs": [
    {
     "name": "stdout",
     "output_type": "stream",
     "text": [
      "12\n"
     ]
    }
   ],
   "source": [
    "print(4 * (2 + 1))"
   ]
  },
  {
   "cell_type": "markdown",
   "metadata": {},
   "source": [
    "We can also store the result of a calculation into a new variable:"
   ]
  },
  {
   "cell_type": "code",
   "execution_count": 15,
   "metadata": {},
   "outputs": [
    {
     "name": "stdout",
     "output_type": "stream",
     "text": [
      "4\n"
     ]
    }
   ],
   "source": [
    "c = a + b * a \n",
    "print(c)"
   ]
  },
  {
   "cell_type": "markdown",
   "metadata": {},
   "source": [
    "Now that you know all the mathematical basics let's translate the previous exercise into python !\n",
    "* first, define all the variables\n",
    "* second, perform the needed mathematical operation / modifications to variables\n",
    "* thrid, print the result !"
   ]
  },
  {
   "cell_type": "code",
   "execution_count": 17,
   "metadata": {},
   "outputs": [
    {
     "name": "stdout",
     "output_type": "stream",
     "text": [
      "5\n"
     ]
    }
   ],
   "source": []
  },
  {
   "cell_type": "markdown",
   "metadata": {},
   "source": [
    "### Advanced mathematical operators"
   ]
  },
  {
   "cell_type": "markdown",
   "metadata": {},
   "source": [
    "<p>To perform more complex calculations we have three more mathematical operators that are less common.</p>\n",
    "\n",
    "<ul>\n",
    "\t<li>the power calculation, with the <span style=\"color:#8e44ad\"><strong>** operator</strong></span></li>\n",
    "\t<li>the floor division, with the <span style=\"color:#8e44ad\"><strong>// operator</strong></span></li>\n",
    "\t<li>the modulo, with the <span style=\"color:#8e44ad\"><strong>% operator</strong></span></li>\n",
    "</ul>"
   ]
  },
  {
   "cell_type": "markdown",
   "metadata": {},
   "source": [
    "<p>The <span style=\"color:#8e44ad\"><strong>power calulation</strong></span> takes the left number as the base and the right number as the exponent:</p>"
   ]
  },
  {
   "cell_type": "code",
   "execution_count": 18,
   "metadata": {},
   "outputs": [
    {
     "name": "stdout",
     "output_type": "stream",
     "text": [
      "8\n"
     ]
    }
   ],
   "source": [
    "print(2 ** 3)"
   ]
  },
  {
   "cell_type": "code",
   "execution_count": 19,
   "metadata": {},
   "outputs": [
    {
     "name": "stdout",
     "output_type": "stream",
     "text": [
      "243\n"
     ]
    }
   ],
   "source": [
    "print(3 ** 5)"
   ]
  },
  {
   "cell_type": "markdown",
   "metadata": {},
   "source": [
    "<p>The <span style=\"color:#8e44ad\"><strong>floor division</strong></span> takes the left number as the number to be divied and the right number as the divisor. The floor division is almost like a normal division, expect it only gives you the whole part of the division as the result.</p>"
   ]
  },
  {
   "cell_type": "code",
   "execution_count": 21,
   "metadata": {},
   "outputs": [
    {
     "name": "stdout",
     "output_type": "stream",
     "text": [
      "4\n"
     ]
    }
   ],
   "source": [
    "print(9 // 2) # floor division"
   ]
  },
  {
   "cell_type": "code",
   "execution_count": 20,
   "metadata": {},
   "outputs": [
    {
     "name": "stdout",
     "output_type": "stream",
     "text": [
      "4.5\n"
     ]
    }
   ],
   "source": [
    "print(9 / 2) # whole division"
   ]
  },
  {
   "cell_type": "markdown",
   "metadata": {},
   "source": [
    "<p>The <span style=\"color:#8e44ad\"><strong>modulo</strong></span> takes the left number as the number to be divied and the right number as the divisor as well. The modulo will give you the remainder of the floor division.</p>\n"
   ]
  },
  {
   "cell_type": "code",
   "execution_count": 22,
   "metadata": {},
   "outputs": [
    {
     "name": "stdout",
     "output_type": "stream",
     "text": [
      "1\n"
     ]
    }
   ],
   "source": [
    "print(9 % 2)"
   ]
  },
  {
   "cell_type": "code",
   "execution_count": 23,
   "metadata": {},
   "outputs": [
    {
     "name": "stdout",
     "output_type": "stream",
     "text": [
      "0\n"
     ]
    }
   ],
   "source": [
    "print(10 % 2)"
   ]
  },
  {
   "cell_type": "markdown",
   "metadata": {
    "cell_id": "00016-9e61cc4b-c4d3-47dc-a292-520963667936",
    "deepnote_cell_type": "markdown",
    "deepnote_to_be_reexecuted": false,
    "execution_millis": 1,
    "execution_start": 1628500557511,
    "id": "ylgHdfw9OamR",
    "source_hash": "dd65667e",
    "tags": []
   },
   "source": [
    "### Let's test your understanding\n",
    "Before running the cells try guessing what the result will be:"
   ]
  },
  {
   "cell_type": "code",
   "execution_count": 24,
   "metadata": {
    "cell_id": "00017-73bdaa18-728a-4888-a1ef-8daa7ee2ac61",
    "colab": {
     "base_uri": "https://localhost:8080/"
    },
    "deepnote_cell_type": "code",
    "deepnote_to_be_reexecuted": false,
    "executionInfo": {
     "elapsed": 746,
     "status": "ok",
     "timestamp": 1631274565588,
     "user": {
      "displayName": "Camille D",
      "photoUrl": "",
      "userId": "06661350414667447422"
     },
     "user_tz": -120
    },
    "execution_millis": 11,
    "execution_start": 1628500562994,
    "id": "aFjcJ7U6OamR",
    "outputId": "957645ec-023a-431d-8472-2f6efda7fd9b",
    "source_hash": "3bff271d",
    "tags": []
   },
   "outputs": [
    {
     "name": "stdout",
     "output_type": "stream",
     "text": [
      "10\n"
     ]
    }
   ],
   "source": [
    "print((1 + 5) + 4)"
   ]
  },
  {
   "cell_type": "code",
   "execution_count": 25,
   "metadata": {
    "cell_id": "00021-72f9d3c1-d9f1-4ea2-b44f-c7a85b37d79b",
    "colab": {
     "base_uri": "https://localhost:8080/"
    },
    "deepnote_cell_type": "code",
    "deepnote_to_be_reexecuted": false,
    "executionInfo": {
     "elapsed": 5,
     "status": "ok",
     "timestamp": 1631274565590,
     "user": {
      "displayName": "Camille D",
      "photoUrl": "",
      "userId": "06661350414667447422"
     },
     "user_tz": -120
    },
    "execution_millis": 5,
    "execution_start": 1628500577870,
    "id": "lr_F-7dGOamT",
    "outputId": "f5016a79-9dea-49a1-d83a-a6d26456db19",
    "scrolled": true,
    "source_hash": "e3a40665",
    "tags": []
   },
   "outputs": [
    {
     "name": "stdout",
     "output_type": "stream",
     "text": [
      "4.5\n"
     ]
    }
   ],
   "source": [
    "print(9 / 2)"
   ]
  },
  {
   "cell_type": "code",
   "execution_count": 26,
   "metadata": {},
   "outputs": [
    {
     "name": "stdout",
     "output_type": "stream",
     "text": [
      "1\n"
     ]
    }
   ],
   "source": [
    "print((2 + 5) // 4)"
   ]
  },
  {
   "cell_type": "code",
   "execution_count": 27,
   "metadata": {},
   "outputs": [
    {
     "name": "stdout",
     "output_type": "stream",
     "text": [
      "0\n"
     ]
    }
   ],
   "source": [
    "print(1456 % 2)"
   ]
  },
  {
   "cell_type": "code",
   "execution_count": 28,
   "metadata": {},
   "outputs": [
    {
     "name": "stdout",
     "output_type": "stream",
     "text": [
      "25\n"
     ]
    }
   ],
   "source": [
    "print(5 ** 2)"
   ]
  },
  {
   "cell_type": "code",
   "execution_count": 29,
   "metadata": {},
   "outputs": [
    {
     "name": "stdout",
     "output_type": "stream",
     "text": [
      "16\n"
     ]
    }
   ],
   "source": [
    "print((9 // 2) ** 2)"
   ]
  },
  {
   "cell_type": "code",
   "execution_count": 30,
   "metadata": {},
   "outputs": [
    {
     "name": "stdout",
     "output_type": "stream",
     "text": [
      "2\n"
     ]
    }
   ],
   "source": [
    "print(9 // 2 ** 2)"
   ]
  },
  {
   "cell_type": "code",
   "execution_count": 31,
   "metadata": {},
   "outputs": [
    {
     "name": "stdout",
     "output_type": "stream",
     "text": [
      "1\n"
     ]
    }
   ],
   "source": [
    "print(1 ** 2 ** 2)"
   ]
  },
  {
   "cell_type": "code",
   "execution_count": 35,
   "metadata": {
    "scrolled": true
   },
   "outputs": [
    {
     "name": "stdout",
     "output_type": "stream",
     "text": [
      "124417594187509685164558642788862198902429202471257063401887122039742201160450957570356940554176158001928593251030525097258535775460973853500693458077634808533632419372483184810008240015492745448163941220952747202063498502458674845533682061533871040618379026328840418039456725738591913113310459908356797996259932219894273611229418195414843899878797311475297824442500448202781772664048062465437631160332768100583355091429990507739023913057954024844643660866284871724695402790826332665596108794880938328471884647729341521316419963005271929106717247823133871848003202249708585681799227985390952630198179260397119317229373513474682191935477597273036842593091145499027726132340203317278086383643494734322564869134363379893045976090259902097517374597758244156577053886044696667624066547991423537072306292027018528377261490980893347626554922740294181346340299446670500051258045111083327286186313505292267110683488054575562728391572519636114199235384466233462924466698724021422601628880112284412249576528364156159813758833672062247209195913014947016738097177844665313263764708612458424249094725136162456591044980907009805403622549200050164284749856712789557096214968103299320348768261686159143767144308285333468277595432788267498567275432544799137369917624981229536628579497644660379632042286901582127728024952274998989193109884850765875577377933428554566324188776742170150984714478629664685365365343532167248364607784157086665148676604656569679982383406783234914360641436031758203470234949676858391108470904993593603704715924706427696078914421614046049548362957464180539559750216319967352566194054960796856544382433925144276101884160246858660972284631440658883496002554765072304931230227509414510637250405892766594969484096401287589060667491591601993025293985734185615648960127219919343491530397594590602742078171915456245581888754105070009488068808262510562038661829008346059395927539709047429066529366218368690435827391527187448800201316618136289866464388039460452769463688131365965221295860013018277084889577062133019366753553453053549383805128210683908305079206864138174659790680695366754447827909726600394924140339150811168715917040060335022920975271644283739970107314884960111391376959270815202681164679806802251727293533552111157080092092289696672231698321392703535424016529170475404751158171539434034385908907483407133851898977377546871007814899039774621199900961088495391006942657683000375561704510222423474533404020194123086543469885648078385106263998826804819011453375168629193125709824894304435529862589049984501496621457309323953859764374138203962405065157308957570130615075886927227667339094634850338633348691378491787735223621512551218328197385519774488466388062424966014424107118016545042020861718046047802998656731863926205611555444735072696681074838787810016285425874989356161662048839058941831279125540354412204043578530948885699130867686509869614558401631922740294597891927391942970476153182620233907547816987355290036065331112542889058240554461265847626643033093288724973209355935064590425316053873495343498911399993105557894185459035912839021984628552098122712214258287254559727162641317766535363394983038521111733747540720997915006687711210759711140808308541571386130079458746707688448312999936\n"
     ]
    }
   ],
   "source": [
    "print(456856**567)"
   ]
  },
  {
   "cell_type": "code",
   "execution_count": 36,
   "metadata": {},
   "outputs": [],
   "source": [
    "a = 2"
   ]
  },
  {
   "cell_type": "code",
   "execution_count": 37,
   "metadata": {},
   "outputs": [
    {
     "name": "stdout",
     "output_type": "stream",
     "text": [
      "2\n"
     ]
    }
   ],
   "source": [
    "print(a)"
   ]
  },
  {
   "cell_type": "code",
   "execution_count": 38,
   "metadata": {},
   "outputs": [],
   "source": [
    "b = 3"
   ]
  },
  {
   "cell_type": "code",
   "execution_count": 39,
   "metadata": {},
   "outputs": [
    {
     "name": "stdout",
     "output_type": "stream",
     "text": [
      "3\n"
     ]
    }
   ],
   "source": [
    "print(b)"
   ]
  },
  {
   "cell_type": "code",
   "execution_count": 40,
   "metadata": {},
   "outputs": [],
   "source": [
    "c = a + b"
   ]
  },
  {
   "cell_type": "code",
   "execution_count": 41,
   "metadata": {},
   "outputs": [
    {
     "name": "stdout",
     "output_type": "stream",
     "text": [
      "5\n"
     ]
    }
   ],
   "source": [
    "print(c)"
   ]
  },
  {
   "cell_type": "code",
   "execution_count": 42,
   "metadata": {
    "cell_id": "00044-ec91d7ce-99b5-4ad9-9755-2117aae47192",
    "deepnote_cell_type": "code",
    "deepnote_to_be_reexecuted": false,
    "execution_millis": 6,
    "execution_start": 1628501770328,
    "id": "vsIppnSzOamb",
    "outputId": "765cff13-20cd-4a0c-eef5-95b4bc53ef8b",
    "source_hash": "5d1bca2c",
    "tags": []
   },
   "outputs": [],
   "source": [
    "d = a  #We assign the value of the variable `a` to the variable `d`."
   ]
  },
  {
   "cell_type": "code",
   "execution_count": 43,
   "metadata": {
    "cell_id": "00048-78058847-a199-42fb-8f8d-4c75ae8041e8",
    "deepnote_cell_type": "code",
    "deepnote_to_be_reexecuted": false,
    "execution_millis": 17,
    "execution_start": 1628504912943,
    "id": "P42ro8MVOamb",
    "outputId": "953a2a1f-dac2-4c11-83a7-bc3af8417905",
    "source_hash": "2671bbb0",
    "tags": []
   },
   "outputs": [
    {
     "name": "stdout",
     "output_type": "stream",
     "text": [
      "2\n"
     ]
    }
   ],
   "source": [
    "print(d)"
   ]
  },
  {
   "cell_type": "code",
   "execution_count": 44,
   "metadata": {
    "cell_id": "00043-9bdaa8d4-f997-4348-a1cf-4ee175ca2a27",
    "deepnote_cell_type": "code",
    "deepnote_to_be_reexecuted": false,
    "execution_millis": 7,
    "execution_start": 1628501791395,
    "id": "zz8ZHXDyOamc",
    "outputId": "24d422e8-8eae-48dd-c94e-98ea9f2dc883",
    "source_hash": "ef4233c",
    "tags": []
   },
   "outputs": [
    {
     "name": "stdout",
     "output_type": "stream",
     "text": [
      "2\n"
     ]
    }
   ],
   "source": [
    "print(a)"
   ]
  },
  {
   "cell_type": "code",
   "execution_count": 45,
   "metadata": {},
   "outputs": [
    {
     "name": "stdout",
     "output_type": "stream",
     "text": [
      "2\n",
      "14\n"
     ]
    }
   ],
   "source": [
    "a = 14\n",
    "print(d)\n",
    "print(a)"
   ]
  },
  {
   "cell_type": "code",
   "execution_count": 46,
   "metadata": {
    "cell_id": "00045-b427ad80-daa3-48d5-a731-a0ae65549a7b",
    "deepnote_cell_type": "code",
    "deepnote_to_be_reexecuted": false,
    "execution_millis": 564,
    "execution_start": 1628501796541,
    "id": "IlBNz_atOamc",
    "outputId": "c71f4588-5c9a-49a5-ca3f-ac461c92e4db",
    "source_hash": "54a12ac3",
    "tags": []
   },
   "outputs": [
    {
     "ename": "NameError",
     "evalue": "name 'e' is not defined",
     "output_type": "error",
     "traceback": [
      "\u001b[0;31m---------------------------------------------------------------------------\u001b[0m",
      "\u001b[0;31mNameError\u001b[0m                                 Traceback (most recent call last)",
      "Input \u001b[0;32mIn [46]\u001b[0m, in \u001b[0;36m<cell line: 1>\u001b[0;34m()\u001b[0m\n\u001b[0;32m----> 1\u001b[0m \u001b[38;5;28mprint\u001b[39m(\u001b[43me\u001b[49m)\n",
      "\u001b[0;31mNameError\u001b[0m: name 'e' is not defined"
     ]
    }
   ],
   "source": [
    "print(e)"
   ]
  },
  {
   "cell_type": "code",
   "execution_count": 47,
   "metadata": {
    "cell_id": "00048-3dae2180-47e4-48c5-a88c-c02d113b678b",
    "deepnote_cell_type": "code",
    "deepnote_to_be_reexecuted": false,
    "execution_millis": 1,
    "execution_start": 1628501805764,
    "id": "-hYMavnMOamd",
    "source_hash": "22493b24",
    "tags": []
   },
   "outputs": [],
   "source": [
    "e = 10"
   ]
  },
  {
   "cell_type": "code",
   "execution_count": 48,
   "metadata": {
    "cell_id": "00049-eedcbc11-13ef-4218-9c55-15528cb77050",
    "deepnote_cell_type": "code",
    "deepnote_to_be_reexecuted": false,
    "execution_millis": 6,
    "execution_start": 1628501810272,
    "id": "BZvCuwOUOamd",
    "outputId": "7e29643d-0f6b-49be-f502-1c34d7708d24",
    "source_hash": "54a12ac3",
    "tags": []
   },
   "outputs": [
    {
     "name": "stdout",
     "output_type": "stream",
     "text": [
      "10\n"
     ]
    }
   ],
   "source": [
    "print(e)"
   ]
  },
  {
   "cell_type": "code",
   "execution_count": 49,
   "metadata": {
    "colab": {
     "base_uri": "https://localhost:8080/",
     "height": 182
    },
    "executionInfo": {
     "elapsed": 12,
     "status": "error",
     "timestamp": 1662314094212,
     "user": {
      "displayName": "Camille D",
      "userId": "06661350414667447422"
     },
     "user_tz": -120
    },
    "id": "p4CphTFNkPXM",
    "outputId": "ab917bae-4e39-4403-e93e-1a3a41b12bf0"
   },
   "outputs": [
    {
     "ename": "NameError",
     "evalue": "name 'E' is not defined",
     "output_type": "error",
     "traceback": [
      "\u001b[0;31m---------------------------------------------------------------------------\u001b[0m",
      "\u001b[0;31mNameError\u001b[0m                                 Traceback (most recent call last)",
      "Input \u001b[0;32mIn [49]\u001b[0m, in \u001b[0;36m<cell line: 1>\u001b[0;34m()\u001b[0m\n\u001b[0;32m----> 1\u001b[0m \u001b[38;5;28mprint\u001b[39m(\u001b[43mE\u001b[49m)\n",
      "\u001b[0;31mNameError\u001b[0m: name 'E' is not defined"
     ]
    }
   ],
   "source": [
    "print(E) #python is case sensitive"
   ]
  },
  {
   "cell_type": "code",
   "execution_count": 50,
   "metadata": {
    "cell_id": "00050-925210d1-1fdf-4982-b09d-adff2bb723e7",
    "deepnote_cell_type": "code",
    "deepnote_to_be_reexecuted": false,
    "execution_millis": 2,
    "execution_start": 1628501818418,
    "id": "ASTtM20COamd",
    "source_hash": "b762fc79",
    "tags": []
   },
   "outputs": [],
   "source": [
    "e = 20"
   ]
  },
  {
   "cell_type": "code",
   "execution_count": 51,
   "metadata": {
    "cell_id": "00051-b655f537-6956-415e-83cd-b21444f6139f",
    "colab": {
     "base_uri": "https://localhost:8080/"
    },
    "deepnote_cell_type": "code",
    "deepnote_to_be_reexecuted": false,
    "executionInfo": {
     "elapsed": 200,
     "status": "ok",
     "timestamp": 1631518137847,
     "user": {
      "displayName": "Camille D",
      "photoUrl": "https://lh3.googleusercontent.com/a/default-user=s64",
      "userId": "06661350414667447422"
     },
     "user_tz": -120
    },
    "execution_millis": 9,
    "execution_start": 1628501823038,
    "id": "lNQ0aKN5Oamd",
    "outputId": "3bfc0d81-3710-4701-8890-8225769a434a",
    "source_hash": "54a12ac3",
    "tags": []
   },
   "outputs": [
    {
     "data": {
      "text/plain": [
       "20"
      ]
     },
     "execution_count": 51,
     "metadata": {},
     "output_type": "execute_result"
    }
   ],
   "source": [
    "e"
   ]
  },
  {
   "cell_type": "code",
   "execution_count": 55,
   "metadata": {
    "cell_id": "00052-c20a2b0a-5ec6-4588-a558-a50549cc602f",
    "colab": {
     "base_uri": "https://localhost:8080/"
    },
    "deepnote_cell_type": "code",
    "deepnote_to_be_reexecuted": false,
    "executionInfo": {
     "elapsed": 199,
     "status": "ok",
     "timestamp": 1631518139422,
     "user": {
      "displayName": "Camille D",
      "photoUrl": "https://lh3.googleusercontent.com/a/default-user=s64",
      "userId": "06661350414667447422"
     },
     "user_tz": -120
    },
    "execution_millis": 10,
    "execution_start": 1628505842753,
    "id": "7oURj1mjOame",
    "outputId": "05fef53a-9a35-415b-fcf9-b6089d47aaa6",
    "source_hash": "2a0657cc",
    "tags": []
   },
   "outputs": [
    {
     "data": {
      "text/plain": [
       "60"
      ]
     },
     "execution_count": 55,
     "metadata": {},
     "output_type": "execute_result"
    }
   ],
   "source": [
    "e += 10\n",
    "\n",
    "e"
   ]
  },
  {
   "cell_type": "markdown",
   "metadata": {},
   "source": [
    "### Comments\n",
    "<p>You may have noticed this character in the previous cells <span style=\"color:#8e44ad\"><strong># (hashtag)</strong></span>.<br />\n",
    "In python this character is used to indicate the beginning of a <span style=\"color:#8e44ad\"><strong>comment</strong></span>.<br />\n",
    "Comments help you explain your code, for you and for others.&nbsp;<br />\n",
    "This makes your code of better quality and more maintainable in time.<br />\n",
    "Thanks to the # character your computer knows it shoudn&#39;t execute what comes afterwards on that line.</p>"
   ]
  },
  {
   "cell_type": "code",
   "execution_count": 56,
   "metadata": {},
   "outputs": [
    {
     "ename": "SyntaxError",
     "evalue": "invalid syntax (787139123.py, line 1)",
     "output_type": "error",
     "traceback": [
      "\u001b[0;36m  Input \u001b[0;32mIn [56]\u001b[0;36m\u001b[0m\n\u001b[0;31m    This is not a comment\u001b[0m\n\u001b[0m                  ^\u001b[0m\n\u001b[0;31mSyntaxError\u001b[0m\u001b[0;31m:\u001b[0m invalid syntax\n"
     ]
    }
   ],
   "source": [
    "This is not a comment"
   ]
  },
  {
   "cell_type": "code",
   "execution_count": 57,
   "metadata": {},
   "outputs": [],
   "source": [
    "#This is a comment"
   ]
  },
  {
   "cell_type": "markdown",
   "metadata": {},
   "source": [
    "<li>Try to think of three key ideas you learned so far in this class and write them down as comments.</li>"
   ]
  },
  {
   "cell_type": "code",
   "execution_count": null,
   "metadata": {},
   "outputs": [],
   "source": []
  },
  {
   "cell_type": "markdown",
   "metadata": {},
   "source": [
    "### Variable types\n",
    "\n",
    "<p>So far the informations we stored in our variables, are all whole numbers.&nbsp;<br />\n",
    "This category, whole numbers, are called <span style=\"color:#8e44ad\"><strong>integers (int)</strong></span> in python.<br />\n",
    "We can always check the the type of a variable, meaning it&#39;s category, with the <span style=\"color:#8e44ad\"><strong>type()</strong></span> function.</p>"
   ]
  },
  {
   "cell_type": "code",
   "execution_count": 58,
   "metadata": {},
   "outputs": [],
   "source": [
    "num_apples = 5"
   ]
  },
  {
   "cell_type": "code",
   "execution_count": 59,
   "metadata": {},
   "outputs": [
    {
     "data": {
      "text/plain": [
       "int"
      ]
     },
     "execution_count": 59,
     "metadata": {},
     "output_type": "execute_result"
    }
   ],
   "source": [
    "type(num_apples)"
   ]
  },
  {
   "cell_type": "markdown",
   "metadata": {},
   "source": [
    "<p>An other variable type are <span style=\"color:#8e44ad\"><strong>floats (float)</strong></span> and they represent decimal numbers.</p>"
   ]
  },
  {
   "cell_type": "code",
   "execution_count": 60,
   "metadata": {},
   "outputs": [],
   "source": [
    "price = 12.45"
   ]
  },
  {
   "cell_type": "code",
   "execution_count": 61,
   "metadata": {},
   "outputs": [
    {
     "data": {
      "text/plain": [
       "float"
      ]
     },
     "execution_count": 61,
     "metadata": {},
     "output_type": "execute_result"
    }
   ],
   "source": [
    "type(price)"
   ]
  },
  {
   "cell_type": "markdown",
   "metadata": {},
   "source": [
    "<p>Then we have have <strong><span style=\"color:#8e44ad\">strings (str)</span></strong> that represent text.</p>"
   ]
  },
  {
   "cell_type": "code",
   "execution_count": 62,
   "metadata": {},
   "outputs": [],
   "source": [
    "name = \"Brigitte\""
   ]
  },
  {
   "cell_type": "code",
   "execution_count": 63,
   "metadata": {},
   "outputs": [
    {
     "data": {
      "text/plain": [
       "str"
      ]
     },
     "execution_count": 63,
     "metadata": {},
     "output_type": "execute_result"
    }
   ],
   "source": [
    "type(name)"
   ]
  },
  {
   "cell_type": "markdown",
   "metadata": {},
   "source": [
    "<p>And finally we have <span style=\"color:#8e44ad\"><strong>booleans (bool)</strong></span> that are boxes that have light switches inside of them. The light switch can be either on or off. In python this means the variable can either hold the value <span style=\"color:#8e44ad\"><strong>True</strong></span> or <span style=\"color:#8e44ad\"><strong>False</strong></span>.</p>"
   ]
  },
  {
   "cell_type": "code",
   "execution_count": 64,
   "metadata": {},
   "outputs": [],
   "source": [
    "is_full = True"
   ]
  },
  {
   "cell_type": "code",
   "execution_count": 65,
   "metadata": {},
   "outputs": [
    {
     "data": {
      "text/plain": [
       "bool"
      ]
     },
     "execution_count": 65,
     "metadata": {},
     "output_type": "execute_result"
    }
   ],
   "source": [
    "type(is_full)"
   ]
  },
  {
   "cell_type": "code",
   "execution_count": 66,
   "metadata": {},
   "outputs": [],
   "source": [
    "is_full = False"
   ]
  },
  {
   "cell_type": "code",
   "execution_count": 67,
   "metadata": {},
   "outputs": [
    {
     "data": {
      "text/plain": [
       "bool"
      ]
     },
     "execution_count": 67,
     "metadata": {},
     "output_type": "execute_result"
    }
   ],
   "source": [
    "type(is_full)"
   ]
  },
  {
   "cell_type": "markdown",
   "metadata": {},
   "source": [
    "For now let's stick to these 4 variable types. Other variables types also exist (list, dictionnaries, ...) and we will encounter then later on in the class.\n",
    "* What memo tip can you create to remember these 4 basic variable types ?\n",
    "* What memo tip can you create to differentiate integers from floats ?\n",
    "* What memo tip can you create to differentiate strings from any other variable type ?\n",
    "* Create a new variable of the type of your choice and check it's type with the type() function.\n"
   ]
  },
  {
   "cell_type": "code",
   "execution_count": 68,
   "metadata": {},
   "outputs": [
    {
     "data": {
      "text/plain": [
       "float"
      ]
     },
     "execution_count": 68,
     "metadata": {},
     "output_type": "execute_result"
    }
   ],
   "source": [
    "price = 3.25\n",
    "type(price)"
   ]
  },
  {
   "cell_type": "code",
   "execution_count": 69,
   "metadata": {},
   "outputs": [
    {
     "data": {
      "text/plain": [
       "bool"
      ]
     },
     "execution_count": 69,
     "metadata": {},
     "output_type": "execute_result"
    }
   ],
   "source": [
    "blue = True\n",
    "type(blue)"
   ]
  },
  {
   "cell_type": "markdown",
   "metadata": {},
   "source": [
    "### Casting \n",
    "<p><span style=\"color:#8e44ad\"><strong>Casting</strong></span> is the fact of changing a variable from one type to another. It&#39;s kind of like translating the content of your box from one language to another. To cast a variable to a specific type we can use their respective functions <span style=\"color:#8e44ad\"><strong>int()</strong></span>, <span style=\"color:#8e44ad\"><strong>float()</strong></span>, <span style=\"color:#8e44ad\"><strong>str()</strong></span>,<span style=\"color:#8e44ad\"><strong> bool()</strong></span>.</p>\n",
    "\n",
    "<p>For example if we want to change a float to a integer we use the int() method, with the variable we want to cast between the parentheses: </p>"
   ]
  },
  {
   "cell_type": "code",
   "execution_count": 71,
   "metadata": {},
   "outputs": [
    {
     "name": "stdout",
     "output_type": "stream",
     "text": [
      "12\n"
     ]
    },
    {
     "data": {
      "text/plain": [
       "int"
      ]
     },
     "execution_count": 71,
     "metadata": {},
     "output_type": "execute_result"
    }
   ],
   "source": [
    "price = 12.45\n",
    "price = int(price)\n",
    "print(price)\n",
    "type(price)"
   ]
  },
  {
   "cell_type": "markdown",
   "metadata": {},
   "source": [
    "* What casting happens in the cell below ? From which type to which type ?"
   ]
  },
  {
   "cell_type": "code",
   "execution_count": 73,
   "metadata": {},
   "outputs": [
    {
     "name": "stdout",
     "output_type": "stream",
     "text": [
      "hello\n"
     ]
    },
    {
     "data": {
      "text/plain": [
       "str"
      ]
     },
     "execution_count": 73,
     "metadata": {},
     "output_type": "execute_result"
    }
   ],
   "source": [
    "price = \"hello\"\n",
    "price_tag = str(price)\n",
    "print(price_tag)\n",
    "type(price_tag)"
   ]
  },
  {
   "cell_type": "code",
   "execution_count": 74,
   "metadata": {},
   "outputs": [],
   "source": [
    "price = \"hello\""
   ]
  },
  {
   "cell_type": "markdown",
   "metadata": {},
   "source": [
    "* Define a boolean variable of your choice and cast that variable to an int. Verify with the `type()` function that the right changes were made. "
   ]
  },
  {
   "cell_type": "code",
   "execution_count": 76,
   "metadata": {},
   "outputs": [
    {
     "name": "stdout",
     "output_type": "stream",
     "text": [
      "0\n"
     ]
    },
    {
     "data": {
      "text/plain": [
       "int"
      ]
     },
     "execution_count": 76,
     "metadata": {},
     "output_type": "execute_result"
    }
   ],
   "source": [
    "yes = False\n",
    "yes = int(yes)\n",
    "print(yes)\n",
    "type(yes)"
   ]
  },
  {
   "cell_type": "markdown",
   "metadata": {},
   "source": [
    "* Look at the following code cell, why doesn't the `identification` variable displays the integer type at the end ? How can you use the box metaphor to explain this ? "
   ]
  },
  {
   "cell_type": "code",
   "execution_count": 77,
   "metadata": {},
   "outputs": [
    {
     "data": {
      "text/plain": [
       "str"
      ]
     },
     "execution_count": 77,
     "metadata": {},
     "output_type": "execute_result"
    }
   ],
   "source": [
    "identification = \"5802352\"\n",
    "int(identification)\n",
    "type(identification)"
   ]
  },
  {
   "cell_type": "markdown",
   "metadata": {},
   "source": [
    "### Reserved keywords\n",
    "* Try to run the following code. What happens ? \n",
    "* This behavior is called <span style=\"color:#8e44ad\"><strong>overwriting</span></strong>. How could you use to box metaphor to explain this ?"
   ]
  },
  {
   "cell_type": "code",
   "execution_count": 1,
   "metadata": {},
   "outputs": [
    {
     "name": "stdout",
     "output_type": "stream",
     "text": [
      "42\n"
     ]
    }
   ],
   "source": [
    "num = 5\n",
    "num = \"42\"\n",
    "print(int(num))"
   ]
  },
  {
   "cell_type": "markdown",
   "metadata": {},
   "source": [
    "So when a word gets colored, it means it's already taken. From now on we will not use such words for our variables names.\n",
    "    "
   ]
  },
  {
   "cell_type": "markdown",
   "metadata": {},
   "source": [
    "## Let's test your understanding\n",
    "Try to guess the output of the following cells before running them"
   ]
  },
  {
   "cell_type": "code",
   "execution_count": 2,
   "metadata": {},
   "outputs": [
    {
     "data": {
      "text/plain": [
       "str"
      ]
     },
     "execution_count": 2,
     "metadata": {},
     "output_type": "execute_result"
    }
   ],
   "source": [
    "type('abc')"
   ]
  },
  {
   "cell_type": "code",
   "execution_count": 3,
   "metadata": {},
   "outputs": [
    {
     "data": {
      "text/plain": [
       "bool"
      ]
     },
     "execution_count": 3,
     "metadata": {},
     "output_type": "execute_result"
    }
   ],
   "source": [
    "type(False)"
   ]
  },
  {
   "cell_type": "code",
   "execution_count": 4,
   "metadata": {},
   "outputs": [
    {
     "data": {
      "text/plain": [
       "float"
      ]
     },
     "execution_count": 4,
     "metadata": {},
     "output_type": "execute_result"
    }
   ],
   "source": [
    "type(10.1)"
   ]
  },
  {
   "cell_type": "code",
   "execution_count": 5,
   "metadata": {},
   "outputs": [],
   "source": [
    "a = 3\n",
    "b = 5.5"
   ]
  },
  {
   "cell_type": "code",
   "execution_count": 6,
   "metadata": {},
   "outputs": [
    {
     "data": {
      "text/plain": [
       "int"
      ]
     },
     "execution_count": 6,
     "metadata": {},
     "output_type": "execute_result"
    }
   ],
   "source": [
    "type(a)"
   ]
  },
  {
   "cell_type": "code",
   "execution_count": 7,
   "metadata": {},
   "outputs": [
    {
     "data": {
      "text/plain": [
       "float"
      ]
     },
     "execution_count": 7,
     "metadata": {},
     "output_type": "execute_result"
    }
   ],
   "source": [
    "type(b)"
   ]
  },
  {
   "cell_type": "code",
   "execution_count": 9,
   "metadata": {},
   "outputs": [
    {
     "name": "stdout",
     "output_type": "stream",
     "text": [
      "8.5\n"
     ]
    },
    {
     "data": {
      "text/plain": [
       "float"
      ]
     },
     "execution_count": 9,
     "metadata": {},
     "output_type": "execute_result"
    }
   ],
   "source": [
    "print(a + b)\n",
    "type(a + b)"
   ]
  },
  {
   "cell_type": "code",
   "execution_count": 11,
   "metadata": {},
   "outputs": [],
   "source": [
    "a = 3"
   ]
  },
  {
   "cell_type": "code",
   "execution_count": 13,
   "metadata": {},
   "outputs": [
    {
     "ename": "NameError",
     "evalue": "name 'true' is not defined",
     "output_type": "error",
     "traceback": [
      "\u001b[0;31m---------------------------------------------------------------------------\u001b[0m",
      "\u001b[0;31mNameError\u001b[0m                                 Traceback (most recent call last)",
      "Input \u001b[0;32mIn [13]\u001b[0m, in \u001b[0;36m<cell line: 1>\u001b[0;34m()\u001b[0m\n\u001b[0;32m----> 1\u001b[0m \u001b[38;5;28mtype\u001b[39m(\u001b[43mtrue\u001b[49m)\n",
      "\u001b[0;31mNameError\u001b[0m: name 'true' is not defined"
     ]
    }
   ],
   "source": [
    "type(true)"
   ]
  },
  {
   "cell_type": "code",
   "execution_count": 14,
   "metadata": {},
   "outputs": [
    {
     "data": {
      "text/plain": [
       "int"
      ]
     },
     "execution_count": 14,
     "metadata": {},
     "output_type": "execute_result"
    }
   ],
   "source": [
    "num = 321.981\n",
    "num = int(num)\n",
    "type(num)"
   ]
  },
  {
   "cell_type": "code",
   "execution_count": 15,
   "metadata": {},
   "outputs": [
    {
     "data": {
      "text/plain": [
       "str"
      ]
     },
     "execution_count": 15,
     "metadata": {},
     "output_type": "execute_result"
    }
   ],
   "source": [
    "num = 321.981\n",
    "num = str(num)\n",
    "type(num)"
   ]
  },
  {
   "cell_type": "code",
   "execution_count": 16,
   "metadata": {},
   "outputs": [
    {
     "data": {
      "text/plain": [
       "float"
      ]
     },
     "execution_count": 16,
     "metadata": {},
     "output_type": "execute_result"
    }
   ],
   "source": [
    "num = 321.981\n",
    "num = int(num)\n",
    "num = str(num)\n",
    "num = float(num)\n",
    "type(num)"
   ]
  },
  {
   "cell_type": "code",
   "execution_count": 17,
   "metadata": {},
   "outputs": [
    {
     "name": "stdout",
     "output_type": "stream",
     "text": [
      "False\n"
     ]
    }
   ],
   "source": [
    "print(bool(0))"
   ]
  },
  {
   "cell_type": "code",
   "execution_count": 18,
   "metadata": {},
   "outputs": [
    {
     "name": "stdout",
     "output_type": "stream",
     "text": [
      "True\n"
     ]
    }
   ],
   "source": [
    "print(bool(1))"
   ]
  },
  {
   "cell_type": "code",
   "execution_count": 19,
   "metadata": {},
   "outputs": [
    {
     "name": "stdout",
     "output_type": "stream",
     "text": [
      "False\n"
     ]
    }
   ],
   "source": [
    "print(bool(''))"
   ]
  },
  {
   "cell_type": "code",
   "execution_count": 20,
   "metadata": {},
   "outputs": [
    {
     "name": "stdout",
     "output_type": "stream",
     "text": [
      "True\n"
     ]
    }
   ],
   "source": [
    "print(bool('hello'))"
   ]
  },
  {
   "cell_type": "code",
   "execution_count": 21,
   "metadata": {},
   "outputs": [
    {
     "ename": "ValueError",
     "evalue": "invalid literal for int() with base 10: 'abcde'",
     "output_type": "error",
     "traceback": [
      "\u001b[0;31m---------------------------------------------------------------------------\u001b[0m",
      "\u001b[0;31mValueError\u001b[0m                                Traceback (most recent call last)",
      "Input \u001b[0;32mIn [21]\u001b[0m, in \u001b[0;36m<cell line: 2>\u001b[0;34m()\u001b[0m\n\u001b[1;32m      1\u001b[0m alphabet \u001b[38;5;241m=\u001b[39m \u001b[38;5;124m'\u001b[39m\u001b[38;5;124mabcde\u001b[39m\u001b[38;5;124m'\u001b[39m\n\u001b[0;32m----> 2\u001b[0m \u001b[38;5;28mprint\u001b[39m(\u001b[38;5;28;43mint\u001b[39;49m\u001b[43m(\u001b[49m\u001b[43malphabet\u001b[49m\u001b[43m)\u001b[49m)\n",
      "\u001b[0;31mValueError\u001b[0m: invalid literal for int() with base 10: 'abcde'"
     ]
    }
   ],
   "source": [
    "alphabet = 'abcde'\n",
    "print(int(alphabet))"
   ]
  },
  {
   "cell_type": "code",
   "execution_count": 22,
   "metadata": {},
   "outputs": [
    {
     "name": "stdout",
     "output_type": "stream",
     "text": [
      "True\n"
     ]
    }
   ],
   "source": [
    "print(bool(5.5))"
   ]
  },
  {
   "cell_type": "code",
   "execution_count": 25,
   "metadata": {},
   "outputs": [
    {
     "name": "stdout",
     "output_type": "stream",
     "text": [
      "False\n"
     ]
    }
   ],
   "source": [
    "print(bool())"
   ]
  },
  {
   "cell_type": "markdown",
   "metadata": {},
   "source": [
    "<h2><strong><span style=\"color:#3498db\">Pause and Recall</span></strong></h2>\n",
    "\n",
    "<ul>\n",
    "\t<li><strong><span style=\"color:#3498db\">What did we learn so far ?&nbsp;</span></strong></li>\n",
    "\t<li><strong><span style=\"color:#3498db\">What are some definitions that you might need to remember ?&nbsp;</span></strong></li>\n",
    "\t<li><strong><span style=\"color:#3498db\">What are special cases that you might need to remember ?&nbsp;</span></strong></li>\n",
    "\t<li><strong><span style=\"color:#3498db\">What might be possible questions on the next test ?</span></strong></li>\n",
    "</ul>\n"
   ]
  },
  {
   "cell_type": "markdown",
   "metadata": {
    "cell_id": "00054-03c3b3a4-5fda-4ec4-9f96-98fdb3f53dd4",
    "deepnote_cell_type": "markdown",
    "id": "PjVS9epjOami",
    "tags": []
   },
   "source": [
    "## Exercises"
   ]
  },
  {
   "cell_type": "markdown",
   "metadata": {
    "cell_id": "00058-8f411601-8e8d-4f59-8c34-613b51edc3bc",
    "deepnote_cell_type": "text-cell-h3",
    "id": "Q8kEKOI8Oamj",
    "is_collapsed": false,
    "tags": []
   },
   "source": [
    "### Exercise 1"
   ]
  },
  {
   "cell_type": "code",
   "execution_count": null,
   "metadata": {},
   "outputs": [],
   "source": [
    "df[df['category'] in ['cat1', 'cat2', 'cat3']]"
   ]
  },
  {
   "cell_type": "code",
   "execution_count": null,
   "metadata": {
    "cell_id": "00055-e10ab828-4cbb-4cad-98af-ab495c048a5c",
    "deepnote_cell_type": "code",
    "id": "_IQ9j5qDOamj",
    "tags": []
   },
   "outputs": [],
   "source": [
    "price_apple = 1.5\n",
    "price_banana = 2.3\n",
    "price_total = 0\n",
    "wallet = 55"
   ]
  },
  {
   "cell_type": "markdown",
   "metadata": {
    "cell_id": "00059-7d7ecc5a-30a2-4145-a160-5cfe6e7afbbe",
    "deepnote_cell_type": "markdown",
    "id": "tFAXqW8ZOamj",
    "tags": []
   },
   "source": [
    "I am going to the market to buy 12 apples and 26 bananas, use the previous variables so that the next cell displays the total of our groceries in the variable `price_total`."
   ]
  },
  {
   "cell_type": "code",
   "execution_count": null,
   "metadata": {
    "cell_id": "00060-3b5ca5ab-c034-445f-994c-c6ed37809c8a",
    "deepnote_cell_type": "code",
    "id": "WFeLEc6ROamj",
    "tags": []
   },
   "outputs": [],
   "source": [
    "#Your code"
   ]
  },
  {
   "cell_type": "code",
   "execution_count": null,
   "metadata": {
    "cell_id": "00056-6cece47f-7982-4526-9daa-2336c38257a1",
    "colab": {
     "base_uri": "https://localhost:8080/"
    },
    "deepnote_cell_type": "code",
    "executionInfo": {
     "elapsed": 36,
     "status": "ok",
     "timestamp": 1631517338302,
     "user": {
      "displayName": "Camille D",
      "photoUrl": "https://lh3.googleusercontent.com/a/default-user=s64",
      "userId": "06661350414667447422"
     },
     "user_tz": -120
    },
    "id": "l7y7ZpO7Oamj",
    "outputId": "2a15125e-2723-482b-e4a0-d7e898b19d79",
    "tags": []
   },
   "outputs": [],
   "source": [
    "print(price_total)"
   ]
  },
  {
   "cell_type": "markdown",
   "metadata": {
    "cell_id": "00056-f73cea5c-ffde-4e36-8614-1f0737f33a95",
    "deepnote_cell_type": "markdown",
    "id": "E4Izf7U5Oamk",
    "tags": []
   },
   "source": [
    "How much money do I have left in my wallet after our groceries ?"
   ]
  },
  {
   "cell_type": "code",
   "execution_count": null,
   "metadata": {
    "cell_id": "00063-6869c072-1264-441a-ab15-aa45dc962a2f",
    "deepnote_cell_type": "code",
    "id": "ScItSYJvOamk",
    "tags": []
   },
   "outputs": [],
   "source": [
    "#Your code"
   ]
  },
  {
   "cell_type": "code",
   "execution_count": null,
   "metadata": {
    "cell_id": "00056-fe34c3cf-9237-41d5-bac1-27674a83203b",
    "colab": {
     "base_uri": "https://localhost:8080/"
    },
    "deepnote_cell_type": "code",
    "executionInfo": {
     "elapsed": 32,
     "status": "ok",
     "timestamp": 1631517338303,
     "user": {
      "displayName": "Camille D",
      "photoUrl": "https://lh3.googleusercontent.com/a/default-user=s64",
      "userId": "06661350414667447422"
     },
     "user_tz": -120
    },
    "id": "INoOslLnOamk",
    "outputId": "58e6a303-ceb5-48a5-9e21-700203485faf",
    "tags": []
   },
   "outputs": [],
   "source": [
    "print(wallet)"
   ]
  },
  {
   "cell_type": "markdown",
   "metadata": {
    "cell_id": "00059-f7e94f08-d174-4493-8016-29ac879a5e2d",
    "deepnote_cell_type": "markdown",
    "id": "2Xz_cP_gOamk",
    "tags": []
   },
   "source": [
    "### Exercise 2"
   ]
  },
  {
   "cell_type": "markdown",
   "metadata": {
    "cell_id": "00067-e444d1e6-e083-45f4-ba8d-9d29a055a797",
    "deepnote_cell_type": "markdown",
    "id": "JicRmzC4Oamk",
    "tags": []
   },
   "source": [
    "<p>I have the following function: y = 2x<sup>2</sup> + 3x - 5. Compute the values of y for x = -2. What is the value of y for x = 241 ?</p>"
   ]
  },
  {
   "cell_type": "code",
   "execution_count": null,
   "metadata": {
    "cell_id": "00067-24efc5c7-3567-47a3-946d-2a454b845221",
    "deepnote_cell_type": "code",
    "id": "ZY00wNNBOamk",
    "tags": []
   },
   "outputs": [],
   "source": [
    "#Your code"
   ]
  },
  {
   "cell_type": "markdown",
   "metadata": {
    "cell_id": "00068-563bfd8b-bcb0-4e43-a4bd-99081f63447f",
    "deepnote_cell_type": "markdown",
    "id": "eJVdHshQOamk",
    "tags": []
   },
   "source": [
    "### Exercise 3 "
   ]
  },
  {
   "cell_type": "markdown",
   "metadata": {
    "cell_id": "00069-fdf2eb28-4cf5-48c3-a59f-cda9d6ae32b9",
    "deepnote_cell_type": "markdown",
    "id": "xxe_Q37QOaml",
    "tags": []
   },
   "source": [
    "I want to follow an american cooking recepie but I have a french oven. How much is 356F into Celsius degrees ? The conversion formula is as follows: C = (5/9) * (F - 32)"
   ]
  },
  {
   "cell_type": "code",
   "execution_count": null,
   "metadata": {
    "cell_id": "00068-ab174bde-5832-48d4-ae8e-7c9b4fd0fb7c",
    "deepnote_cell_type": "code",
    "id": "LqH2nxKtOaml",
    "tags": []
   },
   "outputs": [],
   "source": [
    "F = 356\n",
    "#Your code"
   ]
  },
  {
   "cell_type": "markdown",
   "metadata": {},
   "source": [
    "### Exercise 4\n",
    "Given the following variables, identify their data types (int, str, float, or bool):"
   ]
  },
  {
   "cell_type": "code",
   "execution_count": null,
   "metadata": {},
   "outputs": [],
   "source": [
    "a = 42\n",
    "b = \"Hello, World!\"\n",
    "c = 3.14\n",
    "d = True"
   ]
  },
  {
   "cell_type": "code",
   "execution_count": null,
   "metadata": {},
   "outputs": [],
   "source": []
  },
  {
   "cell_type": "markdown",
   "metadata": {},
   "source": [
    "### Exercise 5\n",
    "Create a variable `daniel` containing the value `orange` and another variable `ye` containing the value `yellow`."
   ]
  },
  {
   "cell_type": "code",
   "execution_count": null,
   "metadata": {},
   "outputs": [],
   "source": []
  },
  {
   "cell_type": "markdown",
   "metadata": {},
   "source": [
    "### Exercise 6\n",
    "Create a integer variable and a float variable. Display these variables and check their type."
   ]
  },
  {
   "cell_type": "code",
   "execution_count": null,
   "metadata": {},
   "outputs": [],
   "source": []
  },
  {
   "cell_type": "markdown",
   "metadata": {},
   "source": [
    "### Exercise 7"
   ]
  },
  {
   "cell_type": "markdown",
   "metadata": {},
   "source": [
    "Given the following variables, perform the required type conversions:"
   ]
  },
  {
   "cell_type": "code",
   "execution_count": null,
   "metadata": {},
   "outputs": [],
   "source": [
    "e = 7.5\n",
    "f = \"123\"\n",
    "g = False\n",
    "n = 234"
   ]
  },
  {
   "cell_type": "markdown",
   "metadata": {},
   "source": [
    "a. Convert e to an integer and store it in a variable m.\n",
    "b. Convert f to an integer and store it in a variable n.\n",
    "c. Convert g to a string and store it in a variable o.\n",
    "d. Convert n to a boolean and store it in a variable p."
   ]
  },
  {
   "cell_type": "code",
   "execution_count": null,
   "metadata": {},
   "outputs": [],
   "source": []
  },
  {
   "cell_type": "code",
   "execution_count": null,
   "metadata": {},
   "outputs": [],
   "source": []
  },
  {
   "cell_type": "markdown",
   "metadata": {
    "cell_id": "00069-2532d2de-0e3f-41b2-94e9-24b0c720d6cb",
    "deepnote_cell_type": "markdown",
    "id": "qVB5srpSOaml",
    "tags": []
   },
   "source": [
    "### Exercise 8"
   ]
  },
  {
   "cell_type": "markdown",
   "metadata": {
    "cell_id": "00071-52d31f5f-e9e8-44c3-84f2-0720efb3bac0",
    "deepnote_cell_type": "markdown",
    "id": "3WJDULTEOaml",
    "tags": []
   },
   "source": [
    "I am working a job paid at the french minimum wage (smic). What is my gross salary per week (35h), per month (151.67h), per year (52 weeks)?"
   ]
  },
  {
   "cell_type": "code",
   "execution_count": null,
   "metadata": {
    "cell_id": "00073-08037beb-75e5-4a32-9f36-2276f760ff85",
    "deepnote_cell_type": "code",
    "id": "XDg72JkvOaml",
    "tags": []
   },
   "outputs": [],
   "source": [
    "smic_hour_gross = 10.25"
   ]
  },
  {
   "cell_type": "code",
   "execution_count": null,
   "metadata": {
    "cell_id": "00073-af776a55-a825-4f6b-b2e3-26f0f4db0724",
    "deepnote_cell_type": "code",
    "id": "lXEeuakeOaml",
    "tags": []
   },
   "outputs": [],
   "source": [
    "#Your code"
   ]
  },
  {
   "cell_type": "code",
   "execution_count": null,
   "metadata": {
    "cell_id": "00074-7666a353-ea2f-44e7-b443-8633b0bc820a",
    "colab": {
     "base_uri": "https://localhost:8080/",
     "height": 224
    },
    "deepnote_cell_type": "code",
    "executionInfo": {
     "elapsed": 31,
     "status": "error",
     "timestamp": 1631517338313,
     "user": {
      "displayName": "Camille D",
      "photoUrl": "https://lh3.googleusercontent.com/a/default-user=s64",
      "userId": "06661350414667447422"
     },
     "user_tz": -120
    },
    "id": "tHdf9SlBOamm",
    "outputId": "8f773e26-6216-4073-b0c7-5d39e9b87713",
    "tags": []
   },
   "outputs": [],
   "source": [
    "print(salary_gross_week)\n",
    "print(salary_gross_month)\n",
    "print(salary_gross_year)"
   ]
  },
  {
   "cell_type": "markdown",
   "metadata": {
    "id": "F1U1JVNMljsB"
   },
   "source": [
    "About 15% of my gross salary is destined for taxes. What is my net salary per week, per month, per year?"
   ]
  },
  {
   "cell_type": "code",
   "execution_count": null,
   "metadata": {
    "cell_id": "00075-ca3df695-9d23-46e9-917c-d9bea18a714f",
    "deepnote_cell_type": "code",
    "deepnote_to_be_reexecuted": false,
    "execution_millis": 0,
    "execution_start": 1628507615171,
    "id": "jINfYjGyOamm",
    "source_hash": "117da3ee",
    "tags": []
   },
   "outputs": [],
   "source": [
    "#Your code"
   ]
  },
  {
   "cell_type": "code",
   "execution_count": null,
   "metadata": {
    "cell_id": "00077-55d8797c-67bb-45ee-8ef9-5797a0f99012",
    "deepnote_cell_type": "code",
    "id": "LQQhOQPuOamm",
    "tags": []
   },
   "outputs": [],
   "source": [
    "print(salary_net_week)\n",
    "print(salary_net_month)\n",
    "print(salary_net_year)"
   ]
  },
  {
   "cell_type": "markdown",
   "metadata": {
    "cell_id": "00075-8fb67ef4-a7c4-408d-9847-f318939965a1",
    "deepnote_cell_type": "markdown",
    "id": "o6WmOyY3Oamm",
    "tags": []
   },
   "source": [
    "I decide to allocate 50% of my net monthly salary to rent, 39% to necessities and 11% to entertainment. How much money do I have available in each of these categories?"
   ]
  },
  {
   "cell_type": "code",
   "execution_count": null,
   "metadata": {
    "cell_id": "00078-37f1280c-87d0-4778-9433-341fb061e06d",
    "deepnote_cell_type": "code",
    "id": "CfMTR3b6Oamn",
    "tags": []
   },
   "outputs": [],
   "source": [
    "#Your code "
   ]
  },
  {
   "cell_type": "markdown",
   "metadata": {
    "cell_id": "00078-ce189241-6196-4eef-83b6-4349e23cd7de",
    "deepnote_cell_type": "markdown",
    "id": "SiQLp1YROamn",
    "tags": []
   },
   "source": [
    "Knowing that there are approximately 30 days per month, how much money do I have available to spend on necessities per day on average?"
   ]
  },
  {
   "cell_type": "code",
   "execution_count": null,
   "metadata": {
    "cell_id": "00075-9277d551-d1cd-496e-a804-99422f2a3105",
    "deepnote_cell_type": "code",
    "id": "iPI4oOkQOamn",
    "tags": []
   },
   "outputs": [],
   "source": [
    "#Your code"
   ]
  },
  {
   "cell_type": "markdown",
   "metadata": {
    "cell_id": "00077-2800a9ba-872a-471d-9709-e1c7df588e0d",
    "deepnote_cell_type": "markdown",
    "id": "HxovOY7QOamn",
    "tags": []
   },
   "source": [
    "### Exercise 9"
   ]
  },
  {
   "cell_type": "markdown",
   "metadata": {
    "cell_id": "00096-1b0cdbb4-3ace-4f9f-b39d-b55b33ac23f3",
    "deepnote_cell_type": "markdown",
    "deepnote_to_be_reexecuted": false,
    "execution_millis": 0,
    "execution_start": 1628508729511,
    "id": "tnjArpOcOamn",
    "source_hash": "db3bcab4",
    "tags": []
   },
   "source": [
    "What is the result of 39741 divided by 12?    \n",
    "What is the result of the floor division?    \n",
    "What is the remainder of the whole division?"
   ]
  },
  {
   "cell_type": "code",
   "execution_count": null,
   "metadata": {
    "cell_id": "00097-aaba297f-a238-47d6-9068-6a76ec35df28",
    "deepnote_cell_type": "code",
    "id": "JSgh-srpOamn",
    "tags": []
   },
   "outputs": [],
   "source": [
    "# Your code here"
   ]
  },
  {
   "cell_type": "markdown",
   "metadata": {
    "cell_id": "00098-660ba1af-bbc1-4ebf-93e8-3d998d90171b",
    "deepnote_cell_type": "markdown",
    "id": "ctRsTWk_Oamo",
    "tags": []
   },
   "source": [
    "### Exercise 10"
   ]
  },
  {
   "cell_type": "markdown",
   "metadata": {
    "cell_id": "00098-de81bfd1-755e-4c9c-b033-6459808a3c17",
    "deepnote_cell_type": "markdown",
    "id": "eoM5rfFUOamo",
    "tags": []
   },
   "source": [
    "I have a room 5.36m wide, 7.78m long and 2.30m high. I want to paint all the walls of my room and the ceiling in yellow. How much surface do I have to paint ?"
   ]
  },
  {
   "cell_type": "code",
   "execution_count": null,
   "metadata": {
    "cell_id": "00100-09a46214-db1f-48e8-af85-c4bec055395e",
    "deepnote_cell_type": "code",
    "deepnote_to_be_reexecuted": false,
    "execution_millis": 0,
    "execution_start": 1628509130993,
    "id": "nJIvpwfEOamo",
    "source_hash": "117da3ee",
    "tags": []
   },
   "outputs": [],
   "source": [
    "#Your code "
   ]
  },
  {
   "cell_type": "markdown",
   "metadata": {
    "cell_id": "00101-cadf75df-8e66-4429-ab30-0f50e107db5b",
    "deepnote_cell_type": "markdown",
    "id": "X23BxCFwOamo",
    "tags": []
   },
   "source": [
    "Knowing that a 2L container of my paint costs 32.5€ and that with 2L of paint I can approximately cover 24m2.    \n",
    "How much money will I spend to repaint my room?"
   ]
  },
  {
   "cell_type": "code",
   "execution_count": null,
   "metadata": {
    "cell_id": "00101-92bf3f1a-4bcc-4b78-b9ec-80c8d9df566a",
    "deepnote_cell_type": "code",
    "id": "Y7lpz464Oamp",
    "tags": []
   },
   "outputs": [],
   "source": [
    "#Your code"
   ]
  },
  {
   "cell_type": "markdown",
   "metadata": {
    "cell_id": "00103-e8b1f59e-6bcc-42da-9b6a-cee41afb6c5a",
    "deepnote_cell_type": "markdown",
    "id": "RaemaBYVOamp",
    "tags": []
   },
   "source": [
    "### Exercise 11"
   ]
  },
  {
   "cell_type": "code",
   "execution_count": null,
   "metadata": {
    "cell_id": "00103-f93a991b-6aa7-4ac2-877d-17dc88594bf1",
    "deepnote_cell_type": "code",
    "deepnote_to_be_reexecuted": false,
    "execution_millis": 1,
    "execution_start": 1628517512024,
    "id": "crctfuk2Oamp",
    "source_hash": "5e103ab3",
    "tags": []
   },
   "outputs": [],
   "source": [
    "savings_account = 3000"
   ]
  },
  {
   "cell_type": "markdown",
   "metadata": {
    "cell_id": "00106-730d5819-452c-4941-a83a-9e1537899a55",
    "deepnote_cell_type": "markdown",
    "id": "azJKGOrMOamp",
    "tags": []
   },
   "source": [
    "I have a savings account with 3000€ of initial savings and the savings rate is 2%.    \n",
    "How much gain will I have made after 1 year, 5 years, 10 years and 20 years?"
   ]
  },
  {
   "cell_type": "code",
   "execution_count": null,
   "metadata": {
    "cell_id": "00107-3c3de11b-6a15-4d68-950d-5dab5a633ab1",
    "deepnote_cell_type": "code",
    "id": "cFc7LjVCOamp",
    "tags": []
   },
   "outputs": [],
   "source": [
    "#Your code"
   ]
  },
  {
   "cell_type": "markdown",
   "metadata": {
    "cell_id": "00112-c3e917f9-2540-43b5-b5cf-c583b97799da",
    "deepnote_cell_type": "markdown",
    "id": "5McvJfyJOamq",
    "tags": []
   },
   "source": [
    "### Exercise 12 "
   ]
  },
  {
   "cell_type": "code",
   "execution_count": null,
   "metadata": {
    "cell_id": "00113-3d64bdbb-a2cf-46f7-9fe4-e30f7bb97d02",
    "deepnote_cell_type": "code",
    "id": "X9_ZZRnwOamq",
    "tags": []
   },
   "outputs": [],
   "source": [
    "age = 22"
   ]
  },
  {
   "cell_type": "markdown",
   "metadata": {
    "cell_id": "00114-97be6426-a126-4da4-921c-6ee6bb3c0783",
    "deepnote_cell_type": "markdown",
    "id": "9bcobEpgOamr",
    "tags": []
   },
   "source": [
    "Calculate the year of birth of a person from their age. "
   ]
  },
  {
   "cell_type": "code",
   "execution_count": null,
   "metadata": {
    "cell_id": "00115-c7eb117a-3a4d-4aab-ad2a-b13975c00691",
    "deepnote_cell_type": "code",
    "id": "EJ6J-6c1Oamr",
    "tags": []
   },
   "outputs": [],
   "source": [
    "#Your code"
   ]
  },
  {
   "cell_type": "markdown",
   "metadata": {},
   "source": [
    "### Exercise 13 - Jupyter notebooks\n",
    "<p>You probably wonder why this file is so weird, text and python mixed together ... This specific type of file is actually called a <span style=\"color:#8e44ad\"><strong>Jupyter Notebook</strong></span>. We will continue using jupyter notebooks in this class and you will even create our own jupyter notebooks at some point !<br />\n",
    "Meanwhile if you want to know more about how to use Jupyter Notebook I recommend reading the following link: <a href=\"https://realpython.com/jupyter-notebook-introduction/\">https://realpython.com/jupyter-notebook-introduction/</a> (It&#39;s normal if you don&#39;t understand all the keywords on the website, we&#39;ll gradually get there)</p>\n",
    "<ul>\n",
    "    <li> How do you add a cell to a Jupyter Notebook ? </li>\n",
    "    <li> How do you delete a cell from a Jupyter Notebook ? </li>\n",
    "    <li> How do you create a text cell in a Jupyter Notebook ? </li>\n",
    "    <li> What is markdown ? </li>\n",
    "</ul>"
   ]
  },
  {
   "cell_type": "code",
   "execution_count": null,
   "metadata": {},
   "outputs": [],
   "source": []
  },
  {
   "cell_type": "markdown",
   "metadata": {},
   "source": [
    "### Exercise 14 - Self Reflection\n",
    "* What exercise were easy for you ? \n",
    "* What exercises were hard ?\n",
    "* What were these hardships and what how did you overcome those/what were the solutions ? \n",
    "* Did you create a set of study notes about this session ?"
   ]
  },
  {
   "cell_type": "code",
   "execution_count": null,
   "metadata": {},
   "outputs": [],
   "source": []
  }
 ],
 "metadata": {
  "colab": {
   "collapsed_sections": [],
   "provenance": []
  },
  "deepnote": {
   "is_reactive": false
  },
  "deepnote_execution_queue": [],
  "deepnote_notebook_id": "19b8dc59-2221-4c8d-a2c9-31e89d3035a1",
  "kernelspec": {
   "display_name": "Python 3 (ipykernel)",
   "language": "python",
   "name": "python3"
  },
  "language_info": {
   "codemirror_mode": {
    "name": "ipython",
    "version": 3
   },
   "file_extension": ".py",
   "mimetype": "text/x-python",
   "name": "python",
   "nbconvert_exporter": "python",
   "pygments_lexer": "ipython3",
   "version": "3.9.16"
  }
 },
 "nbformat": 4,
 "nbformat_minor": 1
}
