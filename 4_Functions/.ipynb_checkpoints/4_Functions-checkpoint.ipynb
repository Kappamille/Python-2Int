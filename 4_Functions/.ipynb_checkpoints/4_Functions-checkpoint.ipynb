{
 "cells": [
  {
   "cell_type": "markdown",
   "metadata": {
    "id": "oSpsbJvHeBJz"
   },
   "source": [
    "# Class 9 - Functions"
   ]
  },
  {
   "cell_type": "markdown",
   "metadata": {
    "id": "y2QZ_X_rt0Cz"
   },
   "source": [
    "Class Objectives:\n",
    "- To know how to recognize and write function definitions \n",
    "- Recognize and write function calls \n",
    "- Understand and recognize the difference between global and local variables\n",
    "- Know how to define arguments of functions correctly\n",
    "- Know good code practices in terms of comments, variable naming, code structure and respect of PEP8"
   ]
  },
  {
   "cell_type": "markdown",
   "metadata": {
    "id": "gQbwP2woWmH7"
   },
   "source": [
    "# The functions"
   ]
  },
  {
   "cell_type": "markdown",
   "metadata": {
    "id": "RO1TDqtIUCwb"
   },
   "source": [
    "## What is a function? \n",
    "A function is a structured block of code that fulfills **a single** specific purpose.    \n",
    "The advantage of functions is that they are reusable and therefore prevent code repetition in our programs. Furthermore, defining functions helps us to organize our program in smaller and very modular structures."
   ]
  },
  {
   "cell_type": "markdown",
   "metadata": {
    "id": "Ls4oRgGquCBw"
   },
   "source": [
    "## Defining a function"
   ]
  },
  {
   "cell_type": "code",
   "execution_count": null,
   "metadata": {
    "colab": {
     "base_uri": "https://localhost:8080/"
    },
    "id": "l1qxFsssuBL6",
    "outputId": "7a51cc9f-dca0-44eb-f974-fa5b3292d591"
   },
   "outputs": [
    {
     "name": "stdout",
     "output_type": "stream",
     "text": [
      "5\n"
     ]
    }
   ],
   "source": [
    "#We want to add two number\n",
    "a = 2\n",
    "b = 3\n",
    "print(a + b) "
   ]
  },
  {
   "cell_type": "code",
   "execution_count": null,
   "metadata": {
    "id": "gxE3CwTXuthv"
   },
   "outputs": [],
   "source": [
    "#We want to define a function for this operation because we will perform it often.\n",
    "def addition(a,b):\n",
    "  c = a + b \n",
    "  return c"
   ]
  },
  {
   "cell_type": "markdown",
   "metadata": {
    "id": "jmzE3RGpvH8D"
   },
   "source": [
    "Remember that a function definition always has the following elements:\n",
    "- The `def` keyword to start the function definition.\n",
    "- A name for your function, in this case `addition`.\n",
    "- parentheses after its name\n",
    "- optional (but very common) arguments, here `a` and `b`.\n",
    "- a body where the operations are performed, here `c = a + b`.\n",
    "- a return statement at the end of the operations (`return None` if nothing is specified)."
   ]
  },
  {
   "cell_type": "markdown",
   "metadata": {
    "id": "-C-doLS6v8ut"
   },
   "source": [
    "### Questions"
   ]
  },
  {
   "cell_type": "markdown",
   "metadata": {
    "id": "ak3aklYkv_ZP"
   },
   "source": [
    "Write the definition of a function that multiplies 2 numbers."
   ]
  },
  {
   "cell_type": "code",
   "execution_count": null,
   "metadata": {
    "id": "Vp764vmOvUQd"
   },
   "outputs": [],
   "source": []
  },
  {
   "cell_type": "markdown",
   "metadata": {
    "id": "6_VmP_KQyGMA"
   },
   "source": [
    "## Calling a function"
   ]
  },
  {
   "cell_type": "code",
   "execution_count": null,
   "metadata": {
    "colab": {
     "base_uri": "https://localhost:8080/"
    },
    "id": "MwkDnCtB1v7Y",
    "outputId": "c19b8e2e-d472-4f61-aed1-d5937ed1a041"
   },
   "outputs": [
    {
     "name": "stdout",
     "output_type": "stream",
     "text": [
      "5\n"
     ]
    }
   ],
   "source": [
    "print(addition(2, 3))"
   ]
  },
  {
   "cell_type": "code",
   "execution_count": null,
   "metadata": {
    "colab": {
     "base_uri": "https://localhost:8080/"
    },
    "id": "_YqoQkyTiak0",
    "outputId": "fc7ae4c0-9046-44da-abc1-acc9e9aa2cab"
   },
   "outputs": [
    {
     "name": "stdout",
     "output_type": "stream",
     "text": [
      "126\n"
     ]
    }
   ],
   "source": [
    "print(addition(124, 2))"
   ]
  },
  {
   "cell_type": "code",
   "execution_count": null,
   "metadata": {
    "colab": {
     "base_uri": "https://localhost:8080/"
    },
    "id": "V_fArvBqiapK",
    "outputId": "deb0a66d-c6c4-4f9c-b115-ff4eaf7b176b"
   },
   "outputs": [
    {
     "name": "stdout",
     "output_type": "stream",
     "text": [
      "143\n"
     ]
    }
   ],
   "source": [
    "my_first_num = 87\n",
    "my_second_num = 56\n",
    "print(addition(my_first_num, my_second_num))"
   ]
  },
  {
   "cell_type": "code",
   "execution_count": null,
   "metadata": {
    "colab": {
     "base_uri": "https://localhost:8080/"
    },
    "id": "MLbz4UwPiatm",
    "outputId": "3fbec6cd-8929-4917-9bb9-699f0b4a5053"
   },
   "outputs": [
    {
     "name": "stdout",
     "output_type": "stream",
     "text": [
      "8\n"
     ]
    }
   ],
   "source": [
    "d = 3\n",
    "print(addition(d,5))"
   ]
  },
  {
   "cell_type": "code",
   "execution_count": null,
   "metadata": {
    "id": "gO_W-g_PUIAs"
   },
   "outputs": [],
   "source": [
    "my_result = addition(1,2)"
   ]
  },
  {
   "cell_type": "code",
   "execution_count": null,
   "metadata": {
    "colab": {
     "base_uri": "https://localhost:8080/"
    },
    "id": "O5ebcVMrUhh-",
    "outputId": "8bd65485-feb6-45a2-88e8-068d260cd0dd"
   },
   "outputs": [
    {
     "name": "stdout",
     "output_type": "stream",
     "text": [
      "3\n"
     ]
    }
   ],
   "source": [
    "print(my_result)"
   ]
  },
  {
   "cell_type": "code",
   "execution_count": null,
   "metadata": {
    "id": "rmehXUrQquFF"
   },
   "outputs": [],
   "source": [
    "def my_loop():\n",
    "  for i in range(9):\n",
    "    return i"
   ]
  },
  {
   "cell_type": "code",
   "execution_count": null,
   "metadata": {
    "colab": {
     "base_uri": "https://localhost:8080/"
    },
    "id": "65N14t0cq6Tn",
    "outputId": "fc0c7add-ff01-451c-ae2d-87569c43b633"
   },
   "outputs": [
    {
     "name": "stdout",
     "output_type": "stream",
     "text": [
      "0\n"
     ]
    }
   ],
   "source": [
    "print(ma_boucle())"
   ]
  },
  {
   "cell_type": "code",
   "execution_count": null,
   "metadata": {
    "colab": {
     "base_uri": "https://localhost:8080/"
    },
    "id": "-EMV2CFlqjZP",
    "outputId": "a451273f-f2ff-4dd7-8f81-1237baaa431b"
   },
   "outputs": [
    {
     "name": "stdout",
     "output_type": "stream",
     "text": [
      "0\n",
      "1\n",
      "2\n",
      "3\n",
      "4\n",
      "5\n",
      "6\n",
      "7\n",
      "8\n"
     ]
    }
   ],
   "source": [
    "for i in range(9):\n",
    "  print(i)"
   ]
  },
  {
   "cell_type": "markdown",
   "metadata": {
    "id": "bIlIIDEYzKRj"
   },
   "source": [
    "### Questions\n",
    "\n",
    "Call your multiplication function to perform the following multiplications: \n",
    "* 1 x 1\n",
    "* 3 x 4\n",
    "* 12 x 12\n",
    "* 125689 x 81923761"
   ]
  },
  {
   "cell_type": "code",
   "execution_count": null,
   "metadata": {
    "id": "wl66iNeCzJWE"
   },
   "outputs": [],
   "source": [
    "#Your code here"
   ]
  },
  {
   "cell_type": "markdown",
   "metadata": {
    "id": "5mYY7YQ8zlmR"
   },
   "source": [
    "## Global and local variables "
   ]
  },
  {
   "cell_type": "markdown",
   "metadata": {
    "id": "MC4KDf870deI"
   },
   "source": [
    "The variables we use inside our function definitions are called `local variables`.  \n",
    "In fact they are defined **only** inside the function definitions.    \n",
    "This is for example the case for `a`, `b` and `c`. "
   ]
  },
  {
   "cell_type": "code",
   "execution_count": null,
   "metadata": {
    "id": "K91HpWvOmmCD"
   },
   "outputs": [],
   "source": [
    "def addition(a,b):\n",
    "  c = a + b \n",
    "  return c"
   ]
  },
  {
   "cell_type": "code",
   "execution_count": null,
   "metadata": {
    "colab": {
     "base_uri": "https://localhost:8080/",
     "height": 204
    },
    "id": "_U0VcNeQ0JRL",
    "outputId": "f7f37ea8-1f4b-43ca-adf2-58d6ce7505c3"
   },
   "outputs": [
    {
     "name": "stdout",
     "output_type": "stream",
     "text": [
      "3\n"
     ]
    },
    {
     "ename": "NameError",
     "evalue": "ignored",
     "output_type": "error",
     "traceback": [
      "\u001b[0;31m---------------------------------------------------------------------------\u001b[0m",
      "\u001b[0;31mNameError\u001b[0m                                 Traceback (most recent call last)",
      "\u001b[0;32m<ipython-input-16-b1eacaf51321>\u001b[0m in \u001b[0;36m<module>\u001b[0;34m()\u001b[0m\n\u001b[1;32m      1\u001b[0m \u001b[0mprint\u001b[0m\u001b[0;34m(\u001b[0m\u001b[0maddition\u001b[0m\u001b[0;34m(\u001b[0m\u001b[0;36m1\u001b[0m\u001b[0;34m,\u001b[0m\u001b[0;36m2\u001b[0m\u001b[0;34m)\u001b[0m\u001b[0;34m)\u001b[0m\u001b[0;34m\u001b[0m\u001b[0;34m\u001b[0m\u001b[0m\n\u001b[0;32m----> 2\u001b[0;31m \u001b[0mprint\u001b[0m\u001b[0;34m(\u001b[0m\u001b[0mc\u001b[0m\u001b[0;34m)\u001b[0m\u001b[0;34m\u001b[0m\u001b[0;34m\u001b[0m\u001b[0m\n\u001b[0m",
      "\u001b[0;31mNameError\u001b[0m: name 'c' is not defined"
     ]
    }
   ],
   "source": [
    "print(addition(1,2))\n",
    "print(c)"
   ]
  },
  {
   "cell_type": "code",
   "execution_count": null,
   "metadata": {
    "colab": {
     "base_uri": "https://localhost:8080/"
    },
    "id": "tlbk__x5zzjx",
    "outputId": "f9246933-d450-4920-e084-93b6e53a75e6"
   },
   "outputs": [
    {
     "name": "stdout",
     "output_type": "stream",
     "text": [
      "3\n",
      "2\n"
     ]
    }
   ],
   "source": [
    "print(addition(1,2))\n",
    "print(a)"
   ]
  },
  {
   "cell_type": "code",
   "execution_count": null,
   "metadata": {
    "colab": {
     "base_uri": "https://localhost:8080/"
    },
    "id": "UhMHLdGq0JM5",
    "outputId": "6c0c1de2-3ad5-4872-cf90-ff512e2c1c06"
   },
   "outputs": [
    {
     "name": "stdout",
     "output_type": "stream",
     "text": [
      "3\n",
      "3\n"
     ]
    }
   ],
   "source": [
    "print(addition(1,2))\n",
    "print(b)"
   ]
  },
  {
   "cell_type": "markdown",
   "metadata": {
    "id": "ev9HZoEx6UJo"
   },
   "source": [
    "Why do the variables `a` and `b` print something and not throw an error like for the variable `c`?"
   ]
  },
  {
   "cell_type": "markdown",
   "metadata": {
    "id": "a7ho9mHn2Ijd"
   },
   "source": [
    "The variables we use outside of functions are called `global variables`.  \n",
    "These variables are acessible everywhere in our program, even in the function definitions.  \n",
    "This is the case here for example with `my_first_num`, `my_second_num` and `d`. \n",
    "\n",
    "By default, in a function, python will first try to find a reference to a local variable and then to a global variable. "
   ]
  },
  {
   "cell_type": "code",
   "execution_count": null,
   "metadata": {
    "id": "LtxjDy310JUX"
   },
   "outputs": [],
   "source": [
    "def addition_global():\n",
    "  return a + b"
   ]
  },
  {
   "cell_type": "code",
   "execution_count": null,
   "metadata": {
    "colab": {
     "base_uri": "https://localhost:8080/"
    },
    "id": "2_qPcnMY0JXp",
    "outputId": "4d765138-6d50-4089-82f3-648762e7444b"
   },
   "outputs": [
    {
     "name": "stdout",
     "output_type": "stream",
     "text": [
      "5\n"
     ]
    }
   ],
   "source": [
    "print(addition_global())"
   ]
  },
  {
   "cell_type": "markdown",
   "metadata": {
    "id": "_uqGLYjZXHvY"
   },
   "source": [
    "In the vast majority of cases, it is a very bad practice to use a global variable in a function instead of passing this variable as an argument (and thus making it local).  \n",
    "\n",
    "Indeed this makes your functions more difficult to test and induces more risks of bugs.\n",
    "For example if your global variable changes name you would have to change all your function definitions to keep your code working. This is not the case if the variable is passed as an argument.    \n",
    " \n",
    "It is therefore preferable to pass as arguments the variables that you are going to use in a function."
   ]
  },
  {
   "cell_type": "code",
   "execution_count": null,
   "metadata": {
    "id": "qCxEHQgkZBxU"
   },
   "outputs": [],
   "source": [
    "def addition(a,b):\n",
    "  c = a + b \n",
    "  return c"
   ]
  },
  {
   "cell_type": "markdown",
   "metadata": {
    "id": "OIpIKHQpnp5w"
   },
   "source": [
    "### Questions"
   ]
  },
  {
   "cell_type": "code",
   "execution_count": null,
   "metadata": {
    "colab": {
     "base_uri": "https://localhost:8080/"
    },
    "id": "ri_eM2mckR52",
    "outputId": "53ae6252-8646-4dfa-8bda-9e0ddbbd27f0"
   },
   "outputs": [
    {
     "name": "stdout",
     "output_type": "stream",
     "text": [
      "3\n"
     ]
    }
   ],
   "source": [
    "a = 1\n",
    "b = 2\n",
    "c = addition(a, b)\n",
    "print(c)"
   ]
  },
  {
   "cell_type": "code",
   "execution_count": null,
   "metadata": {
    "colab": {
     "base_uri": "https://localhost:8080/",
     "height": 204
    },
    "id": "fRcoqw7DkBnQ",
    "outputId": "64ca54a0-5524-4e3b-ef94-95b308aec008"
   },
   "outputs": [
    {
     "ename": "TypeError",
     "evalue": "ignored",
     "output_type": "error",
     "traceback": [
      "\u001b[0;31m---------------------------------------------------------------------------\u001b[0m",
      "\u001b[0;31mTypeError\u001b[0m                                 Traceback (most recent call last)",
      "\u001b[0;32m<ipython-input-22-a4125a9a928b>\u001b[0m in \u001b[0;36m<module>\u001b[0;34m()\u001b[0m\n\u001b[1;32m      1\u001b[0m \u001b[0ma\u001b[0m \u001b[0;34m=\u001b[0m \u001b[0;36m1\u001b[0m\u001b[0;34m\u001b[0m\u001b[0;34m\u001b[0m\u001b[0m\n\u001b[1;32m      2\u001b[0m \u001b[0mb\u001b[0m \u001b[0;34m=\u001b[0m \u001b[0;36m2\u001b[0m\u001b[0;34m\u001b[0m\u001b[0;34m\u001b[0m\u001b[0m\n\u001b[0;32m----> 3\u001b[0;31m \u001b[0mprint\u001b[0m\u001b[0;34m(\u001b[0m\u001b[0maddition\u001b[0m\u001b[0;34m(\u001b[0m\u001b[0ma\u001b[0m\u001b[0;34m)\u001b[0m\u001b[0;34m)\u001b[0m\u001b[0;34m\u001b[0m\u001b[0;34m\u001b[0m\u001b[0m\n\u001b[0m",
      "\u001b[0;31mTypeError\u001b[0m: addition() missing 1 required positional argument: 'b'"
     ]
    }
   ],
   "source": [
    "a = 1\n",
    "b = 2\n",
    "print(addition(a))"
   ]
  },
  {
   "cell_type": "code",
   "execution_count": null,
   "metadata": {
    "colab": {
     "base_uri": "https://localhost:8080/",
     "height": 186
    },
    "id": "AobXr46cj480",
    "outputId": "f63ecc93-bf8e-41b6-fc71-e25f7d12e15a"
   },
   "outputs": [
    {
     "ename": "TypeError",
     "evalue": "ignored",
     "output_type": "error",
     "traceback": [
      "\u001b[0;31m---------------------------------------------------------------------------\u001b[0m",
      "\u001b[0;31mTypeError\u001b[0m                                 Traceback (most recent call last)",
      "\u001b[0;32m<ipython-input-23-7794cb399fcc>\u001b[0m in \u001b[0;36m<module>\u001b[0;34m()\u001b[0m\n\u001b[1;32m      1\u001b[0m \u001b[0maddition\u001b[0m \u001b[0;34m=\u001b[0m \u001b[0;36m3\u001b[0m\u001b[0;34m\u001b[0m\u001b[0;34m\u001b[0m\u001b[0m\n\u001b[0;32m----> 2\u001b[0;31m \u001b[0mprint\u001b[0m\u001b[0;34m(\u001b[0m\u001b[0maddition\u001b[0m\u001b[0;34m(\u001b[0m\u001b[0;36m2\u001b[0m\u001b[0;34m,\u001b[0m\u001b[0;36m3\u001b[0m\u001b[0;34m)\u001b[0m\u001b[0;34m)\u001b[0m\u001b[0;34m\u001b[0m\u001b[0;34m\u001b[0m\u001b[0m\n\u001b[0m",
      "\u001b[0;31mTypeError\u001b[0m: 'int' object is not callable"
     ]
    }
   ],
   "source": [
    "addition = 3\n",
    "print(addition(2,3))"
   ]
  },
  {
   "cell_type": "code",
   "execution_count": null,
   "metadata": {
    "id": "RlKD9ySXkB9x"
   },
   "outputs": [],
   "source": [
    "def new_addition(a, b):\n",
    "  result = a + b \n",
    "  print(\"This function works great\")\n",
    "  return None"
   ]
  },
  {
   "cell_type": "code",
   "execution_count": null,
   "metadata": {
    "colab": {
     "base_uri": "https://localhost:8080/"
    },
    "id": "f6rJT0vtj44h",
    "outputId": "20ed9374-4caa-4dec-ea6e-19989d13b8fd"
   },
   "outputs": [
    {
     "name": "stdout",
     "output_type": "stream",
     "text": [
      "This function works great\n",
      "None\n"
     ]
    }
   ],
   "source": [
    "print(new_addition(1,2))"
   ]
  },
  {
   "cell_type": "code",
   "execution_count": null,
   "metadata": {
    "id": "JA1c5HWAk6Qo"
   },
   "outputs": [],
   "source": [
    "def new_addition(num1, num2):\n",
    "  result = num1 + num2 \n",
    "  print(result)"
   ]
  },
  {
   "cell_type": "code",
   "execution_count": null,
   "metadata": {
    "colab": {
     "base_uri": "https://localhost:8080/"
    },
    "id": "ZfMgYJz0j5Bi",
    "outputId": "5976a665-d2e3-41df-9bc4-fd1c57eb9706"
   },
   "outputs": [
    {
     "name": "stdout",
     "output_type": "stream",
     "text": [
      "4\n",
      "None\n"
     ]
    }
   ],
   "source": [
    "print(new_addition(1,3))"
   ]
  },
  {
   "cell_type": "code",
   "execution_count": null,
   "metadata": {
    "colab": {
     "base_uri": "https://localhost:8080/",
     "height": 168
    },
    "id": "OsbdL74CmJIf",
    "outputId": "e0f7c591-7692-4d0b-e1ca-83820df19146"
   },
   "outputs": [
    {
     "ename": "NameError",
     "evalue": "ignored",
     "output_type": "error",
     "traceback": [
      "\u001b[0;31m---------------------------------------------------------------------------\u001b[0m",
      "\u001b[0;31mNameError\u001b[0m                                 Traceback (most recent call last)",
      "\u001b[0;32m<ipython-input-28-6459d04d738f>\u001b[0m in \u001b[0;36m<module>\u001b[0;34m()\u001b[0m\n\u001b[0;32m----> 1\u001b[0;31m \u001b[0mprint\u001b[0m\u001b[0;34m(\u001b[0m\u001b[0mresult\u001b[0m\u001b[0;34m)\u001b[0m\u001b[0;34m\u001b[0m\u001b[0;34m\u001b[0m\u001b[0m\n\u001b[0m",
      "\u001b[0;31mNameError\u001b[0m: name 'result' is not defined"
     ]
    }
   ],
   "source": [
    "print(result)"
   ]
  },
  {
   "cell_type": "code",
   "execution_count": null,
   "metadata": {
    "colab": {
     "base_uri": "https://localhost:8080/"
    },
    "id": "RkWUJkDIBRbE",
    "outputId": "e4f93aa9-ae66-4831-f922-4e327dc3fdad"
   },
   "outputs": [
    {
     "name": "stdout",
     "output_type": "stream",
     "text": [
      "15\n",
      "15\n",
      "12\n"
     ]
    }
   ],
   "source": [
    "def printing_number():\n",
    "     x = 15\n",
    "     print(x)\n",
    "     return x\n",
    "x = 12\n",
    "print(printing_number())\n",
    "print(x)"
   ]
  },
  {
   "cell_type": "markdown",
   "metadata": {
    "id": "65HmigPOYZtS"
   },
   "source": [
    "# Exercices - Functions"
   ]
  },
  {
   "cell_type": "markdown",
   "metadata": {
    "id": "TIqfeLPseovC"
   },
   "source": [
    "### Exercise 1\n",
    "Write a function named `double`, which takes a number as argument and returns its doubled value. "
   ]
  },
  {
   "cell_type": "code",
   "execution_count": null,
   "metadata": {
    "id": "wGL0982l1MTh"
   },
   "outputs": [],
   "source": []
  },
  {
   "cell_type": "markdown",
   "metadata": {
    "id": "cnkfOhMVe2ze"
   },
   "source": [
    "### Exercise 2 \n",
    "Write a function called `subtraction` that takes 2 numbers as arguments and returns the subtraction of the 2 numbers. "
   ]
  },
  {
   "cell_type": "code",
   "execution_count": null,
   "metadata": {
    "id": "eWsUsuE91MyB"
   },
   "outputs": [],
   "source": []
  },
  {
   "cell_type": "markdown",
   "metadata": {
    "id": "7S-k254lsD8L"
   },
   "source": [
    "### Exercise 3\n",
    "Write a function that adds all the numbers in a list."
   ]
  },
  {
   "cell_type": "code",
   "execution_count": null,
   "metadata": {
    "id": "drr5Ovab1NZY"
   },
   "outputs": [],
   "source": []
  },
  {
   "cell_type": "markdown",
   "metadata": {
    "id": "0KsSXWqbhSCk"
   },
   "source": [
    "### Exercise 4\n",
    "Write a function `f` that computes the value of f for a given x. Our function is 5x^2 -4x + 1/2"
   ]
  },
  {
   "cell_type": "code",
   "execution_count": null,
   "metadata": {
    "id": "CwS-T0Es1N5y"
   },
   "outputs": [],
   "source": []
  },
  {
   "cell_type": "markdown",
   "metadata": {
    "id": "VafHAap_ecQ1"
   },
   "source": [
    "### Exercise 5\n",
    "Write a function that takes a name as argument and prints \"Hello\" + your name."
   ]
  },
  {
   "cell_type": "code",
   "execution_count": null,
   "metadata": {
    "id": "O7T0hsdC18LH"
   },
   "outputs": [],
   "source": []
  },
  {
   "cell_type": "markdown",
   "metadata": {
    "id": "6BYsuZQapJ44"
   },
   "source": [
    "### Exercise 6\n",
    "In a particular jurisdiction, cab fares consist of a base fare of €4.00, plus €0.25 for each kilometer driven.     \n",
    "Write a function that takes the distance traveled (in kilometers) as its only parameter and returns the total fare as its only result.    "
   ]
  },
  {
   "cell_type": "code",
   "execution_count": null,
   "metadata": {
    "id": "WG2njQYQ1PYx"
   },
   "outputs": [],
   "source": []
  },
  {
   "cell_type": "markdown",
   "metadata": {
    "id": "4xeTyikHpMEG"
   },
   "source": [
    "### Exercise 7\n",
    "Write a function that checks if an integer is odd and returns a boolean.  \n"
   ]
  },
  {
   "cell_type": "code",
   "execution_count": null,
   "metadata": {
    "id": "i3xn-Z8-1P6w"
   },
   "outputs": [],
   "source": []
  },
  {
   "cell_type": "markdown",
   "metadata": {
    "id": "DE9gPMOhr8w6"
   },
   "source": [
    "### Exercise 8\n",
    "Write a Python function to find the maximum of three numbers."
   ]
  },
  {
   "cell_type": "code",
   "execution_count": null,
   "metadata": {
    "id": "wOm5tp2_1QaI"
   },
   "outputs": [],
   "source": []
  },
  {
   "cell_type": "markdown",
   "metadata": {
    "id": "tkbdv3BYpSjc"
   },
   "source": [
    "### Exercise 9\n",
    "Write a function that takes as parameter a list of numbers and a number as a threshold and returns the list without all values above the threshold. "
   ]
  },
  {
   "cell_type": "code",
   "execution_count": null,
   "metadata": {
    "id": "nxlcNyHv_wPF"
   },
   "outputs": [],
   "source": []
  },
  {
   "cell_type": "markdown",
   "metadata": {
    "id": "BhNgP674_wnX"
   },
   "source": [
    "---\n",
    "# Bonus"
   ]
  },
  {
   "cell_type": "markdown",
   "metadata": {
    "id": "oVzuyuy9pO2q"
   },
   "source": [
    "### Exercise 10\n",
    "\n",
    "Write a function that generates a random password. The password must have a random length between 7 and 10 characters. Each character must be chosen at random from positions 33 to 126 of the ASCII table. Your function will not take any parameters. It will return the randomly generated password as the only result."
   ]
  },
  {
   "cell_type": "code",
   "execution_count": null,
   "metadata": {
    "id": "G8FZtaPk1Q5C"
   },
   "outputs": [],
   "source": []
  },
  {
   "cell_type": "markdown",
   "metadata": {
    "id": "jBZE0eFipQpP"
   },
   "source": [
    "### Exercise 11\n",
    "Write a function that takes as its only parameters two positive integers representing the numerator and denominator of a fraction. The body of the function must reduce the fraction to the lowest terms, then return the numerator and denominator of the reduced fraction as the result.      \n",
    "For example, if the parameters passed to the function are 6 and 63, the function should return 2 and 21. \n",
    "\n"
   ]
  },
  {
   "cell_type": "code",
   "execution_count": null,
   "metadata": {
    "id": "uQwPoQ9c1SUH"
   },
   "outputs": [],
   "source": []
  },
  {
   "cell_type": "markdown",
   "metadata": {
    "id": "4KN0xUwLTXU4"
   },
   "source": [
    "### Exercice 12"
   ]
  },
  {
   "cell_type": "markdown",
   "metadata": {
    "id": "hK_V6EuhuBpD"
   },
   "source": [
    "Write a recursive function that allows us to count the sum of all the elements of a list that can contain a number n of lists and elements nested within it.\n",
    "\n",
    "For example the sum of all elements in the following list `[[1,2,3], 6, [7, 8, [2, 5, 7], 9], [2, 7, 8], 9, 1, 2,]` is `79`."
   ]
  },
  {
   "cell_type": "code",
   "execution_count": null,
   "metadata": {
    "id": "G6vpqdzRu3od"
   },
   "outputs": [],
   "source": []
  },
  {
   "cell_type": "markdown",
   "metadata": {
    "id": "5gvXKUqou369"
   },
   "source": [
    "#### What is a recursive function?"
   ]
  },
  {
   "cell_type": "markdown",
   "metadata": {
    "id": "2IyklmAoth9p"
   },
   "source": [
    "A recursive function is a function that keeps calling itself and executing its code until a condition is met to return a fixed result.     \n",
    "All recursive functions share a common structure consisting of two parts: the base case and the recursive case.\n",
    "\n",
    "To demonstrate this structure, let's write a recursive function to calculate n!:"
   ]
  },
  {
   "cell_type": "markdown",
   "metadata": {
    "id": "HhzlggFLuevm"
   },
   "source": [
    "1. Decompose the original problem into simpler instances of the same problem. This is the recursive case:       \n",
    "`n! = n x (n-1) x (n-2) x (n-3) ⋅⋅⋅⋅ x 3 x 2 x 1`.    \n",
    "`n! = n x (n-1)!`    "
   ]
  },
  {
   "cell_type": "markdown",
   "metadata": {
    "id": "JUG_23LdujgY"
   },
   "source": [
    "2. As the large problem is decomposed into less and less complex problems, these subproblems must eventually become so simple that they can be solved. This is the basic case:  \n",
    "`n! = n x (n-1)! `  \n",
    "n! = n x (n-1) x (n-2)!  \n",
    "`n! = n x (n-1) x (n-2) x (n-3)!`  \n",
    "`⋅`  \n",
    "`⋅`  \n",
    "`⋅`  \n",
    "`n! = n x (n-1) x (n-2) x (n-3) ⋅⋅⋅⋅ x 3!`   \n",
    "`n! = n x (n-1) x (n-2) x (n-3) ⋅⋅⋅⋅ x 3 x 2!`   \n",
    "`n! = n x (n-1) x (n-2) x (n-3) ⋅⋅⋅⋅ x 3 x 2 x 1!`  \n",
    "Here, 1! is our base case, and it is equal to 1."
   ]
  },
  {
   "cell_type": "code",
   "execution_count": null,
   "metadata": {
    "id": "OTy1jdj3155a"
   },
   "outputs": [],
   "source": [
    "def factorial_recursive(n):\n",
    "    # Base case: 1! = 1\n",
    "    if n == 1:\n",
    "        return 1\n",
    "\n",
    "    # Recursive case: n! = n * (n-1)!\n",
    "    else:\n",
    "        return n * factorial_recursive(n-1)"
   ]
  },
  {
   "cell_type": "code",
   "execution_count": null,
   "metadata": {
    "id": "Lkz_KDsG16Nh"
   },
   "outputs": [],
   "source": [
    "print(5*4*3*2*1)\n",
    "print(factorial_recursive(5))"
   ]
  },
  {
   "cell_type": "code",
   "execution_count": null,
   "metadata": {
    "id": "lMYilk8pol1R"
   },
   "outputs": [],
   "source": []
  },
  {
   "cell_type": "markdown",
   "metadata": {
    "id": "3d5SkyZ_hAz_"
   },
   "source": [
    "## The arguments of the functions\n",
    "\n",
    "As we have seen before, the order of the arguments in a function has an importance. "
   ]
  },
  {
   "cell_type": "code",
   "execution_count": null,
   "metadata": {
    "id": "vata3amLUsuH"
   },
   "outputs": [],
   "source": [
    "def peer_review(reviewer, reviewed):\n",
    "  return reviewer + \" is reviewing the project of \" + reviewed"
   ]
  },
  {
   "cell_type": "code",
   "execution_count": null,
   "metadata": {
    "colab": {
     "base_uri": "https://localhost:8080/"
    },
    "id": "YT5vy4HbVBYf",
    "outputId": "87322461-45c6-46cb-fcc3-60dea105af44"
   },
   "outputs": [
    {
     "name": "stdout",
     "output_type": "stream",
     "text": [
      "Camille is reviewing the project of Nina\n",
      "Nina is reviewing the project of Camille\n"
     ]
    }
   ],
   "source": [
    "print(peer_review('Camille', 'Nina'))\n",
    "print(peer_review('Nina', 'Camille'))"
   ]
  },
  {
   "cell_type": "markdown",
   "metadata": {
    "id": "c_fdcdYfVP0R"
   },
   "source": [
    "If we want to avoid making argument interchange errors we can define `keyword arguments`. "
   ]
  },
  {
   "cell_type": "code",
   "execution_count": null,
   "metadata": {
    "colab": {
     "base_uri": "https://localhost:8080/"
    },
    "id": "uVEmK2cBVi9o",
    "outputId": "0befaa6c-d7ce-4fa1-9e99-73a3191f311a"
   },
   "outputs": [
    {
     "name": "stdout",
     "output_type": "stream",
     "text": [
      "Nina is reviewing the project of Camille\n"
     ]
    }
   ],
   "source": [
    "print(peer_review(reviewer='Nina', reviewed='Camille'))"
   ]
  },
  {
   "cell_type": "code",
   "execution_count": null,
   "metadata": {
    "colab": {
     "base_uri": "https://localhost:8080/"
    },
    "id": "mCpWzgAlevCv",
    "outputId": "486f758a-0281-45b8-f478-a6ea1489a866"
   },
   "outputs": [
    {
     "name": "stdout",
     "output_type": "stream",
     "text": [
      "Nina is reviewing the project of Camille\n"
     ]
    }
   ],
   "source": [
    "print(peer_review(reviewed='Camille', reviewer='Nina'))"
   ]
  },
  {
   "cell_type": "markdown",
   "metadata": {
    "id": "fpfU_Ld7Vpto"
   },
   "source": [
    "We can also define default values in our function.  \n",
    " \n",
    "The arguments with default values are always written last among all our arguments."
   ]
  },
  {
   "cell_type": "code",
   "execution_count": null,
   "metadata": {
    "id": "nL9pNFPVV-5p"
   },
   "outputs": [],
   "source": [
    "def peer_review(reviewer, reviewed, subject=\"Informatics\"):\n",
    "  return reviewer + \" is reviewing the project of \" + reviewed + \" about \" + subject"
   ]
  },
  {
   "cell_type": "code",
   "execution_count": null,
   "metadata": {
    "colab": {
     "base_uri": "https://localhost:8080/"
    },
    "id": "sTO7OT4IWeLc",
    "outputId": "5af77097-b17b-439f-b3d5-6b23ce63ee68"
   },
   "outputs": [
    {
     "name": "stdout",
     "output_type": "stream",
     "text": [
      "Nina is reviewing the project of Camille about Informatics\n"
     ]
    }
   ],
   "source": [
    "print(peer_review(reviewer='Nina', reviewed='Camille'))"
   ]
  },
  {
   "cell_type": "code",
   "execution_count": null,
   "metadata": {
    "colab": {
     "base_uri": "https://localhost:8080/"
    },
    "id": "n4Tn1HdlWjXK",
    "outputId": "c30bc9a9-39c3-468c-d71e-5b3417060775"
   },
   "outputs": [
    {
     "name": "stdout",
     "output_type": "stream",
     "text": [
      "Nina is reviewing the project of Camille about Biology\n"
     ]
    }
   ],
   "source": [
    "print(peer_review(reviewer='Nina', reviewed='Camille', subject=\"Biology\"))"
   ]
  },
  {
   "cell_type": "markdown",
   "metadata": {
    "id": "x18iAqUoVryU"
   },
   "source": [
    "### Examples"
   ]
  },
  {
   "cell_type": "code",
   "execution_count": null,
   "metadata": {
    "id": "eR4lumsTW-Yg"
   },
   "outputs": [],
   "source": [
    "def calculus(a = 1, b = 3, c = 5):\n",
    "  return a+b+c"
   ]
  },
  {
   "cell_type": "code",
   "execution_count": null,
   "metadata": {
    "colab": {
     "base_uri": "https://localhost:8080/"
    },
    "id": "Meg7459PW_OH",
    "outputId": "09bbfca6-7ed5-4510-c900-212a741ac1e3"
   },
   "outputs": [
    {
     "name": "stdout",
     "output_type": "stream",
     "text": [
      "9\n"
     ]
    }
   ],
   "source": [
    "print(calculus())"
   ]
  },
  {
   "cell_type": "code",
   "execution_count": null,
   "metadata": {
    "colab": {
     "base_uri": "https://localhost:8080/"
    },
    "id": "BdqlpR_wXNKw",
    "outputId": "30c946f4-d94f-4c5c-9fb3-dc517814b270"
   },
   "outputs": [
    {
     "name": "stdout",
     "output_type": "stream",
     "text": [
      "6\n"
     ]
    }
   ],
   "source": [
    "print(calculus(1, 2, 3))"
   ]
  },
  {
   "cell_type": "code",
   "execution_count": null,
   "metadata": {
    "colab": {
     "base_uri": "https://localhost:8080/"
    },
    "id": "m2-MHOKVXSOv",
    "outputId": "ee423820-826a-4b9d-c6b9-a6fe5319b59d"
   },
   "outputs": [
    {
     "name": "stdout",
     "output_type": "stream",
     "text": [
      "12\n"
     ]
    }
   ],
   "source": [
    "print(calculus(b=4, a=2, c=6))"
   ]
  },
  {
   "cell_type": "code",
   "execution_count": null,
   "metadata": {
    "colab": {
     "base_uri": "https://localhost:8080/",
     "height": 168
    },
    "id": "ibhfKaOFXcWU",
    "outputId": "c502eb04-f941-4a90-a88e-df1cf6226ba4"
   },
   "outputs": [
    {
     "ename": "TypeError",
     "evalue": "ignored",
     "output_type": "error",
     "traceback": [
      "\u001b[0;31m---------------------------------------------------------------------------\u001b[0m",
      "\u001b[0;31mTypeError\u001b[0m                                 Traceback (most recent call last)",
      "\u001b[0;32m<ipython-input-43-160191eaf98c>\u001b[0m in \u001b[0;36m<module>\u001b[0;34m()\u001b[0m\n\u001b[0;32m----> 1\u001b[0;31m \u001b[0mprint\u001b[0m\u001b[0;34m(\u001b[0m\u001b[0mcalculus\u001b[0m\u001b[0;34m(\u001b[0m\u001b[0ma\u001b[0m\u001b[0;34m=\u001b[0m\u001b[0;36m1\u001b[0m\u001b[0;34m,\u001b[0m \u001b[0mb\u001b[0m\u001b[0;34m=\u001b[0m\u001b[0;36m2\u001b[0m\u001b[0;34m,\u001b[0m \u001b[0mz\u001b[0m\u001b[0;34m=\u001b[0m\u001b[0;36m5\u001b[0m\u001b[0;34m)\u001b[0m\u001b[0;34m)\u001b[0m\u001b[0;34m\u001b[0m\u001b[0;34m\u001b[0m\u001b[0m\n\u001b[0m",
      "\u001b[0;31mTypeError\u001b[0m: calculus() got an unexpected keyword argument 'z'"
     ]
    }
   ],
   "source": [
    "print(calculus(a=1, b=2, z=5))"
   ]
  },
  {
   "cell_type": "markdown",
   "metadata": {
    "id": "wReDfx9y_eS5"
   },
   "source": [
    "### Exercice 13\n",
    "Rewrite the function of exercice 5 with a keyword arguments having as default value your own name."
   ]
  },
  {
   "cell_type": "code",
   "execution_count": null,
   "metadata": {
    "id": "GYLjM28p_coN"
   },
   "outputs": [],
   "source": []
  }
 ],
 "metadata": {
  "colab": {
   "collapsed_sections": [
    "oVzuyuy9pO2q"
   ],
   "provenance": []
  },
  "kernelspec": {
   "display_name": "Python 3 (ipykernel)",
   "language": "python",
   "name": "python3"
  },
  "language_info": {
   "codemirror_mode": {
    "name": "ipython",
    "version": 3
   },
   "file_extension": ".py",
   "mimetype": "text/x-python",
   "name": "python",
   "nbconvert_exporter": "python",
   "pygments_lexer": "ipython3",
   "version": "3.9.16"
  }
 },
 "nbformat": 4,
 "nbformat_minor": 1
}
