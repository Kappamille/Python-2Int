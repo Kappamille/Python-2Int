{
 "cells": [
  {
   "cell_type": "markdown",
   "metadata": {
    "id": "oSpsbJvHeBJz"
   },
   "source": [
    "# Functions\n",
    "Camille Duquesne - 2Int"
   ]
  },
  {
   "cell_type": "markdown",
   "metadata": {
    "id": "y2QZ_X_rt0Cz"
   },
   "source": [
    "Class Objectives:\n",
    "- Define what a function is \n",
    "- Differentiate between defining and calling a function\n",
    "- Write function definitions\n",
    "- Choose appropriate function names\n",
    "- Recognize parameters and their type\n",
    "- Choose appropriate parameters (name, type, number)\n",
    "- Write appropriate function's body linked to their purpose and tests\n",
    "- Use the right return type and value in a function definition\n",
    "- Call functions with different parameters\n",
    "- Catch return value of a function into a variable\n",
    "- Differentiate between print() function and return statement\n",
    "- Explain the importance of testing functions \n",
    "- Recognizing successful and failing assert statements\n",
    "- Write appropriate tests for a function\n",
    "- Differentiate between global and local variables"
   ]
  },
  {
   "cell_type": "markdown",
   "metadata": {},
   "source": [
    "## Scratch solution"
   ]
  },
  {
   "cell_type": "markdown",
   "metadata": {},
   "source": [
    "<img src=\"Scratch.png\"\n",
    "     alt=\"Scratch solution\"\n",
    "     width=\"800\"/>"
   ]
  },
  {
   "cell_type": "markdown",
   "metadata": {},
   "source": [
    "## And now in Python !\n",
    "Let's create a function that prepares your backpack !"
   ]
  },
  {
   "cell_type": "code",
   "execution_count": 18,
   "metadata": {},
   "outputs": [],
   "source": [
    "def make_backpack(my_backpack, item1, item2, item3 ):\n",
    "    my_backpack.clear()\n",
    "    my_backpack.append(item1)\n",
    "    my_backpack.append(item2)\n",
    "    my_backpack.append(item3)\n",
    "    return my_backpack"
   ]
  },
  {
   "cell_type": "code",
   "execution_count": 19,
   "metadata": {},
   "outputs": [
    {
     "name": "stdout",
     "output_type": "stream",
     "text": [
      "tuesday backpack:  ['water', 'english notes', 'maths notebook']\n",
      "wednesday backpack:  ['computer science notes', 'water', 'french notebook']\n"
     ]
    }
   ],
   "source": [
    "my_backpack = [\"water\", \"english notes\", \"maths notebook\"]\n",
    "print(\"tuesday backpack: \", my_backpack)\n",
    "\n",
    "my_backpack = make_backpack(my_backpack, \"computer science notes\", \"water\", \"french notebook\")\n",
    "\n",
    "print(\"wednesday backpack: \", my_backpack)"
   ]
  },
  {
   "cell_type": "markdown",
   "metadata": {
    "id": "RO1TDqtIUCwb"
   },
   "source": [
    "**Let's define what a function is:** \n",
    "\n",
    "A <strong><span style=\"color:#8e44ad\">function</span></strong> is a <strong><span style=\"color:#8e44ad\"> named structured block of code</span></strong> that fulfills <strong><span style=\"color:#8e44ad\">a single</span></strong> specific purpose. A function can accept <strong><span style=\"color:#8e44ad\">input</span></strong> values <strong><span style=\"color:#8e44ad\">(parameters)</span></strong>, <strong><span style=\"color:#8e44ad\">process</span></strong> them, and optionally <strong><span style=\"color:#8e44ad\">return a result</span></strong>.\n",
    "\n",
    "The advantage of functions is that they are <strong><span style=\"color:#8e44ad\">reusable</span></strong> and therefore prevent code repetition in our programs. Furthermore, defining functions helps us to <strong><span style=\"color:#8e44ad\">oraganize</span></strong> our program in smaller and very modular structures."
   ]
  },
  {
   "cell_type": "markdown",
   "metadata": {},
   "source": [
    "You may have seen in our previous example that there are <strong><span style=\"color:#8e44ad\">two steps</span></strong> in using functions:\n",
    " * <strong><span style=\"color:#8e44ad\">defining</span></strong> the function\n",
    " * <strong><span style=\"color:#8e44ad\">calling</span></strong> the function"
   ]
  },
  {
   "cell_type": "markdown",
   "metadata": {
    "id": "Ls4oRgGquCBw"
   },
   "source": [
    "## Defining a function\n",
    "Defining a function means creating the <strong><span style=\"color:#8e44ad\">theoretical</span></strong> template for a task. "
   ]
  },
  {
   "cell_type": "markdown",
   "metadata": {},
   "source": [
    "Let's define a function that performs the average of a list:"
   ]
  },
  {
   "cell_type": "code",
   "execution_count": 20,
   "metadata": {
    "colab": {
     "base_uri": "https://localhost:8080/"
    },
    "id": "l1qxFsssuBL6",
    "outputId": "7a51cc9f-dca0-44eb-f974-fa5b3292d591"
   },
   "outputs": [],
   "source": [
    "def average(numbers: list) -> float:\n",
    "    average = sum(numbers) / len(numbers)\n",
    "    return average"
   ]
  },
  {
   "cell_type": "markdown",
   "metadata": {
    "id": "jmzE3RGpvH8D"
   },
   "source": [
    "There are many important elements inside a function definition:\n",
    "- The `def` keyword to <strong><span style=\"color:#8e44ad\">start the function definition</span></strong>.\n",
    "- A <strong><span style=\"color:#8e44ad\">name</span></strong> for your function, in this case `average`.\n",
    "- <strong><span style=\"color:#8e44ad\">Parentheses</span></strong> after its name `()`\n",
    "- <strong><span style=\"color:#8e44ad\">Parameters</span></strong> inside the parentheses, `numbers: list`. Here we have one parameter named `numbers` of type `list`. The parameters are the <strong><span style=\"color:#8e44ad\">input</span></strong> of the function. We are allowed to have several paramters or none.\n",
    "- The <strong><span style=\"color:#8e44ad\">return type</span></strong> of the function, here ` -> float`\n",
    "- A <strong><span style=\"color:#8e44ad\">body</span></strong> where the input is processed and operations are performed, here `average = sum(numbers) / len(numbers)`.\n",
    "- a <strong><span style=\"color:#8e44ad\">return statement</span></strong> at the end of the operations to give back the result to the main program, here `return average`. The value we return is the <strong><span style=\"color:#8e44ad\">output</span></strong> of the function (`return None` if nothing is specified). Usually we only have <strong><span style=\"color:#8e44ad\">one </span></strong> return value."
   ]
  },
  {
   "cell_type": "code",
   "execution_count": null,
   "metadata": {
    "id": "Vp764vmOvUQd"
   },
   "outputs": [],
   "source": []
  },
  {
   "cell_type": "markdown",
   "metadata": {
    "id": "6_VmP_KQyGMA"
   },
   "source": [
    "## Calling a function\n",
    "As you see when we execute the previous cell with our function definition, nothing is outputted. This is because we never called the function with actual values. We defined how it's supposed to work but never used it for real. <strong><span style=\"color:#8e44ad\">Calling the function means using the function </span></strong>\n",
    "To call a function we use the function's <strong><span style=\"color:#8e44ad\">name</span></strong> and pass <strong><span style=\"color:#8e44ad\">real values</span></strong> inside the parentheses (that correspond to the parameters we wrote in the function definition)."
   ]
  },
  {
   "cell_type": "code",
   "execution_count": 21,
   "metadata": {
    "colab": {
     "base_uri": "https://localhost:8080/"
    },
    "id": "MwkDnCtB1v7Y",
    "outputId": "c19b8e2e-d472-4f61-aed1-d5937ed1a041"
   },
   "outputs": [
    {
     "name": "stdout",
     "output_type": "stream",
     "text": [
      "4.2\n"
     ]
    }
   ],
   "source": [
    "print(average([7,2,3,4,5]))"
   ]
  },
  {
   "cell_type": "code",
   "execution_count": 22,
   "metadata": {
    "colab": {
     "base_uri": "https://localhost:8080/"
    },
    "id": "_YqoQkyTiak0",
    "outputId": "fc7ae4c0-9046-44da-abc1-acc9e9aa2cab"
   },
   "outputs": [
    {
     "name": "stdout",
     "output_type": "stream",
     "text": [
      "4.2\n"
     ]
    }
   ],
   "source": [
    "my_list = [7,2,3,4,5]\n",
    "print(average(my_list))"
   ]
  },
  {
   "cell_type": "code",
   "execution_count": 23,
   "metadata": {},
   "outputs": [
    {
     "name": "stdout",
     "output_type": "stream",
     "text": [
      "4.2\n"
     ]
    }
   ],
   "source": [
    "my_list = [7,2,3,4,5]\n",
    "result = average(my_list)\n",
    "print(result)"
   ]
  },
  {
   "cell_type": "markdown",
   "metadata": {},
   "source": [
    "One of the main advantages of a function is that we <strong><span style=\"color:#8e44ad\">define</span></strong> the function <strong><span style=\"color:#8e44ad\">only once</span></strong> and then we can <strong><span style=\"color:#8e44ad\">call</span></strong> the function <strong><span style=\"color:#8e44ad\">as many times as we want</span></strong> !"
   ]
  },
  {
   "cell_type": "code",
   "execution_count": 24,
   "metadata": {},
   "outputs": [
    {
     "name": "stdout",
     "output_type": "stream",
     "text": [
      "4.5\n"
     ]
    }
   ],
   "source": [
    "print(average([7,2]))"
   ]
  },
  {
   "cell_type": "code",
   "execution_count": 25,
   "metadata": {},
   "outputs": [
    {
     "name": "stdout",
     "output_type": "stream",
     "text": [
      "1.0\n"
     ]
    }
   ],
   "source": [
    "print(average([1,1,1,1,1,1]))"
   ]
  },
  {
   "cell_type": "code",
   "execution_count": 26,
   "metadata": {},
   "outputs": [
    {
     "name": "stdout",
     "output_type": "stream",
     "text": [
      "16510.0\n"
     ]
    }
   ],
   "source": [
    "print(average([17, 32, 56, 67, 123, 98765]))"
   ]
  },
  {
   "cell_type": "code",
   "execution_count": 27,
   "metadata": {},
   "outputs": [
    {
     "name": "stdout",
     "output_type": "stream",
     "text": [
      "-9393.333333333334\n"
     ]
    }
   ],
   "source": [
    "print(average([4571, 0, -1, 32, -67856, 6894]))"
   ]
  },
  {
   "cell_type": "markdown",
   "metadata": {
    "colab": {
     "base_uri": "https://localhost:8080/"
    },
    "id": "MLbz4UwPiatm",
    "outputId": "3fbec6cd-8929-4917-9bb9-699f0b4a5053"
   },
   "source": [
    "## Let's test your understanding"
   ]
  },
  {
   "cell_type": "code",
   "execution_count": 28,
   "metadata": {
    "id": "gO_W-g_PUIAs"
   },
   "outputs": [],
   "source": [
    "def addition(a :int, b: int) -> int:\n",
    "    c = a + b \n",
    "    return c"
   ]
  },
  {
   "cell_type": "markdown",
   "metadata": {},
   "source": [
    "* Is this the function definition or calling the function ? How do you know ?\n",
    "* What is the function name ? \n",
    "* How many parameters do we have ?\n",
    "* What are the types of the parameters ?\n",
    "* What is the function doing ? \n",
    "* What does the function return ? \n",
    "* What type is the value that the function returns ?"
   ]
  },
  {
   "cell_type": "code",
   "execution_count": 29,
   "metadata": {},
   "outputs": [
    {
     "name": "stdout",
     "output_type": "stream",
     "text": [
      "7\n"
     ]
    }
   ],
   "source": [
    "print(addition(3, 4))"
   ]
  },
  {
   "cell_type": "code",
   "execution_count": 30,
   "metadata": {},
   "outputs": [
    {
     "name": "stdout",
     "output_type": "stream",
     "text": [
      "3\n"
     ]
    }
   ],
   "source": [
    "a = 1\n",
    "b = 2\n",
    "print(addition(a, b))"
   ]
  },
  {
   "cell_type": "code",
   "execution_count": 31,
   "metadata": {},
   "outputs": [
    {
     "name": "stdout",
     "output_type": "stream",
     "text": [
      "10\n"
     ]
    }
   ],
   "source": [
    "num1 = 6\n",
    "num2 = 4\n",
    "result = addition(num1, num2)\n",
    "print(result)"
   ]
  },
  {
   "cell_type": "code",
   "execution_count": 32,
   "metadata": {},
   "outputs": [
    {
     "ename": "TypeError",
     "evalue": "addition() missing 1 required positional argument: 'b'",
     "output_type": "error",
     "traceback": [
      "\u001b[0;31m---------------------------------------------------------------------------\u001b[0m",
      "\u001b[0;31mTypeError\u001b[0m                                 Traceback (most recent call last)",
      "Input \u001b[0;32mIn [32]\u001b[0m, in \u001b[0;36m<cell line: 3>\u001b[0;34m()\u001b[0m\n\u001b[1;32m      1\u001b[0m a \u001b[38;5;241m=\u001b[39m \u001b[38;5;241m1\u001b[39m\n\u001b[1;32m      2\u001b[0m b \u001b[38;5;241m=\u001b[39m \u001b[38;5;241m2\u001b[39m\n\u001b[0;32m----> 3\u001b[0m \u001b[38;5;28mprint\u001b[39m(\u001b[43maddition\u001b[49m\u001b[43m(\u001b[49m\u001b[43ma\u001b[49m\u001b[43m)\u001b[49m)\n",
      "\u001b[0;31mTypeError\u001b[0m: addition() missing 1 required positional argument: 'b'"
     ]
    }
   ],
   "source": [
    "a = 1\n",
    "b = 2\n",
    "print(addition(a))"
   ]
  },
  {
   "cell_type": "code",
   "execution_count": 33,
   "metadata": {
    "id": "rmehXUrQquFF"
   },
   "outputs": [],
   "source": [
    "def my_loop() -> int:\n",
    "    for i in range(9):\n",
    "        return i"
   ]
  },
  {
   "cell_type": "code",
   "execution_count": 34,
   "metadata": {
    "colab": {
     "base_uri": "https://localhost:8080/"
    },
    "id": "65N14t0cq6Tn",
    "outputId": "fc0c7add-ff01-451c-ae2d-87569c43b633"
   },
   "outputs": [
    {
     "name": "stdout",
     "output_type": "stream",
     "text": [
      "0\n"
     ]
    }
   ],
   "source": [
    "print(my_loop())"
   ]
  },
  {
   "cell_type": "code",
   "execution_count": 35,
   "metadata": {
    "colab": {
     "base_uri": "https://localhost:8080/"
    },
    "id": "-EMV2CFlqjZP",
    "outputId": "a451273f-f2ff-4dd7-8f81-1237baaa431b",
    "scrolled": true
   },
   "outputs": [
    {
     "name": "stdout",
     "output_type": "stream",
     "text": [
      "0\n",
      "1\n",
      "2\n",
      "3\n",
      "4\n",
      "5\n",
      "6\n",
      "7\n",
      "8\n"
     ]
    }
   ],
   "source": [
    "for i in range(9):\n",
    "    print(i)"
   ]
  },
  {
   "cell_type": "code",
   "execution_count": 36,
   "metadata": {},
   "outputs": [],
   "source": [
    "def say_hello(name: str) -> None:\n",
    "    print(\"Hi \" + name)"
   ]
  },
  {
   "cell_type": "code",
   "execution_count": 37,
   "metadata": {},
   "outputs": [
    {
     "name": "stdout",
     "output_type": "stream",
     "text": [
      "Hi camille\n"
     ]
    }
   ],
   "source": [
    "result = say_hello(\"camille\")"
   ]
  },
  {
   "cell_type": "code",
   "execution_count": 38,
   "metadata": {},
   "outputs": [
    {
     "name": "stdout",
     "output_type": "stream",
     "text": [
      "Hi camille\n",
      "None\n"
     ]
    }
   ],
   "source": [
    "result = say_hello(\"camille\")\n",
    "print(result)"
   ]
  },
  {
   "cell_type": "code",
   "execution_count": 39,
   "metadata": {},
   "outputs": [
    {
     "name": "stdout",
     "output_type": "stream",
     "text": [
      "Hi camille\n",
      "None\n"
     ]
    }
   ],
   "source": [
    "print(say_hello(\"camille\"))"
   ]
  },
  {
   "cell_type": "code",
   "execution_count": 40,
   "metadata": {},
   "outputs": [],
   "source": [
    "def other_addition(a :int, b: int) -> int:\n",
    "    c = a + b \n",
    "    print(c)"
   ]
  },
  {
   "cell_type": "code",
   "execution_count": 41,
   "metadata": {},
   "outputs": [
    {
     "name": "stdout",
     "output_type": "stream",
     "text": [
      "4\n",
      "None\n"
     ]
    }
   ],
   "source": [
    "print(other_addition(1,3))"
   ]
  },
  {
   "cell_type": "code",
   "execution_count": 42,
   "metadata": {},
   "outputs": [
    {
     "name": "stdout",
     "output_type": "stream",
     "text": [
      "4\n",
      "None\n"
     ]
    }
   ],
   "source": [
    "result = other_addition(1,3)\n",
    "print(result)"
   ]
  },
  {
   "cell_type": "markdown",
   "metadata": {},
   "source": [
    "So <strong><span style=\"color:#8e44ad\">by default</span></strong> our function <strong><span style=\"color:#8e44ad\">returns None</span></strong> when no return statement is written !"
   ]
  },
  {
   "cell_type": "markdown",
   "metadata": {},
   "source": [
    "## Your turn ! \n",
    "Write the function `is_odd()` to check if a number is odd. The function takes as input the an integer and outputs a boolean"
   ]
  },
  {
   "cell_type": "code",
   "execution_count": null,
   "metadata": {},
   "outputs": [],
   "source": [
    "# function definition here"
   ]
  },
  {
   "cell_type": "code",
   "execution_count": null,
   "metadata": {},
   "outputs": [],
   "source": [
    "# calling the function here"
   ]
  },
  {
   "cell_type": "code",
   "execution_count": null,
   "metadata": {},
   "outputs": [],
   "source": []
  },
  {
   "cell_type": "markdown",
   "metadata": {},
   "source": [
    "In your own words differentiate between the return statement and the print() function:"
   ]
  },
  {
   "cell_type": "code",
   "execution_count": null,
   "metadata": {},
   "outputs": [],
   "source": []
  },
  {
   "cell_type": "markdown",
   "metadata": {
    "id": "5mYY7YQ8zlmR"
   },
   "source": [
    "## Global and local variables "
   ]
  },
  {
   "cell_type": "markdown",
   "metadata": {
    "id": "MC4KDf870deI"
   },
   "source": [
    "The variables we use <strong><span style=\"color:#8e44ad\">inside our function definitions</span></strong> are called <strong><span style=\"color:#8e44ad\">local variables</span></strong>.  \n",
    "In fact they are used <strong><span style=\"color:#8e44ad\">only</span></strong> inside the function definitions.    \n",
    "This is for example the case for `a`, `b` and `c`. "
   ]
  },
  {
   "cell_type": "code",
   "execution_count": 44,
   "metadata": {
    "id": "K91HpWvOmmCD"
   },
   "outputs": [],
   "source": [
    "def addition(a :int, b: int) -> int:\n",
    "    c = a + b \n",
    "    return c"
   ]
  },
  {
   "cell_type": "code",
   "execution_count": 45,
   "metadata": {
    "colab": {
     "base_uri": "https://localhost:8080/",
     "height": 204
    },
    "id": "_U0VcNeQ0JRL",
    "outputId": "f7f37ea8-1f4b-43ca-adf2-58d6ce7505c3"
   },
   "outputs": [
    {
     "name": "stdout",
     "output_type": "stream",
     "text": [
      "3\n"
     ]
    },
    {
     "ename": "NameError",
     "evalue": "name 'c' is not defined",
     "output_type": "error",
     "traceback": [
      "\u001b[0;31m---------------------------------------------------------------------------\u001b[0m",
      "\u001b[0;31mNameError\u001b[0m                                 Traceback (most recent call last)",
      "Input \u001b[0;32mIn [45]\u001b[0m, in \u001b[0;36m<cell line: 2>\u001b[0;34m()\u001b[0m\n\u001b[1;32m      1\u001b[0m \u001b[38;5;28mprint\u001b[39m(addition(\u001b[38;5;241m1\u001b[39m,\u001b[38;5;241m2\u001b[39m))\n\u001b[0;32m----> 2\u001b[0m \u001b[38;5;28mprint\u001b[39m(\u001b[43mc\u001b[49m)\n",
      "\u001b[0;31mNameError\u001b[0m: name 'c' is not defined"
     ]
    }
   ],
   "source": [
    "print(addition(1,2))\n",
    "print(c)"
   ]
  },
  {
   "cell_type": "code",
   "execution_count": 46,
   "metadata": {
    "colab": {
     "base_uri": "https://localhost:8080/"
    },
    "id": "tlbk__x5zzjx",
    "outputId": "f9246933-d450-4920-e084-93b6e53a75e6"
   },
   "outputs": [
    {
     "name": "stdout",
     "output_type": "stream",
     "text": [
      "3\n",
      "1\n"
     ]
    }
   ],
   "source": [
    "print(addition(1,2))\n",
    "print(a)"
   ]
  },
  {
   "cell_type": "code",
   "execution_count": 47,
   "metadata": {
    "colab": {
     "base_uri": "https://localhost:8080/"
    },
    "id": "UhMHLdGq0JM5",
    "outputId": "6c0c1de2-3ad5-4872-cf90-ff512e2c1c06"
   },
   "outputs": [
    {
     "name": "stdout",
     "output_type": "stream",
     "text": [
      "3\n",
      "2\n"
     ]
    }
   ],
   "source": [
    "print(addition(1,2))\n",
    "print(b)"
   ]
  },
  {
   "cell_type": "markdown",
   "metadata": {
    "id": "ev9HZoEx6UJo"
   },
   "source": [
    "Why do the variables `a` and `b` print something and not throw an error like for the variable `c`?"
   ]
  },
  {
   "cell_type": "markdown",
   "metadata": {
    "id": "a7ho9mHn2Ijd"
   },
   "source": [
    "The variables we use <strong><span style=\"color:#8e44ad\">outside of functions</span></strong>s are called <strong><span style=\"color:#8e44ad\">global variables</span></strong>.\n",
    "\n",
    "These variables are <strong><span style=\"color:#8e44ad\">accessible everywhere in our programs</span></strong>, even in the function definitions.  \n",
    "This is the case here for example with `c`, `num1` and `num2` that we defined previously in our notebook. \n",
    "\n",
    "By default, in a function, python will first try to find a reference to a local variable and then to a global variable. "
   ]
  },
  {
   "cell_type": "code",
   "execution_count": 48,
   "metadata": {
    "id": "LtxjDy310JUX"
   },
   "outputs": [],
   "source": [
    "def addition_global() -> int:\n",
    "    return a + b"
   ]
  },
  {
   "cell_type": "code",
   "execution_count": 49,
   "metadata": {
    "colab": {
     "base_uri": "https://localhost:8080/"
    },
    "id": "2_qPcnMY0JXp",
    "outputId": "4d765138-6d50-4089-82f3-648762e7444b"
   },
   "outputs": [
    {
     "name": "stdout",
     "output_type": "stream",
     "text": [
      "3\n"
     ]
    }
   ],
   "source": [
    "print(addition_global())"
   ]
  },
  {
   "cell_type": "markdown",
   "metadata": {
    "id": "_uqGLYjZXHvY"
   },
   "source": [
    "In the vast majority of cases, it is a <strong><span style=\"color:#8e44ad\">very bad practice to use global variables\n",
    "    in a function </span></strong>  instead of passing this variable as a parameter (and thus making it local).  \n",
    "\n",
    "Indeed this makes your functions more difficult to test and induces more risks of bugs.\n",
    "For example if your global variable changes name you would have to change all your function definitions to keep your code working. This is not the case if the variable is passed as a parameter.    \n",
    " \n",
    "It is therefore preferable to <strong><span style=\"color:#8e44ad\">pass as parameters</span></strong> the variables that you are going to use in a function."
   ]
  },
  {
   "cell_type": "code",
   "execution_count": 50,
   "metadata": {
    "id": "qCxEHQgkZBxU"
   },
   "outputs": [],
   "source": [
    "def addition(a :int, b: int) -> int:\n",
    "    c = a + b \n",
    "    return c"
   ]
  },
  {
   "cell_type": "markdown",
   "metadata": {
    "id": "OIpIKHQpnp5w"
   },
   "source": [
    "### Let's test your understanding"
   ]
  },
  {
   "cell_type": "code",
   "execution_count": 51,
   "metadata": {
    "id": "RlKD9ySXkB9x"
   },
   "outputs": [],
   "source": [
    "def new_addition(a: int, b: int) -> None:\n",
    "    result = a + b \n",
    "    print(\"This function works great\")\n",
    "    return None"
   ]
  },
  {
   "cell_type": "code",
   "execution_count": 52,
   "metadata": {
    "colab": {
     "base_uri": "https://localhost:8080/"
    },
    "id": "f6rJT0vtj44h",
    "outputId": "20ed9374-4caa-4dec-ea6e-19989d13b8fd"
   },
   "outputs": [
    {
     "name": "stdout",
     "output_type": "stream",
     "text": [
      "This function works great\n",
      "None\n"
     ]
    }
   ],
   "source": [
    "print(new_addition(1,2))"
   ]
  },
  {
   "cell_type": "code",
   "execution_count": 53,
   "metadata": {},
   "outputs": [
    {
     "name": "stdout",
     "output_type": "stream",
     "text": [
      "This function works great\n"
     ]
    }
   ],
   "source": [
    "result = new_addition(1,2)"
   ]
  },
  {
   "cell_type": "code",
   "execution_count": 54,
   "metadata": {},
   "outputs": [
    {
     "name": "stdout",
     "output_type": "stream",
     "text": [
      "This function works great\n",
      "None\n"
     ]
    }
   ],
   "source": [
    "result = new_addition(1,2)\n",
    "print(result)"
   ]
  },
  {
   "cell_type": "code",
   "execution_count": 55,
   "metadata": {
    "id": "JA1c5HWAk6Qo"
   },
   "outputs": [],
   "source": [
    "def new_addition(num1, num2):\n",
    "    result = num1 + num2 \n",
    "    print(stuff)"
   ]
  },
  {
   "cell_type": "code",
   "execution_count": 56,
   "metadata": {
    "colab": {
     "base_uri": "https://localhost:8080/"
    },
    "id": "ZfMgYJz0j5Bi",
    "outputId": "5976a665-d2e3-41df-9bc4-fd1c57eb9706"
   },
   "outputs": [
    {
     "ename": "NameError",
     "evalue": "name 'stuff' is not defined",
     "output_type": "error",
     "traceback": [
      "\u001b[0;31m---------------------------------------------------------------------------\u001b[0m",
      "\u001b[0;31mNameError\u001b[0m                                 Traceback (most recent call last)",
      "Input \u001b[0;32mIn [56]\u001b[0m, in \u001b[0;36m<cell line: 1>\u001b[0;34m()\u001b[0m\n\u001b[0;32m----> 1\u001b[0m \u001b[38;5;28mprint\u001b[39m(\u001b[43mnew_addition\u001b[49m\u001b[43m(\u001b[49m\u001b[38;5;241;43m1\u001b[39;49m\u001b[43m,\u001b[49m\u001b[38;5;241;43m3\u001b[39;49m\u001b[43m)\u001b[49m)\n",
      "Input \u001b[0;32mIn [55]\u001b[0m, in \u001b[0;36mnew_addition\u001b[0;34m(num1, num2)\u001b[0m\n\u001b[1;32m      1\u001b[0m \u001b[38;5;28;01mdef\u001b[39;00m \u001b[38;5;21mnew_addition\u001b[39m(num1, num2):\n\u001b[1;32m      2\u001b[0m     result \u001b[38;5;241m=\u001b[39m num1 \u001b[38;5;241m+\u001b[39m num2 \n\u001b[0;32m----> 3\u001b[0m     \u001b[38;5;28mprint\u001b[39m(\u001b[43mstuff\u001b[49m)\n",
      "\u001b[0;31mNameError\u001b[0m: name 'stuff' is not defined"
     ]
    }
   ],
   "source": [
    "print(new_addition(1,3))"
   ]
  },
  {
   "cell_type": "code",
   "execution_count": 57,
   "metadata": {
    "colab": {
     "base_uri": "https://localhost:8080/",
     "height": 168
    },
    "id": "OsbdL74CmJIf",
    "outputId": "e0f7c591-7692-4d0b-e1ca-83820df19146"
   },
   "outputs": [
    {
     "ename": "NameError",
     "evalue": "name 'stuff' is not defined",
     "output_type": "error",
     "traceback": [
      "\u001b[0;31m---------------------------------------------------------------------------\u001b[0m",
      "\u001b[0;31mNameError\u001b[0m                                 Traceback (most recent call last)",
      "Input \u001b[0;32mIn [57]\u001b[0m, in \u001b[0;36m<cell line: 1>\u001b[0;34m()\u001b[0m\n\u001b[0;32m----> 1\u001b[0m \u001b[38;5;28mprint\u001b[39m(\u001b[43mstuff\u001b[49m)\n",
      "\u001b[0;31mNameError\u001b[0m: name 'stuff' is not defined"
     ]
    }
   ],
   "source": [
    "print(stuff)"
   ]
  },
  {
   "cell_type": "code",
   "execution_count": 58,
   "metadata": {
    "colab": {
     "base_uri": "https://localhost:8080/",
     "height": 186
    },
    "id": "AobXr46cj480",
    "outputId": "f63ecc93-bf8e-41b6-fc71-e25f7d12e15a"
   },
   "outputs": [
    {
     "ename": "TypeError",
     "evalue": "'int' object is not callable",
     "output_type": "error",
     "traceback": [
      "\u001b[0;31m---------------------------------------------------------------------------\u001b[0m",
      "\u001b[0;31mTypeError\u001b[0m                                 Traceback (most recent call last)",
      "Input \u001b[0;32mIn [58]\u001b[0m, in \u001b[0;36m<cell line: 2>\u001b[0;34m()\u001b[0m\n\u001b[1;32m      1\u001b[0m new_addition \u001b[38;5;241m=\u001b[39m \u001b[38;5;241m3\u001b[39m\n\u001b[0;32m----> 2\u001b[0m \u001b[38;5;28mprint\u001b[39m(\u001b[43mnew_addition\u001b[49m\u001b[43m(\u001b[49m\u001b[38;5;241;43m2\u001b[39;49m\u001b[43m,\u001b[49m\u001b[38;5;241;43m3\u001b[39;49m\u001b[43m)\u001b[49m)\n",
      "\u001b[0;31mTypeError\u001b[0m: 'int' object is not callable"
     ]
    }
   ],
   "source": [
    "new_addition = 3\n",
    "print(new_addition(2,3))"
   ]
  },
  {
   "cell_type": "code",
   "execution_count": 59,
   "metadata": {
    "colab": {
     "base_uri": "https://localhost:8080/"
    },
    "id": "RkWUJkDIBRbE",
    "outputId": "e4f93aa9-ae66-4831-f922-4e327dc3fdad"
   },
   "outputs": [
    {
     "name": "stdout",
     "output_type": "stream",
     "text": [
      "15\n",
      "15\n",
      "12\n"
     ]
    }
   ],
   "source": [
    "def printing_number():\n",
    "    x = 15\n",
    "    print(x)\n",
    "    return x\n",
    "x = 12\n",
    "print(printing_number())\n",
    "print(x)"
   ]
  },
  {
   "cell_type": "markdown",
   "metadata": {},
   "source": [
    "## Testing our functions\n",
    "\n",
    "<strong><span style=\"color:#8e44ad\">Testing</span></strong> functions is crucial in programming for several reasons:\n",
    "* First, it helps ensure that your functions <strong><span style=\"color:#8e44ad\">work correctly</span></strong> and produce the <strong><span style=\"color:#8e44ad\">expected results</span></strong>, <strong><span style=\"color:#8e44ad\">preventing potential error</span></strong> and <strong><span style=\"color:#8e44ad\">bugs</span></strong> in your code. \n",
    "* Second, it allows you to catch and address issues <strong><span style=\"color:#8e44ad\">early</span></strong> in the development process, saving time and effort in debugging later.\n",
    "* Finally, testing provides <strong><span style=\"color:#8e44ad\">documentation</span></strong> and <strong><span style=\"color:#8e44ad\">examples</span></strong> of how to use your functions, making your code more reliable and maintainable for both yourself and other developers.\n",
    "\n",
    "For example we can define a few <strong><span style=\"color:#8e44ad\">example usage cases</span></strong> to check that our `average()` function works well"
   ]
  },
  {
   "cell_type": "code",
   "execution_count": 63,
   "metadata": {},
   "outputs": [],
   "source": [
    "def average(numbers: list) -> float:\n",
    "    average = sum(numbers) / len(numbers)\n",
    "    return average"
   ]
  },
  {
   "cell_type": "code",
   "execution_count": 64,
   "metadata": {},
   "outputs": [
    {
     "name": "stdout",
     "output_type": "stream",
     "text": [
      "2.0\n"
     ]
    }
   ],
   "source": [
    "print(average([1,2,3]))"
   ]
  },
  {
   "cell_type": "markdown",
   "metadata": {},
   "source": [
    "We know that the average of `[1,2,3]` is `2.0` so we can write a <strong><span style=\"color:#8e44ad\">test</span></strong> to check if this is the output we get:"
   ]
  },
  {
   "cell_type": "code",
   "execution_count": 65,
   "metadata": {},
   "outputs": [],
   "source": [
    "assert average([1,2,3]) == 2.0"
   ]
  },
  {
   "cell_type": "markdown",
   "metadata": {},
   "source": [
    "The <strong><span style=\"color:#8e44ad\">assert</span></strong> keyword check if the equality on the right is True. If it's `True` we get <strong><span style=\"color:#8e44ad\">no output</span></strong> this means everything worked well. If it's `False` we get an <strong><span style=\"color:#8e44ad\">Assertion error</span></strong> this means your function does not work ! Be cautious that your tests are well written to make sure you have the right behavior."
   ]
  },
  {
   "cell_type": "code",
   "execution_count": 66,
   "metadata": {},
   "outputs": [
    {
     "ename": "AssertionError",
     "evalue": "",
     "output_type": "error",
     "traceback": [
      "\u001b[0;31m---------------------------------------------------------------------------\u001b[0m",
      "\u001b[0;31mAssertionError\u001b[0m                            Traceback (most recent call last)",
      "Input \u001b[0;32mIn [66]\u001b[0m, in \u001b[0;36m<cell line: 1>\u001b[0;34m()\u001b[0m\n\u001b[0;32m----> 1\u001b[0m \u001b[38;5;28;01massert\u001b[39;00m average([\u001b[38;5;241m1\u001b[39m,\u001b[38;5;241m2\u001b[39m,\u001b[38;5;241m3\u001b[39m]) \u001b[38;5;241m==\u001b[39m \u001b[38;5;241m3.0\u001b[39m\n",
      "\u001b[0;31mAssertionError\u001b[0m: "
     ]
    }
   ],
   "source": [
    "assert average([1,2,3]) == 3.0"
   ]
  },
  {
   "cell_type": "markdown",
   "metadata": {},
   "source": [
    "Usually we define <strong><span style=\"color:#8e44ad\">several tests</span></strong> for a function, a few with <strong><span style=\"color:#8e44ad\">normal data</span></strong>, a few with <strong><span style=\"color:#8e44ad\">extreme data</span></strong> and a few with <strong><span style=\"color:#8e44ad\">abnormal data</span></strong>. \n"
   ]
  },
  {
   "cell_type": "code",
   "execution_count": 67,
   "metadata": {},
   "outputs": [
    {
     "ename": "ZeroDivisionError",
     "evalue": "division by zero",
     "output_type": "error",
     "traceback": [
      "\u001b[0;31m---------------------------------------------------------------------------\u001b[0m",
      "\u001b[0;31mZeroDivisionError\u001b[0m                         Traceback (most recent call last)",
      "Input \u001b[0;32mIn [67]\u001b[0m, in \u001b[0;36m<cell line: 13>\u001b[0;34m()\u001b[0m\n\u001b[1;32m     11\u001b[0m \u001b[38;5;66;03m#Abnormal data\u001b[39;00m\n\u001b[1;32m     12\u001b[0m \u001b[38;5;28;01massert\u001b[39;00m average([\u001b[38;5;241m1.8\u001b[39m,\u001b[38;5;241m2.5\u001b[39m,\u001b[38;5;241m3.2\u001b[39m]) \u001b[38;5;241m==\u001b[39m \u001b[38;5;241m2.5\u001b[39m\n\u001b[0;32m---> 13\u001b[0m \u001b[38;5;28;01massert\u001b[39;00m \u001b[43maverage\u001b[49m\u001b[43m(\u001b[49m\u001b[43m[\u001b[49m\u001b[43m]\u001b[49m\u001b[43m)\u001b[49m \u001b[38;5;241m==\u001b[39m \u001b[38;5;241m0.0\u001b[39m\n",
      "Input \u001b[0;32mIn [63]\u001b[0m, in \u001b[0;36maverage\u001b[0;34m(numbers)\u001b[0m\n\u001b[1;32m      1\u001b[0m \u001b[38;5;28;01mdef\u001b[39;00m \u001b[38;5;21maverage\u001b[39m(numbers: \u001b[38;5;28mlist\u001b[39m) \u001b[38;5;241m-\u001b[39m\u001b[38;5;241m>\u001b[39m \u001b[38;5;28mfloat\u001b[39m:\n\u001b[0;32m----> 2\u001b[0m     average \u001b[38;5;241m=\u001b[39m \u001b[38;5;28;43msum\u001b[39;49m\u001b[43m(\u001b[49m\u001b[43mnumbers\u001b[49m\u001b[43m)\u001b[49m\u001b[43m \u001b[49m\u001b[38;5;241;43m/\u001b[39;49m\u001b[43m \u001b[49m\u001b[38;5;28;43mlen\u001b[39;49m\u001b[43m(\u001b[49m\u001b[43mnumbers\u001b[49m\u001b[43m)\u001b[49m\n\u001b[1;32m      3\u001b[0m     \u001b[38;5;28;01mreturn\u001b[39;00m average\n",
      "\u001b[0;31mZeroDivisionError\u001b[0m: division by zero"
     ]
    }
   ],
   "source": [
    "#Normal data\n",
    "assert average([1,2,3]) == 2.0\n",
    "assert average([1,2,3,4,5]) == 3.0\n",
    "assert average([11,7,5,-2,6,-15]) == 2.0\n",
    "\n",
    "#Extreme data\n",
    "assert average([1,1,1,1,1,1,1]) == 1.0\n",
    "assert average([1]) == 1.0\n",
    "assert average([108765432,12345678,1235678,345678,456789,456789]) == 20601007.333333332\n",
    "\n",
    "#Abnormal data\n",
    "assert average([1.8,2.5,3.2]) == 2.5\n",
    "assert average([]) == 0.0"
   ]
  },
  {
   "cell_type": "markdown",
   "metadata": {},
   "source": [
    "* Which tests does our function pass and which are failing ?\n",
    "* How could you modify the function definition so all tests are successful ?"
   ]
  },
  {
   "cell_type": "markdown",
   "metadata": {},
   "source": [
    "<h2><strong><span style=\"color:#3498db\">Pause and Recall</span></strong></h2>\n",
    "\n",
    "<ul>\n",
    "\t<li><strong><span style=\"color:#3498db\">What did we learn so far ?&nbsp;</span></strong></li>\n",
    "\t<li><strong><span style=\"color:#3498db\">What are some definitions that you might need to remember ?&nbsp;</span></strong></li>\n",
    "\t<li><strong><span style=\"color:#3498db\">What are special cases that you might need to remember ?&nbsp;</span></strong></li>\n",
    "\t<li><strong><span style=\"color:#3498db\">What might be possible questions on the next test ?</span></strong></li>\n",
    "</ul>"
   ]
  },
  {
   "cell_type": "markdown",
   "metadata": {},
   "source": [
    "## Exercices - Functions"
   ]
  },
  {
   "cell_type": "markdown",
   "metadata": {
    "id": "TIqfeLPseovC"
   },
   "source": [
    "### Exercise 1\n",
    "Write a function named `double`, which takes a number as argument and returns its doubled value. "
   ]
  },
  {
   "cell_type": "code",
   "execution_count": null,
   "metadata": {
    "id": "wGL0982l1MTh"
   },
   "outputs": [],
   "source": [
    "# your function definition"
   ]
  },
  {
   "cell_type": "code",
   "execution_count": null,
   "metadata": {},
   "outputs": [],
   "source": [
    "# call your function to check it's behavior"
   ]
  },
  {
   "cell_type": "code",
   "execution_count": null,
   "metadata": {},
   "outputs": [],
   "source": [
    "#tests\n",
    "assert double(1) == 2\n",
    "assert double(8) == 16\n",
    "assert double(11) == 22\n",
    "assert double(0) == 0\n",
    "assert double(-2) == -4"
   ]
  },
  {
   "cell_type": "markdown",
   "metadata": {
    "id": "cnkfOhMVe2ze"
   },
   "source": [
    "### Exercise 2 \n",
    "Write a function called `subtraction` that takes 2 numbers as arguments and returns the subtraction of the 2 numbers. "
   ]
  },
  {
   "cell_type": "code",
   "execution_count": null,
   "metadata": {
    "id": "eWsUsuE91MyB"
   },
   "outputs": [],
   "source": [
    "# your function definition"
   ]
  },
  {
   "cell_type": "code",
   "execution_count": null,
   "metadata": {},
   "outputs": [],
   "source": [
    "# call your function to check it's behavior"
   ]
  },
  {
   "cell_type": "code",
   "execution_count": null,
   "metadata": {},
   "outputs": [],
   "source": [
    "#tests\n",
    "assert subtraction(4,2) == 2\n",
    "assert subtraction(1,1) == 0\n",
    "assert subtraction(10,3) == 7\n",
    "assert subtraction(10,20) == -10\n",
    "assert subtraction(1245,3790) == -2545\n",
    "assert subtraction(0,0) == 0"
   ]
  },
  {
   "cell_type": "markdown",
   "metadata": {
    "id": "7S-k254lsD8L"
   },
   "source": [
    "### Exercise 3\n",
    "Write a function called `new_sum()` that adds all the numbers in a list, without using the `sum()` function"
   ]
  },
  {
   "cell_type": "code",
   "execution_count": null,
   "metadata": {
    "id": "drr5Ovab1NZY"
   },
   "outputs": [],
   "source": [
    "# your function definition"
   ]
  },
  {
   "cell_type": "code",
   "execution_count": null,
   "metadata": {},
   "outputs": [],
   "source": [
    "# call your function to check it's behavior"
   ]
  },
  {
   "cell_type": "code",
   "execution_count": null,
   "metadata": {},
   "outputs": [],
   "source": [
    "# tests\n",
    "assert new_sum([1,2,3]) == 6 \n",
    "assert new_sum([5,8,14,7,2]) == 36 \n",
    "assert new_sum([1,-3,-5,10,2,3]) == 8 \n",
    "assert new_sum([-10,10]) == 0 \n",
    "assert new_sum([1]) == 1 \n",
    "assert new_sum([]) == 0"
   ]
  },
  {
   "cell_type": "markdown",
   "metadata": {
    "id": "0KsSXWqbhSCk"
   },
   "source": [
    "### Exercise 4\n",
    "Write a function `f` that computes the value of f for a given x. Our function is 5x^2 -4x + 1/2"
   ]
  },
  {
   "cell_type": "code",
   "execution_count": null,
   "metadata": {
    "id": "CwS-T0Es1N5y"
   },
   "outputs": [],
   "source": [
    "# your function definition"
   ]
  },
  {
   "cell_type": "code",
   "execution_count": null,
   "metadata": {},
   "outputs": [],
   "source": [
    "# call your function to check it's behavior"
   ]
  },
  {
   "cell_type": "code",
   "execution_count": null,
   "metadata": {},
   "outputs": [],
   "source": [
    "#tests\n",
    "assert f(1) == 1.5\n",
    "assert f(2) == 12.5\n",
    "assert f(3) == 33.5\n",
    "assert f(56) == 15456.5\n",
    "assert f(-2) == 28.5\n",
    "assert f(-36.4) == 6770.9\n",
    "assert f(0) == 0.5"
   ]
  },
  {
   "cell_type": "markdown",
   "metadata": {
    "id": "VafHAap_ecQ1"
   },
   "source": [
    "### Exercise 5\n",
    "Write a function that takes a name as argument and prints \"Hello\" + your name. "
   ]
  },
  {
   "cell_type": "code",
   "execution_count": null,
   "metadata": {
    "id": "O7T0hsdC18LH"
   },
   "outputs": [],
   "source": [
    "# your function definition"
   ]
  },
  {
   "cell_type": "code",
   "execution_count": null,
   "metadata": {},
   "outputs": [],
   "source": [
    "# call your function to check it's behavior"
   ]
  },
  {
   "cell_type": "code",
   "execution_count": null,
   "metadata": {},
   "outputs": [],
   "source": []
  },
  {
   "cell_type": "markdown",
   "metadata": {
    "id": "6BYsuZQapJ44"
   },
   "source": [
    "### Exercise 6\n",
    "In a particular jurisdiction, cab fares consist of a base fare of €4.00, plus €0.25 for each kilometer driven.     \n",
    "Write a function named `taxi_fare()` that takes the distance traveled (in kilometers) as its only parameter and returns the total fare as its only result.    "
   ]
  },
  {
   "cell_type": "code",
   "execution_count": null,
   "metadata": {
    "id": "WG2njQYQ1PYx"
   },
   "outputs": [],
   "source": [
    "# your function definition"
   ]
  },
  {
   "cell_type": "code",
   "execution_count": null,
   "metadata": {},
   "outputs": [],
   "source": [
    "# call your function to check it's behavior"
   ]
  },
  {
   "cell_type": "code",
   "execution_count": null,
   "metadata": {},
   "outputs": [],
   "source": [
    "#tests\n",
    "assert taxi_fare(1) == 4.25\n",
    "assert taxi_fare(10) == 6.5\n",
    "assert taxi_fare(23) == 9.75\n",
    "assert taxi_fare(13) == 7.25\n",
    "assert taxi_fare(0) == 4.0\n",
    "assert taxi_fare(-10) == 4.0"
   ]
  },
  {
   "cell_type": "markdown",
   "metadata": {
    "id": "4xeTyikHpMEG"
   },
   "source": [
    "### Exercise 7\n",
    "Write a function that checks if an integer is odd and returns a boolean. \n",
    "\n",
    "Write your own tests to check if your function works correctly.\n"
   ]
  },
  {
   "cell_type": "code",
   "execution_count": null,
   "metadata": {
    "id": "i3xn-Z8-1P6w"
   },
   "outputs": [],
   "source": [
    "# your function definition"
   ]
  },
  {
   "cell_type": "code",
   "execution_count": null,
   "metadata": {},
   "outputs": [],
   "source": [
    "# call your function to check it's behavior"
   ]
  },
  {
   "cell_type": "markdown",
   "metadata": {
    "id": "DE9gPMOhr8w6"
   },
   "source": [
    "### Exercise 8\n",
    "Write a Python function to find the maximum of three numbers.\n",
    "\n",
    "Write your own tests to check if your function works correctly."
   ]
  },
  {
   "cell_type": "code",
   "execution_count": null,
   "metadata": {
    "id": "wOm5tp2_1QaI"
   },
   "outputs": [],
   "source": [
    "# your function definition"
   ]
  },
  {
   "cell_type": "code",
   "execution_count": null,
   "metadata": {},
   "outputs": [],
   "source": [
    "# call your function to check it's behavior"
   ]
  },
  {
   "cell_type": "markdown",
   "metadata": {
    "id": "tkbdv3BYpSjc"
   },
   "source": [
    "### Exercise 9\n",
    "Write a function named `filtering()` that takes as parameter a list of numbers and a number as a threshold and returns the list without all values above the threshold. "
   ]
  },
  {
   "cell_type": "code",
   "execution_count": null,
   "metadata": {
    "id": "nxlcNyHv_wPF"
   },
   "outputs": [],
   "source": [
    "# your function definition"
   ]
  },
  {
   "cell_type": "code",
   "execution_count": null,
   "metadata": {},
   "outputs": [],
   "source": [
    "# call your function to check it's behavior"
   ]
  },
  {
   "cell_type": "code",
   "execution_count": null,
   "metadata": {},
   "outputs": [],
   "source": [
    "#test\n",
    "assert filtering([1,2,3,4,5,6], 3) == [1, 2]\n",
    "assert filtering([1,2,3,4,5,6], 5) == [1, 2, 3, 4]\n",
    "assert filtering([1,2,3,4,5,6], 0) == []\n",
    "assert filtering([1,2,3,4,5,6], 1) == []\n",
    "assert filtering([1,2,3,4,5,6], 34) == [1,2,3,4,5,6]\n",
    "assert filtering([], 13) == []\n",
    "assert filtering([-3,5,8,-23,34,12,2,1,9], 0) == [-3, -23]"
   ]
  },
  {
   "cell_type": "markdown",
   "metadata": {},
   "source": [
    "### Exercise 10 - Self Reflection\n",
    "* What exercise were easy for you ? \n",
    "* What exercises were hard ?\n",
    "* What were these hardships and what how did you overcome those/what were the solutions ? \n",
    "* Did you create a set of study notes about this session ?"
   ]
  },
  {
   "cell_type": "code",
   "execution_count": null,
   "metadata": {},
   "outputs": [],
   "source": []
  },
  {
   "cell_type": "markdown",
   "metadata": {},
   "source": [
    "### Already done ? \n",
    "Continue training on [hackinscience](https://www.hackinscience.org/exercises/)"
   ]
  },
  {
   "cell_type": "markdown",
   "metadata": {
    "id": "BhNgP674_wnX"
   },
   "source": [
    "---\n",
    "# Bonus"
   ]
  },
  {
   "cell_type": "markdown",
   "metadata": {
    "id": "oVzuyuy9pO2q"
   },
   "source": [
    "### Exercise A\n",
    "\n",
    "Write a function that generates a random password. The password must have a random length between 7 and 10 characters. Each character must be chosen at random from positions 33 to 126 of the ASCII table. Your function will not take any parameters. It will return the randomly generated password as the only result."
   ]
  },
  {
   "cell_type": "code",
   "execution_count": null,
   "metadata": {
    "id": "G8FZtaPk1Q5C"
   },
   "outputs": [],
   "source": []
  },
  {
   "cell_type": "markdown",
   "metadata": {
    "id": "jBZE0eFipQpP"
   },
   "source": [
    "### Exercise B\n",
    "Write a function that takes as its only parameters two positive integers representing the numerator and denominator of a fraction. The body of the function must reduce the fraction to the lowest terms, then return the numerator and denominator of the reduced fraction as the result.      \n",
    "For example, if the parameters passed to the function are 6 and 63, the function should return 2 and 21. \n",
    "\n",
    "Write your own tests to check if your function works correctly.\n"
   ]
  },
  {
   "cell_type": "code",
   "execution_count": null,
   "metadata": {
    "id": "uQwPoQ9c1SUH"
   },
   "outputs": [],
   "source": []
  },
  {
   "cell_type": "markdown",
   "metadata": {
    "id": "4KN0xUwLTXU4"
   },
   "source": [
    "### Exercice C"
   ]
  },
  {
   "cell_type": "markdown",
   "metadata": {
    "id": "hK_V6EuhuBpD"
   },
   "source": [
    "Write a recursive function that allows us to count the sum of all the elements of a list that can contain a number n of lists and elements nested within it.\n",
    "\n",
    "For example the sum of all elements in the following list `[[1,2,3], 6, [7, 8, [2, 5, 7], 9], [2, 7, 8], 9, 1, 2,]` is `79`.\n",
    "\n",
    "Write your own tests to check if your function works correctly."
   ]
  },
  {
   "cell_type": "code",
   "execution_count": null,
   "metadata": {
    "id": "G6vpqdzRu3od"
   },
   "outputs": [],
   "source": []
  },
  {
   "cell_type": "markdown",
   "metadata": {
    "id": "5gvXKUqou369"
   },
   "source": [
    "#### What is a recursive function?"
   ]
  },
  {
   "cell_type": "markdown",
   "metadata": {
    "id": "2IyklmAoth9p"
   },
   "source": [
    "A recursive function is a function that keeps calling itself and executing its code until a condition is met to return a fixed result.     \n",
    "All recursive functions share a common structure consisting of two parts: the base case and the recursive case.\n",
    "\n",
    "To demonstrate this structure, let's write a recursive function to calculate n!:"
   ]
  },
  {
   "cell_type": "markdown",
   "metadata": {
    "id": "HhzlggFLuevm"
   },
   "source": [
    "1. Decompose the original problem into simpler instances of the same problem. This is the recursive case:       \n",
    "`n! = n x (n-1) x (n-2) x (n-3) ⋅⋅⋅⋅ x 3 x 2 x 1`.    \n",
    "`n! = n x (n-1)!`    "
   ]
  },
  {
   "cell_type": "markdown",
   "metadata": {
    "id": "JUG_23LdujgY"
   },
   "source": [
    "2. As the large problem is decomposed into less and less complex problems, these subproblems must eventually become so simple that they can be solved. This is the basic case:  \n",
    "`n! = n x (n-1)! `  \n",
    "n! = n x (n-1) x (n-2)!  \n",
    "`n! = n x (n-1) x (n-2) x (n-3)!`  \n",
    "`⋅`  \n",
    "`⋅`  \n",
    "`⋅`  \n",
    "`n! = n x (n-1) x (n-2) x (n-3) ⋅⋅⋅⋅ x 3!`   \n",
    "`n! = n x (n-1) x (n-2) x (n-3) ⋅⋅⋅⋅ x 3 x 2!`   \n",
    "`n! = n x (n-1) x (n-2) x (n-3) ⋅⋅⋅⋅ x 3 x 2 x 1!`  \n",
    "Here, 1! is our base case, and it is equal to 1."
   ]
  },
  {
   "cell_type": "code",
   "execution_count": null,
   "metadata": {
    "id": "OTy1jdj3155a"
   },
   "outputs": [],
   "source": [
    "def factorial_recursive(n: int) -> int:\n",
    "    # Base case: 1! = 1\n",
    "    if n == 1:\n",
    "        return 1\n",
    "\n",
    "    # Recursive case: n! = n * (n-1)!\n",
    "    else:\n",
    "        return n * factorial_recursive(n-1)"
   ]
  },
  {
   "cell_type": "code",
   "execution_count": null,
   "metadata": {
    "id": "Lkz_KDsG16Nh"
   },
   "outputs": [],
   "source": [
    "print(5*4*3*2*1)\n",
    "print(factorial_recursive(5))"
   ]
  },
  {
   "cell_type": "code",
   "execution_count": null,
   "metadata": {
    "id": "lMYilk8pol1R"
   },
   "outputs": [],
   "source": []
  }
 ],
 "metadata": {
  "colab": {
   "collapsed_sections": [
    "oVzuyuy9pO2q"
   ],
   "provenance": []
  },
  "kernelspec": {
   "display_name": "Python 3 (ipykernel)",
   "language": "python",
   "name": "python3"
  },
  "language_info": {
   "codemirror_mode": {
    "name": "ipython",
    "version": 3
   },
   "file_extension": ".py",
   "mimetype": "text/x-python",
   "name": "python",
   "nbconvert_exporter": "python",
   "pygments_lexer": "ipython3",
   "version": "3.9.16"
  }
 },
 "nbformat": 4,
 "nbformat_minor": 1
}
